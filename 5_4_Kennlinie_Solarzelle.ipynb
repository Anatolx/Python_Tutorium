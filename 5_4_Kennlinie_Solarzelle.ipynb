{
 "cells": [
  {
   "cell_type": "markdown",
   "id": "9f678006",
   "metadata": {},
   "source": [
    "## Kennlinien einer Solarzellen\n",
    "Im folgenden werden die Strom-Spannungs-Kennlinie (I-U-Kennlinie) und Leistungs-Spannungs-Kennlinie (P-U-Kennlinie) einer Solarzelle dargestellt. Die Messdaten sind in Excel-Dateien hinterlegt. Jede Messung wurde mehrfach wiederholt. Die Wiederholungen werden zur Mittelwertbildung genutzt.  "
   ]
  },
  {
   "cell_type": "code",
   "execution_count": null,
   "id": "c76b4350",
   "metadata": {},
   "outputs": [],
   "source": [
    "import matplotlib.pyplot as plt\n",
    "import seaborn as sb\n",
    "import pandas as pd"
   ]
  },
  {
   "cell_type": "markdown",
   "id": "b7ae6d2a",
   "metadata": {},
   "source": [
    "Immer wiederkehrende Funktionen definieren wir uns vorher hier: "
   ]
  },
  {
   "cell_type": "code",
   "execution_count": null,
   "id": "0954ae52",
   "metadata": {},
   "outputs": [],
   "source": [
    "# Auswertungsfunktion der Daten\n",
    "def auswertung(file):\n",
    "    # Auslesen der Daten aus der Excel\n",
    "    data = pd.read_excel(file, usecols='A:C')\n",
    "\n",
    "    # Aussortieren der Daten, die kleiner Null sind\n",
    "    df = data.sort_values(by=['Spannung [V]'])\n",
    "    df = df[(df['Spannung [V]'] >= 0) &\n",
    "                (df['Strom [mA]'] >= 0)]\n",
    "    df = df.reset_index(drop=True) # Index neu setzen\n",
    "\n",
    "    # Erstellung der Intervall-Grenzen, in den gemittelt wird\n",
    "    cuts_step = 0.01 # alle 10 mV wird gemittelt\n",
    "    spannung_cuts = np.arange(0, df['Spannung [V]'].max() + cuts_step, cuts_step)\n",
    "    \n",
    "    # Mittelung der Daten\n",
    "    df['Teilung'] = pd.cut(df['Spannung [V]'], bins=spannung_cuts)\n",
    "    df = df.groupby(['Teilung']).mean()\n",
    "    df = df.reset_index(drop=True)\n",
    "    return df\n",
    "\n",
    "# Plotfunktion der I-U-Kennlinie\n",
    "def I_U_plot(df):\n",
    "    sb.lineplot(x='Spannung [V]', y='Strom [mA]', data=df, label='Strom-Spannungs-Kennlinie')\n",
    "    plt.ylim(0, 1.05 * df['Strom [mA]'].max())\n",
    "    plt.xlim(0 , 1.05 * df['Spannung [V]'].max())\n",
    "    return \n",
    "\n",
    "# Plotfunktion der P-U-Kennlinie\n",
    "def P_U_plot(df):\n",
    "    sb.lineplot(x='Spannung [V]', y='Leistung [mW]', data=df, label='Leistungs-Spannungs-Kennlinie')\n",
    "    plt.ylim(0, 1.05 * df['Leistung [mW]'].max())\n",
    "    plt.xlim(0 , 1.05 * df['Spannung [V]'].max())\n",
    "    return\n",
    "\n",
    "# Plotfunktion der I-U- und P-U-Kennlinien\n",
    "def P_I_U_plot(df):\n",
    "    ax = sb.lineplot(x='Spannung [V]', y='Strom [mA]', data=df, legend=False, label='Strom-Spannungs-Kennlinie')\n",
    "    plt.ylim(0, 1.05 * df['Strom [mA]'].max())\n",
    "    ax2 = ax.twinx()\n",
    "    sb.lineplot(x='Spannung [V]', y='Leistung [mW]', ax=ax2, data=df, legend=False, color='red', label='Leistungs-Spannungs-Kennlinie')\n",
    "    plt.xlim(0 , 1.05 * df['Spannung [V]'].max())\n",
    "    plt.ylim(0, 1.05 * df['Leistung [mW]'].max())\n",
    "    ax.figure.legend()\n",
    "    return\n",
    "\n",
    "# Plotfunktion für die letzte Aufgabe\n",
    "def I_U_plot_all(df, name):\n",
    "    sb.lineplot(x='Spannung [V]', y='Strom [mA]', data=df, label='I-U-Kennlinie für ' + name)\n",
    "    plt.ylim(0, 1.05 * df['Strom [mA]'].max())\n",
    "    plt.xlim(0 , 1.05 * df['Spannung [V]'].max())\n",
    "    return"
   ]
  },
  {
   "cell_type": "markdown",
   "id": "ef905e99",
   "metadata": {},
   "source": [
    "Hier ist ein Beispiel aufgeführt, wie eine I-U-Kennlinie gebildet werden könnte."
   ]
  },
  {
   "cell_type": "code",
   "execution_count": null,
   "id": "fce9b9c6",
   "metadata": {},
   "outputs": [],
   "source": [
    "# Datei-Pfad erstellen\n",
    "file_name = 'beispiel'\n",
    "file = 'data/Solarzellenvermessung/' + file_name + '.xlsx'\n",
    "\n",
    "# Auswertung der Daten\n",
    "df = auswertung(file)\n",
    "\n",
    "# Plot\n",
    "I_U_plot(df)\n",
    "plt.show()"
   ]
  },
  {
   "cell_type": "markdown",
   "id": "9fe6ecef",
   "metadata": {},
   "source": [
    "Falls I-U- und P-U-Kennlinie in der selben Darstellung abgebildet werden sollen, kann der folgende Code benutzt werden."
   ]
  },
  {
   "cell_type": "code",
   "execution_count": null,
   "id": "eb185ecb",
   "metadata": {},
   "outputs": [],
   "source": [
    "# Datei-Pfad erstellen\n",
    "file_name = 'beispiel'\n",
    "file = 'data/Solarzellenvermessung/' + file_name + '.xlsx'\n",
    "\n",
    "# Auswertung der Daten\n",
    "df = auswertung(file)\n",
    "\n",
    "# Plot\n",
    "P_I_U_plot(df)\n",
    "plt.show()"
   ]
  },
  {
   "cell_type": "markdown",
   "id": "7e4019b2",
   "metadata": {},
   "source": [
    "Fügen Sie eine if-Anweisung sinnvoll hinzu, so dass zwischen dem Plot einer I-U-Kennlinie (einzeln), einer P-U-Kennlinie (einzeln) und dem Plot beider Kennlinien in einer Darstellung über einen einzelnen Befehl gewechselt werden kann."
   ]
  },
  {
   "cell_type": "code",
   "execution_count": null,
   "id": "ab55fae1",
   "metadata": {},
   "outputs": [],
   "source": [
    "# Datei-Pfad erstellen\n",
    "file_name = 'beispiel'\n",
    "file = 'data/Solarzellenvermessung/' + file_name + '.xlsx'\n",
    "\n",
    "# Auswertung der Daten\n",
    "df = auswertung(file)\n",
    "\n",
    "modus = '' # Hier Festlegung welcher Plot durchgeführt wird\n",
    "if modus == 'I':\n",
    "    print('Hier I-U-Kennlinie einzeln plotten')\n",
    "    ###### Hier Ihr Code #######\n",
    "    \n",
    "elif modus == 'P':\n",
    "    print('Hier P-U-Kennlinie einzeln plotten')\n",
    "    ###### Hier Ihr Code #######\n",
    "    \n",
    "else:\n",
    "    print('Hier I-U- und P-U-Kennlinie in einen Plot')\n",
    "    ###### Hier Ihr Code #######\n",
    "    \n",
    "plt.show()"
   ]
  },
  {
   "cell_type": "markdown",
   "id": "29dd3d3f",
   "metadata": {},
   "source": [
    "Verändern Sie den nachfolgenden Code so, so dass der Plot als .jpg im Ordner \"Solarzellenvermessung\\result\" automatisch abgespeichert wird. Suchen Sie hierfür im Internet nach einer Lösung."
   ]
  },
  {
   "cell_type": "code",
   "execution_count": null,
   "id": "26ad24fa",
   "metadata": {},
   "outputs": [],
   "source": [
    "# Datei-Pfad erstellen\n",
    "file_name = 'beispiel'\n",
    "file = 'data/Solarzellenvermessung/' + file_name + '.xlsx'\n",
    "\n",
    "# Auswertung der Daten\n",
    "df = auswertung(file)\n",
    "\n",
    "# Plot\n",
    "P_I_U_plot(df)\n",
    "\n",
    "###### Hier Ihr Code #######\n",
    "\n",
    "############\n",
    "plt.show()"
   ]
  },
  {
   "cell_type": "markdown",
   "id": "df70f3a2",
   "metadata": {},
   "source": [
    "Schreiben Sie mit Hilfe einer for-Schleife/while-Schleife einen Code, der für die Datein \"intensitaet_25.xlsx\", \"intensitaet_50.xlsx\" und \"intensitaet_75.xlsx\" einen Plot der I-U-Kennlinie erstellt. Alle Abbildungen sollen inklusive Legende in einem gemeinsamen Plot/Fenster sein. Das Bild soll abschließend automatisch abgespeichert werden."
   ]
  },
  {
   "cell_type": "code",
   "execution_count": null,
   "id": "e9e4fd5f",
   "metadata": {},
   "outputs": [],
   "source": [
    "# Dateinamen\n",
    "file_name = ['intensitaet_25', 'intensitaet_50', 'intensitaet_75']\n",
    "\n",
    "###### Hier Ihr Code #######\n",
    "\n",
    "# Beginn der Schleif\n",
    "\n",
    "    # Dateipfad erzeugen\n",
    "    \n",
    "    # Auswertung der Daten\n",
    "    \n",
    "    # Plot (Nutzen Sie die Funktion I_U_plot_all(df, name) )\n",
    "    \n",
    "# Speichern\n",
    "\n",
    "# Plot zeigen\n",
    "\n",
    "############"
   ]
  }
 ],
 "metadata": {
  "kernelspec": {
   "display_name": "Python 3 (ipykernel)",
   "language": "python",
   "name": "python3"
  },
  "language_info": {
   "codemirror_mode": {
    "name": "ipython",
    "version": 3
   },
   "file_extension": ".py",
   "mimetype": "text/x-python",
   "name": "python",
   "nbconvert_exporter": "python",
   "pygments_lexer": "ipython3",
   "version": "3.9.13"
  },
  "varInspector": {
   "cols": {
    "lenName": 16,
    "lenType": 16,
    "lenVar": 40
   },
   "kernels_config": {
    "python": {
     "delete_cmd_postfix": "",
     "delete_cmd_prefix": "del ",
     "library": "var_list.py",
     "varRefreshCmd": "print(var_dic_list())"
    },
    "r": {
     "delete_cmd_postfix": ") ",
     "delete_cmd_prefix": "rm(",
     "library": "var_list.r",
     "varRefreshCmd": "cat(var_dic_list()) "
    }
   },
   "position": {
    "height": "292.398px",
    "left": "1960px",
    "right": "20px",
    "top": "119px",
    "width": "482px"
   },
   "types_to_exclude": [
    "module",
    "function",
    "builtin_function_or_method",
    "instance",
    "_Feature"
   ],
   "window_display": true
  },
  "vscode": {
   "interpreter": {
    "hash": "26de051ba29f2982a8de78e945f0abaf191376122a1563185a90213a26c5da77"
   }
  }
 },
 "nbformat": 4,
 "nbformat_minor": 5
}
