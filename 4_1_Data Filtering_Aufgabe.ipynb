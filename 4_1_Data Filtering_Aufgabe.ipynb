{
 "cells": [
  {
   "cell_type": "markdown",
   "id": "a5478dfa",
   "metadata": {},
   "source": [
    "# Daten filtern\n",
    "Man hat es häufig mit großen Datensets zu tun, die unübersichtlich viele Werte und Infoirmationen enthalten und aus denen man nur bestimmte Informationen und Zusammenhänge extrahieren möchte. Dazu wird hier zunächst ein Beispiel mit einem übersichtlichen Datenset betrachtet, anschließend werden Informationen aus einem großen Datenset extrahiert.\n",
    "\n",
    "Für diese Art Anwendung ist ***pandas** eine der wichtigsten Bibliotheken."
   ]
  },
  {
   "cell_type": "code",
   "execution_count": null,
   "id": "572aa32c",
   "metadata": {},
   "outputs": [],
   "source": [
    "import pandas as pd"
   ]
  },
  {
   "cell_type": "markdown",
   "id": "32f025f7",
   "metadata": {},
   "source": [
    "### Daten einlesen"
   ]
  },
  {
   "cell_type": "code",
   "execution_count": null,
   "id": "1726af64",
   "metadata": {},
   "outputs": [],
   "source": [
    "#Erstelle Datensatz\n",
    "\n",
    "# information about employees\n",
    "id_number = ['128', '478', '257', '299', '175', '328', '099', '457', '144', '222']\n",
    "name = ['Patrick', 'Amanda', 'Antonella', 'Eduard', 'John', 'Alejandra', 'Layton', 'Melanie', 'David', 'Lewis']\n",
    "surname = ['Miller', 'Torres', 'Brown', 'Iglesias', 'Wright', 'Campos', 'Platt', 'Cavill', 'Lange', 'Bellow']\n",
    "division = ['Sales', 'IT', 'IT', 'Sales', 'Marketing', 'Engineering', 'Engineering', 'Sales', 'Engineering', 'Sales']\n",
    "salary = [30000, 54000, 80000, 79000, 15000, 18000, 30000, 35000, 45000, 30500]\n",
    "telephone = ['7366578', '7366444', '7366120', '7366574', '7366113', '7366117', '7366777', '7366579', '7366441', '7366440']\n",
    "type_contract = ['permanent', 'temporary', 'temporary', 'permanent', 'internship', 'internship', 'permanent', 'temporary', 'permanent', 'permanent']\n",
    "\n",
    "# data frame containing information about employees\n",
    "df_employees = pd.DataFrame({'name': name, 'surname': surname, 'division': division,\n",
    "                             'salary': salary, 'telephone': telephone, 'type_contract': type_contract}, index=id_number)\n",
    "\n",
    "df_employees"
   ]
  },
  {
   "cell_type": "markdown",
   "id": "6b04e1b0",
   "metadata": {},
   "source": [
    "### Übersicht"
   ]
  },
  {
   "cell_type": "markdown",
   "id": "c359cfb1",
   "metadata": {},
   "source": [
    "Mit `df.head()` können zur ersten Übersicht die ersten Zeilen des Dataframes ausgegeben werden."
   ]
  },
  {
   "cell_type": "code",
   "execution_count": null,
   "id": "d1bbc16d",
   "metadata": {},
   "outputs": [],
   "source": [
    "df_employees.head()"
   ]
  },
  {
   "cell_type": "markdown",
   "id": "488dcf84",
   "metadata": {},
   "source": [
    "Zunächst kann über den Befehl `df.info()` eine Zusammenfassung des DataFrames df ausgegeben werden."
   ]
  },
  {
   "cell_type": "code",
   "execution_count": null,
   "id": "b34ed122",
   "metadata": {},
   "outputs": [],
   "source": [
    "df_employees.info()"
   ]
  },
  {
   "cell_type": "markdown",
   "id": "752571f0",
   "metadata": {},
   "source": [
    "Mittels `df.describe()` wird eine kurze statistische Auswertung der Zeilen ausgegeben, die in einem Zahlenformat abgespeichert sind."
   ]
  },
  {
   "cell_type": "code",
   "execution_count": null,
   "id": "5c026753",
   "metadata": {},
   "outputs": [],
   "source": [
    "df_employees.describe()"
   ]
  },
  {
   "cell_type": "markdown",
   "id": "534f8aed",
   "metadata": {},
   "source": [
    "### Zugriff auf einzelne Zeilen, Spalten, Einträge"
   ]
  },
  {
   "cell_type": "markdown",
   "id": "367c6df3",
   "metadata": {},
   "source": [
    "Um eine einzelne Spalte mit dem Spaltennamen *name* aus dem DataFrame *df* auszuwählen, können folgende Methoden verwendet werden: \n",
    "\n",
    "`df.name`\n",
    "\n",
    "`df['name']`"
   ]
  },
  {
   "cell_type": "code",
   "execution_count": null,
   "id": "4428c9b0",
   "metadata": {},
   "outputs": [],
   "source": [
    "salary = df_employees.salary\n",
    "salary"
   ]
  },
  {
   "cell_type": "code",
   "execution_count": null,
   "id": "072fb10a",
   "metadata": {},
   "outputs": [],
   "source": [
    "salary = df_employees['salary']\n",
    "salary"
   ]
  },
  {
   "cell_type": "markdown",
   "id": "29f4e4dc",
   "metadata": {},
   "source": [
    "Es lassen sich auch mehrer Spalten auslesen. Dazu wird eine Liste der Spaltenlabel übergeben. Das Ergebnis ist wieder ein DataFrame."
   ]
  },
  {
   "cell_type": "code",
   "execution_count": null,
   "id": "8771f4a5",
   "metadata": {},
   "outputs": [],
   "source": [
    "names = df_employees[['name','surname']]\n",
    "names"
   ]
  },
  {
   "cell_type": "markdown",
   "id": "fdf297e0",
   "metadata": {},
   "source": [
    "Der Zugriff auf einzelne Zeilen erfolgt mit dem Befehl `df.loc['Zeilenname']`, falls die Zeilennamen strings sind. Dies ist im vorliegenden Beispiel der Fall:"
   ]
  },
  {
   "cell_type": "code",
   "execution_count": null,
   "id": "cdaa25ea",
   "metadata": {},
   "outputs": [],
   "source": [
    "df_employees.index"
   ]
  },
  {
   "cell_type": "code",
   "execution_count": null,
   "id": "03729fd5",
   "metadata": {},
   "outputs": [],
   "source": [
    "df_employees.loc['175']"
   ]
  },
  {
   "cell_type": "markdown",
   "id": "b5ea8bfe",
   "metadata": {},
   "source": [
    "Auch hier können wieder mehrere Zeilen ausgewählt werden: "
   ]
  },
  {
   "cell_type": "code",
   "execution_count": null,
   "id": "e360dda9",
   "metadata": {},
   "outputs": [],
   "source": [
    "df_employees.loc[['175','222']]"
   ]
  },
  {
   "cell_type": "markdown",
   "id": "737b8c34",
   "metadata": {},
   "source": [
    "Der Zugriff auf Zeilen nach ihrer Position erfolgt mit dem Befehl `df.iloc[ZAHL]`."
   ]
  },
  {
   "cell_type": "code",
   "execution_count": null,
   "id": "d120b1e9",
   "metadata": {},
   "outputs": [],
   "source": [
    "df_employees.iloc[0]"
   ]
  },
  {
   "cell_type": "code",
   "execution_count": null,
   "id": "4e433b6b",
   "metadata": {},
   "outputs": [],
   "source": [
    "#letzter Eintrag\n",
    "df_employees.iloc[-1]"
   ]
  },
  {
   "cell_type": "code",
   "execution_count": null,
   "id": "43af36a2",
   "metadata": {},
   "outputs": [],
   "source": [
    "df_employees.iloc[[0,5]]"
   ]
  },
  {
   "cell_type": "markdown",
   "id": "582bee6b",
   "metadata": {},
   "source": [
    "Zugriff auf bestimmte Spalte und bestimmte Zeile funktioniert auch mit den .loc bzw. .iloc Befehlen: Die Position in der Tabelle wird entsprechen ausgewählt: .loc[Zeile, Spalte]"
   ]
  },
  {
   "cell_type": "code",
   "execution_count": null,
   "id": "b18eb112",
   "metadata": {},
   "outputs": [],
   "source": [
    "df_employees"
   ]
  },
  {
   "cell_type": "code",
   "execution_count": null,
   "id": "95bd48ad",
   "metadata": {},
   "outputs": [],
   "source": [
    "df_employees.loc['257','surname']"
   ]
  },
  {
   "cell_type": "code",
   "execution_count": null,
   "id": "c7571d1a",
   "metadata": {},
   "outputs": [],
   "source": [
    "df_employees.iloc[2,1]"
   ]
  },
  {
   "cell_type": "markdown",
   "id": "c121165b",
   "metadata": {},
   "source": [
    "Mehrere Spalten zu einer Zeile:"
   ]
  },
  {
   "cell_type": "code",
   "execution_count": null,
   "id": "213b812d",
   "metadata": {},
   "outputs": [],
   "source": [
    "df_employees.iloc[1, [0, 1, 3]]"
   ]
  },
  {
   "cell_type": "code",
   "execution_count": null,
   "id": "60993efa",
   "metadata": {},
   "outputs": [],
   "source": [
    "df_employees.loc['478', ['name', 'surname', 'salary']]"
   ]
  },
  {
   "cell_type": "markdown",
   "id": "f39d5690",
   "metadata": {},
   "source": [
    "Mehrere Zeilen und mehrere Spalten:"
   ]
  },
  {
   "cell_type": "code",
   "execution_count": null,
   "id": "7ee5d0a4",
   "metadata": {},
   "outputs": [],
   "source": [
    "df_employees.iloc[[1, 9], [0, 1, 3]]"
   ]
  },
  {
   "cell_type": "code",
   "execution_count": null,
   "id": "2fface3f",
   "metadata": {},
   "outputs": [],
   "source": [
    "df_employees.loc[['478', '222'], ['name', 'surname', 'salary']]"
   ]
  },
  {
   "cell_type": "markdown",
   "id": "e56889f6",
   "metadata": {},
   "source": [
    "Alle Zeilen bis zur vierten Zeile:"
   ]
  },
  {
   "cell_type": "code",
   "execution_count": null,
   "id": "277fb026",
   "metadata": {},
   "outputs": [],
   "source": [
    "df_employees.iloc[:4, [0, 1, 3]]"
   ]
  },
  {
   "cell_type": "code",
   "execution_count": null,
   "id": "e8265f04",
   "metadata": {},
   "outputs": [],
   "source": [
    "df_employees.loc[:'299', ['name', 'surname', 'salary']]"
   ]
  },
  {
   "attachments": {
    "grafik.png": {
     "image/png": "[encoded data removed]"
    }
   },
   "cell_type": "markdown",
   "id": "377aa565",
   "metadata": {},
   "source": [
    "### Filtern nach Bedingungen\n",
    "![grafik.png](attachment:grafik.png)"
   ]
  },
  {
   "cell_type": "markdown",
   "id": "1e51faf2",
   "metadata": {},
   "source": [
    "Filtern nach Angestellten, deren Gehalt größer als 45000€ ist"
   ]
  },
  {
   "cell_type": "code",
   "execution_count": null,
   "id": "e52c798d",
   "metadata": {},
   "outputs": [],
   "source": [
    "df_employees['salary'] > 45000"
   ]
  },
  {
   "cell_type": "markdown",
   "id": "b36b3955",
   "metadata": {},
   "source": [
    "Jetzt kann der Dataframe an den Stellen ausgegeben werden, an denen diese Bedingung erfüllt ist: `df[Bedingung]`"
   ]
  },
  {
   "cell_type": "code",
   "execution_count": null,
   "id": "389733ec",
   "metadata": {},
   "outputs": [],
   "source": [
    "df_employees[df_employees['salary'] > 45000]"
   ]
  },
  {
   "cell_type": "markdown",
   "id": "1d42c339",
   "metadata": {},
   "source": [
    "Folgendermaßen können mehrere Bedingungen verknüpft werden:"
   ]
  },
  {
   "cell_type": "code",
   "execution_count": null,
   "id": "76dac6a2",
   "metadata": {},
   "outputs": [],
   "source": [
    "df_employees[(df_employees['salary'] > 45000) & (df_employees['type_contract'] == 'permanent')]"
   ]
  },
  {
   "cell_type": "markdown",
   "id": "e4571e6d",
   "metadata": {},
   "source": [
    "Mit mehreren Bedingungen kann auch besonders effizient und kompakt mit der `.isin()`-Methode gefiltert werden:"
   ]
  },
  {
   "cell_type": "code",
   "execution_count": null,
   "id": "7fc69fb7",
   "metadata": {},
   "outputs": [],
   "source": [
    "#permanent oder temporary\n",
    "df_employees[(df_employees['type_contract'] == 'temporary') | (df_employees['type_contract'] == 'permanent')]"
   ]
  },
  {
   "cell_type": "code",
   "execution_count": null,
   "id": "789d50b4",
   "metadata": {},
   "outputs": [],
   "source": [
    "df_employees[df_employees['type_contract'].isin(['temporary', 'permanent'])]"
   ]
  },
  {
   "cell_type": "markdown",
   "id": "c90ae81e",
   "metadata": {},
   "source": [
    "Die `.between()`-Methode erlaubt das Filtern mit Grenzen, z.B. Gehalt zwischen 3000 und 8000 €"
   ]
  },
  {
   "cell_type": "code",
   "execution_count": null,
   "id": "62d5dde0",
   "metadata": {},
   "outputs": [],
   "source": [
    "df_employees[(df_employees['salary']>=30000)&(df_employees['salary']<=80000)]"
   ]
  },
  {
   "cell_type": "code",
   "execution_count": null,
   "id": "2a5de7d3",
   "metadata": {},
   "outputs": [],
   "source": [
    "df_employees[df_employees['salary'].between(30000, 80000)]"
   ]
  },
  {
   "cell_type": "markdown",
   "id": "49e6a438",
   "metadata": {},
   "source": [
    "Die standardmäßigen Methoden auf Strings funktionieren hier auch: "
   ]
  },
  {
   "cell_type": "code",
   "execution_count": null,
   "id": "b69780b4",
   "metadata": {},
   "outputs": [],
   "source": [
    "# select all telephone numbers that contain 57\n",
    "df_employees[df_employees['telephone'].str.contains('57')]"
   ]
  },
  {
   "cell_type": "code",
   "execution_count": null,
   "id": "fb17d91d",
   "metadata": {},
   "outputs": [],
   "source": [
    "# select employees whose name starts with 'A'\n",
    "df_employees[df_employees['name'].str.startswith('A')]"
   ]
  },
  {
   "cell_type": "code",
   "execution_count": null,
   "id": "64c31046",
   "metadata": {},
   "outputs": [],
   "source": []
  },
  {
   "cell_type": "markdown",
   "id": "1e7caabb",
   "metadata": {},
   "source": [
    "# Aufgabe mit großem Datensatz\n",
    "\n",
    "https://www.listendata.com/2019/07/how-to-filter-pandas-dataframe.html"
   ]
  },
  {
   "cell_type": "code",
   "execution_count": null,
   "id": "33f44e8b",
   "metadata": {
    "ExecuteTime": {
     "end_time": "2021-10-04T07:18:05.792951Z",
     "start_time": "2021-10-04T07:18:00.116836Z"
    }
   },
   "outputs": [],
   "source": [
    "#Einlesen der Daten\n",
    "import pandas as pd\n",
    "df = pd.read_csv(\"https://raw.githubusercontent.com/JackyP/testing/master/datasets/nycflights.csv\", usecols=range(1,17))"
   ]
  },
  {
   "cell_type": "markdown",
   "id": "c69278f0",
   "metadata": {},
   "source": [
    "### Überblick über die Daten"
   ]
  },
  {
   "cell_type": "markdown",
   "id": "6a9ce168",
   "metadata": {},
   "source": [
    "Zeige die ersten Spalten an"
   ]
  },
  {
   "cell_type": "code",
   "execution_count": null,
   "id": "6cefc334",
   "metadata": {},
   "outputs": [],
   "source": []
  },
  {
   "cell_type": "markdown",
   "id": "7faf1817",
   "metadata": {},
   "source": [
    "Zeige die Info zum Datensatz an"
   ]
  },
  {
   "cell_type": "code",
   "execution_count": null,
   "id": "fa64b426",
   "metadata": {},
   "outputs": [],
   "source": []
  },
  {
   "cell_type": "markdown",
   "id": "a2adb70b",
   "metadata": {},
   "source": [
    "Beschreibe den Datensatz numerisch"
   ]
  },
  {
   "cell_type": "code",
   "execution_count": null,
   "id": "c9b46464",
   "metadata": {
    "ExecuteTime": {
     "end_time": "2021-10-04T07:22:05.148239Z",
     "start_time": "2021-10-04T07:22:04.883609Z"
    }
   },
   "outputs": [],
   "source": []
  },
  {
   "cell_type": "markdown",
   "id": "e99bade0",
   "metadata": {},
   "source": [
    "Select flights details of JetBlue Airways that has 2 letters carrier code **B6** with origin from **JFK** airport"
   ]
  },
  {
   "cell_type": "code",
   "execution_count": null,
   "id": "7535fec9",
   "metadata": {
    "ExecuteTime": {
     "end_time": "2021-10-04T07:18:11.016625Z",
     "start_time": "2021-10-04T07:18:10.910629Z"
    }
   },
   "outputs": [],
   "source": [
    "dfb6jfk=df[(df.carrier=='B6')&(df.origin=='JFK')]\n",
    "dfb6jfk"
   ]
  },
  {
   "cell_type": "markdown",
   "id": "de962e80",
   "metadata": {},
   "source": [
    "Um wie viele Flüge handelt es sich hier?"
   ]
  },
  {
   "cell_type": "code",
   "execution_count": null,
   "id": "aabea030",
   "metadata": {
    "ExecuteTime": {
     "end_time": "2021-10-04T07:18:12.268483Z",
     "start_time": "2021-10-04T07:18:12.248003Z"
    }
   },
   "outputs": [],
   "source": [
    "len(dfb6jfk)"
   ]
  },
  {
   "cell_type": "markdown",
   "id": "fa6aa7a2",
   "metadata": {},
   "source": [
    "Gab es Flüge von JFK nach JFK?"
   ]
  },
  {
   "cell_type": "code",
   "execution_count": null,
   "id": "939a9df9",
   "metadata": {
    "ExecuteTime": {
     "end_time": "2021-10-04T07:18:14.482243Z",
     "start_time": "2021-10-04T07:18:14.417936Z"
    }
   },
   "outputs": [],
   "source": [
    "df[(df.origin == \"JFK\") & (df.dest == \"JFK\")]"
   ]
  },
  {
   "cell_type": "markdown",
   "id": "00a81b05",
   "metadata": {},
   "source": [
    "Wie viele Flüge mit einer Entfernung >1000 Meilen gab es in den Montaten September und Oktober?"
   ]
  },
  {
   "cell_type": "code",
   "execution_count": null,
   "id": "30114a53",
   "metadata": {},
   "outputs": [],
   "source": []
  },
  {
   "cell_type": "markdown",
   "id": "7f1982ff",
   "metadata": {},
   "source": [
    "Gib die Flugnummern aller Flüge aus, die bis einschließlioch März stattgefunden haben.\n"
   ]
  },
  {
   "cell_type": "code",
   "execution_count": null,
   "id": "ebcd3939",
   "metadata": {},
   "outputs": [],
   "source": []
  },
  {
   "cell_type": "markdown",
   "id": "ee90ae6a",
   "metadata": {},
   "source": [
    "Wie lang war die durschnittliche Flugdauer (airtime) dieser Flüge?"
   ]
  },
  {
   "cell_type": "code",
   "execution_count": null,
   "id": "7a49e1ac",
   "metadata": {},
   "outputs": [],
   "source": []
  },
  {
   "cell_type": "markdown",
   "id": "e6194275",
   "metadata": {},
   "source": [
    "Plotte die Flugdauern der Reihe nach, nutze dafür `range(len(DATA))` um für die x-Achse eine Liste [0,1,2,3,...] zu erzeugen."
   ]
  },
  {
   "cell_type": "code",
   "execution_count": null,
   "id": "073da56c",
   "metadata": {},
   "outputs": [],
   "source": [
    "import matplotlib.pyplot as plt"
   ]
  },
  {
   "cell_type": "code",
   "execution_count": null,
   "id": "1d0ab899",
   "metadata": {},
   "outputs": [],
   "source": [
    "times = df[df.month <= 3]['air_time']"
   ]
  },
  {
   "cell_type": "code",
   "execution_count": null,
   "id": "0e7caa96",
   "metadata": {},
   "outputs": [],
   "source": [
    "plt.scatter(range(len(times)),times)"
   ]
  },
  {
   "cell_type": "markdown",
   "id": "06fe1c15",
   "metadata": {},
   "source": [
    "Stell die Zeiten in statistisch sinnvoller Weise dar."
   ]
  },
  {
   "cell_type": "code",
   "execution_count": null,
   "id": "0f7e1be6",
   "metadata": {},
   "outputs": [],
   "source": [
    "times"
   ]
  },
  {
   "cell_type": "markdown",
   "id": "c873ba7a",
   "metadata": {},
   "source": [
    "die NaN Werte müssen teilweise mit dem `.dropna()`-Befehl entfert werden."
   ]
  },
  {
   "cell_type": "code",
   "execution_count": null,
   "id": "0de3063a",
   "metadata": {},
   "outputs": [],
   "source": [
    "#Boxplot\n",
    "plt.boxplot(times.dropna())"
   ]
  },
  {
   "cell_type": "code",
   "execution_count": null,
   "id": "895d62b7",
   "metadata": {},
   "outputs": [],
   "source": [
    "#Histogramm\n",
    "plt.hist(times.dropna(), bins = 12)"
   ]
  },
  {
   "cell_type": "markdown",
   "id": "efdf9a24",
   "metadata": {},
   "source": [
    "Welche Destinationen werden bei den langen Flugdauern angeflogen?"
   ]
  },
  {
   "cell_type": "code",
   "execution_count": null,
   "id": "5b24b55b",
   "metadata": {},
   "outputs": [],
   "source": [
    "df.head()"
   ]
  },
  {
   "cell_type": "code",
   "execution_count": null,
   "id": "ad1d473a",
   "metadata": {},
   "outputs": [],
   "source": [
    "# Hinweis: Nutze den .between()-Befehl für die Auswahl des entsprechenden Zeitbereiches\n"
   ]
  },
  {
   "cell_type": "markdown",
   "id": "7a77fa8c",
   "metadata": {},
   "source": [
    "Um die Wiederholungen zu entfernen, kann der Befehl `.drop_duplicates()` verwendet werden."
   ]
  },
  {
   "cell_type": "code",
   "execution_count": null,
   "id": "52cdaa6f",
   "metadata": {},
   "outputs": [],
   "source": []
  }
 ],
 "metadata": {
  "kernelspec": {
   "display_name": "Python 3 (ipykernel)",
   "language": "python",
   "name": "python3"
  },
  "language_info": {
   "codemirror_mode": {
    "name": "ipython",
    "version": 3
   },
   "file_extension": ".py",
   "mimetype": "text/x-python",
   "name": "python",
   "nbconvert_exporter": "python",
   "pygments_lexer": "ipython3",
   "version": "3.9.7"
  },
  "varInspector": {
   "cols": {
    "lenName": 16,
    "lenType": 16,
    "lenVar": 40
   },
   "kernels_config": {
    "python": {
     "delete_cmd_postfix": "",
     "delete_cmd_prefix": "del ",
     "library": "var_list.py",
     "varRefreshCmd": "print(var_dic_list())"
    },
    "r": {
     "delete_cmd_postfix": ") ",
     "delete_cmd_prefix": "rm(",
     "library": "var_list.r",
     "varRefreshCmd": "cat(var_dic_list()) "
    }
   },
   "types_to_exclude": [
    "module",
    "function",
    "builtin_function_or_method",
    "instance",
    "_Feature"
   ],
   "window_display": true
  }
 },
 "nbformat": 4,
 "nbformat_minor": 5
}
