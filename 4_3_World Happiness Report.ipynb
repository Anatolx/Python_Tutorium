{
 "cells": [
  {
   "cell_type": "markdown",
   "id": "blessed-michael",
   "metadata": {},
   "source": [
    "https://www.kaggle.com/rushilpatel2000/world-happiness-report-eda"
   ]
  },
  {
   "cell_type": "markdown",
   "id": "digital-entry",
   "metadata": {},
   "source": [
    "# World Happiness Report\n"
   ]
  },
  {
   "cell_type": "markdown",
   "id": "collective-norman",
   "metadata": {},
   "source": [
    "dataset: https://www.kaggle.com/unsdsn/world-happiness"
   ]
  },
  {
   "cell_type": "code",
   "execution_count": null,
   "id": "compatible-pleasure",
   "metadata": {},
   "outputs": [],
   "source": [
    "import numpy as np # linear algebra\n",
    "import pandas as pd # data processing, CSV file I/O (e.g. pd.read_csv)\n",
    "from matplotlib import pyplot as plt #data visualisation\n",
    "import seaborn as sns #advanced data visualisation"
   ]
  },
  {
   "cell_type": "code",
   "execution_count": null,
   "id": "synthetic-international",
   "metadata": {},
   "outputs": [],
   "source": [
    "#lade die Daten\n",
    "data=pd.read_csv('data/HappinessReport/2016.csv')"
   ]
  },
  {
   "cell_type": "code",
   "execution_count": null,
   "id": "compound-relaxation",
   "metadata": {},
   "outputs": [],
   "source": [
    "#zeige die ersten Einträge an, um ein Gefühl für den Aufbau der Datei zu bekommen\n",
    "data.head()"
   ]
  },
  {
   "cell_type": "code",
   "execution_count": null,
   "id": "2aa43c78",
   "metadata": {},
   "outputs": [],
   "source": [
    "#zeige die ersten 8 Einträge an, um ein Gefühl für den Aufbau der Datei zu bekommen\n",
    "data.head(8)"
   ]
  },
  {
   "cell_type": "code",
   "execution_count": null,
   "id": "noted-uganda",
   "metadata": {},
   "outputs": [],
   "source": [
    "#Mit dem Folgenden Befehl werden die Datentypen und Infos zum Aufbau angezeigt\n",
    "data.info()"
   ]
  },
  {
   "cell_type": "code",
   "execution_count": null,
   "id": "abstract-relation",
   "metadata": {},
   "outputs": [],
   "source": [
    "#die describe-Funktion zeigt eine statistische einfache Auswertung der Daten\n",
    "data.describe()"
   ]
  },
  {
   "cell_type": "code",
   "execution_count": null,
   "id": "1eeb1b3d",
   "metadata": {},
   "outputs": [],
   "source": [
    "data.describe()['Happiness Rank']"
   ]
  },
  {
   "cell_type": "code",
   "execution_count": null,
   "id": "aa40f1bb",
   "metadata": {},
   "outputs": [],
   "source": []
  },
  {
   "cell_type": "code",
   "execution_count": null,
   "id": "double-blend",
   "metadata": {},
   "outputs": [],
   "source": [
    "#Wähle die Zeile Germany aus - das ist die Zeile, bei der die Spalte 'Country' den Inhalt 'Germany' hat.\n",
    "data[data['Country'] == 'Germany']"
   ]
  },
  {
   "cell_type": "code",
   "execution_count": null,
   "id": "religious-recording",
   "metadata": {},
   "outputs": [],
   "source": [
    "#Um die Position Deutschlands nach der Generosity zu bestimmen sortieren wir die Daten zunächst nach 'Happiness Score'.\n",
    "\n",
    "data_sorted=data.sort_values('Generosity', ascending=False)\n",
    "data_sorted"
   ]
  },
  {
   "cell_type": "code",
   "execution_count": null,
   "id": "korean-insertion",
   "metadata": {},
   "outputs": [],
   "source": [
    "y_pos=np.arange(25)\n",
    "plt.barh(y_pos,data_sorted['Happiness Score'][0:25])\n",
    "plt.yticks(ticks=y_pos,labels=data_sorted['Country'][0:25])"
   ]
  },
  {
   "cell_type": "markdown",
   "id": "floppy-dynamics",
   "metadata": {},
   "source": [
    "Wo ist eigentlich Deutschland?"
   ]
  },
  {
   "cell_type": "code",
   "execution_count": null,
   "id": "activated-effort",
   "metadata": {},
   "outputs": [],
   "source": [
    "data_sorted.head(25)"
   ]
  },
  {
   "cell_type": "code",
   "execution_count": null,
   "id": "original-intent",
   "metadata": {},
   "outputs": [],
   "source": [
    "data_sorted[data_sorted['Country']=='Germany']"
   ]
  },
  {
   "cell_type": "code",
   "execution_count": null,
   "id": "electrical-class",
   "metadata": {},
   "outputs": [],
   "source": [
    "data_sorted=data.sort_values('Freedom', ascending=False).reset_index()\n",
    "data_sorted[data_sorted['Country']=='Germany'].index"
   ]
  },
  {
   "cell_type": "code",
   "execution_count": null,
   "id": "imposed-establishment",
   "metadata": {},
   "outputs": [],
   "source": []
  },
  {
   "cell_type": "code",
   "execution_count": null,
   "id": "revised-gentleman",
   "metadata": {},
   "outputs": [],
   "source": []
  },
  {
   "cell_type": "code",
   "execution_count": null,
   "id": "extra-anchor",
   "metadata": {},
   "outputs": [],
   "source": []
  },
  {
   "cell_type": "code",
   "execution_count": null,
   "id": "cutting-heritage",
   "metadata": {},
   "outputs": [],
   "source": []
  },
  {
   "cell_type": "code",
   "execution_count": null,
   "id": "dangerous-necessity",
   "metadata": {},
   "outputs": [],
   "source": []
  },
  {
   "cell_type": "code",
   "execution_count": null,
   "id": "competent-jerusalem",
   "metadata": {},
   "outputs": [],
   "source": []
  },
  {
   "cell_type": "code",
   "execution_count": null,
   "id": "interesting-cemetery",
   "metadata": {},
   "outputs": [],
   "source": [
    "data['Region'].unique()"
   ]
  },
  {
   "cell_type": "code",
   "execution_count": null,
   "id": "exact-corruption",
   "metadata": {},
   "outputs": [],
   "source": [
    "for region in data['Region'].unique():\n",
    "    print(len(data[data['Region'] == region]), region)"
   ]
  },
  {
   "cell_type": "code",
   "execution_count": null,
   "id": "scheduled-tactics",
   "metadata": {},
   "outputs": [],
   "source": [
    "rows_list=[]\n",
    "for region in data['Region'].unique():\n",
    "    happinessRankSum = data.loc[data['Region'] == region]['Happiness Rank'].sum()\n",
    "    numCountriesInRegion = len(data.loc[data['Region'] == region])\n",
    "    avgHappinessScorePerRegion = happinessRankSum/numCountriesInRegion;\n",
    "    dict1 = {'Region': region, 'Happiness Rank Per Region': avgHappinessScorePerRegion, 'numCountriesInRegion': numCountriesInRegion};\n",
    "    rows_list.append(dict1)"
   ]
  },
  {
   "cell_type": "code",
   "execution_count": null,
   "id": "dominant-treasure",
   "metadata": {},
   "outputs": [],
   "source": [
    "df = pd.DataFrame(rows_list)\n",
    "df.sort_values(['Happiness Rank Per Region'], ascending=True, inplace=True)\n",
    "df"
   ]
  },
  {
   "cell_type": "code",
   "execution_count": null,
   "id": "confused-williams",
   "metadata": {},
   "outputs": [],
   "source": [
    "plt.figure(figsize=(10,10))\n",
    "ax = sns.barplot(df['Region'], df['Happiness Rank Per Region'])\n",
    "ax.set_xticklabels(ax.get_xticklabels(), rotation=40, ha=\"right\")"
   ]
  },
  {
   "cell_type": "code",
   "execution_count": null,
   "id": "isolated-faith",
   "metadata": {},
   "outputs": [],
   "source": []
  },
  {
   "cell_type": "code",
   "execution_count": null,
   "id": "22dae394",
   "metadata": {},
   "outputs": [],
   "source": []
  },
  {
   "cell_type": "code",
   "execution_count": null,
   "id": "130fd70f",
   "metadata": {},
   "outputs": [],
   "source": []
  },
  {
   "cell_type": "code",
   "execution_count": null,
   "id": "64b03de6",
   "metadata": {},
   "outputs": [],
   "source": []
  },
  {
   "cell_type": "code",
   "execution_count": null,
   "id": "20f24974",
   "metadata": {},
   "outputs": [],
   "source": []
  },
  {
   "cell_type": "code",
   "execution_count": null,
   "id": "15591a86",
   "metadata": {},
   "outputs": [],
   "source": []
  }
 ],
 "metadata": {
  "kernelspec": {
   "display_name": "Python 3 (ipykernel)",
   "language": "python",
   "name": "python3"
  },
  "language_info": {
   "codemirror_mode": {
    "name": "ipython",
    "version": 3
   },
   "file_extension": ".py",
   "mimetype": "text/x-python",
   "name": "python",
   "nbconvert_exporter": "python",
   "pygments_lexer": "ipython3",
   "version": "3.8.11"
  },
  "varInspector": {
   "cols": {
    "lenName": 16,
    "lenType": 16,
    "lenVar": 40
   },
   "kernels_config": {
    "python": {
     "delete_cmd_postfix": "",
     "delete_cmd_prefix": "del ",
     "library": "var_list.py",
     "varRefreshCmd": "print(var_dic_list())"
    },
    "r": {
     "delete_cmd_postfix": ") ",
     "delete_cmd_prefix": "rm(",
     "library": "var_list.r",
     "varRefreshCmd": "cat(var_dic_list()) "
    }
   },
   "types_to_exclude": [
    "module",
    "function",
    "builtin_function_or_method",
    "instance",
    "_Feature"
   ],
   "window_display": true
  }
 },
 "nbformat": 4,
 "nbformat_minor": 5
}
