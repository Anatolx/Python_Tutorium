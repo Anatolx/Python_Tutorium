{
 "cells": [
  {
   "cell_type": "markdown",
   "id": "portable-might",
   "metadata": {},
   "source": [
    "# Grafikfähiger Taschenrechner\n",
    "Hier versuchen wir, die Standardfunktionen eines grafikfähigen Taschenrechners abzubilden: Mit Python können alle Funktionalitäten abgebildet werden - nur deutlich übersichtlicher, mächtiger und leichter zu bedienen.\n",
    "\n",
    "http://num.math.uni-goettingen.de/pycourse/html/lectures/20_Symbolisches_Rechnen.html\n",
    "\n",
    "https://riptutorial.com/Download/sympy-de.pdf\n",
    "\n",
    "https://pythonforundergradengineers.com/sympy-expressions-and-equations.html"
   ]
  },
  {
   "attachments": {
    "grafik.png": {
     "image/png": "[encoded data removed]"
    }
   },
   "cell_type": "markdown",
   "id": "incident-cookie",
   "metadata": {},
   "source": [
    "## 1. Analysis\n",
    "\n",
    "![grafik.png](attachment:grafik.png)"
   ]
  },
  {
   "cell_type": "markdown",
   "id": "lonely-algeria",
   "metadata": {},
   "source": [
    "### Berechnungen"
   ]
  },
  {
   "cell_type": "markdown",
   "id": "b83d9a1f",
   "metadata": {},
   "source": [
    "Einfache Berechnungen können direkt in eine Codezeile eingegeben werden, Ergebnisse können neuen Variablen zugewiesen werden."
   ]
  },
  {
   "cell_type": "code",
   "execution_count": null,
   "id": "136b64d6",
   "metadata": {},
   "outputs": [],
   "source": [
    "5*7"
   ]
  },
  {
   "cell_type": "code",
   "execution_count": null,
   "id": "abc868af",
   "metadata": {},
   "outputs": [],
   "source": [
    "3+9"
   ]
  },
  {
   "cell_type": "code",
   "execution_count": null,
   "id": "d4cfd1e7",
   "metadata": {},
   "outputs": [],
   "source": [
    "227/15"
   ]
  },
  {
   "cell_type": "code",
   "execution_count": null,
   "id": "6d5c9d42",
   "metadata": {
    "ExecuteTime": {
     "end_time": "2022-05-26T10:45:37.199130Z",
     "start_time": "2022-05-26T10:45:37.190936Z"
    }
   },
   "outputs": [],
   "source": [
    "a = 5*36"
   ]
  },
  {
   "cell_type": "code",
   "execution_count": null,
   "id": "b549057e",
   "metadata": {
    "ExecuteTime": {
     "end_time": "2022-05-26T10:45:40.230166Z",
     "start_time": "2022-05-26T10:45:40.222692Z"
    }
   },
   "outputs": [],
   "source": [
    "print(a)"
   ]
  },
  {
   "cell_type": "markdown",
   "id": "1432e9d1",
   "metadata": {},
   "source": [
    "Für kompliziertere Berechnungen  und Funktionen werden Pakete benötigt, die importiert werden müssen.\n",
    "\n",
    "**Numpy** ist ein sehr schnelles Paket zur numerischen Berechnung. Hier können dann auch Funktionen wie Sinus, Cosinus, Tangens, Exponentialfunktionen, etc. verwendet werden."
   ]
  },
  {
   "cell_type": "code",
   "execution_count": null,
   "id": "connected-photograph",
   "metadata": {},
   "outputs": [],
   "source": [
    "import numpy as np #Modul für numerische Berechnungen"
   ]
  },
  {
   "cell_type": "code",
   "execution_count": null,
   "id": "welsh-completion",
   "metadata": {},
   "outputs": [],
   "source": [
    "np.sin(2) #Vorsicht! Der Sinus wird im Bogenmaß berechnet!"
   ]
  },
  {
   "cell_type": "markdown",
   "id": "bfc8ecf7",
   "metadata": {},
   "source": [
    "***Eigene Aufgabe:***\n",
    "\n",
    "Addiere den Sinus von 3 und den Cosinus von 5"
   ]
  },
  {
   "cell_type": "code",
   "execution_count": null,
   "id": "f2004b05",
   "metadata": {},
   "outputs": [],
   "source": [
    "#Deine Lösung\n"
   ]
  },
  {
   "cell_type": "code",
   "execution_count": null,
   "id": "a210a99a",
   "metadata": {},
   "outputs": [],
   "source": []
  },
  {
   "cell_type": "code",
   "execution_count": null,
   "id": "attached-arrest",
   "metadata": {},
   "outputs": [],
   "source": [
    "#Winkel im Bogenmaß\n",
    "np.sin(np.pi)"
   ]
  },
  {
   "cell_type": "code",
   "execution_count": null,
   "id": "experimental-hybrid",
   "metadata": {
    "scrolled": false
   },
   "outputs": [],
   "source": [
    "#Winkel 60° in Grad\n",
    "np.sin(60*np.pi/180)"
   ]
  },
  {
   "cell_type": "code",
   "execution_count": null,
   "id": "8a55a938",
   "metadata": {
    "ExecuteTime": {
     "end_time": "2022-05-26T10:44:09.822179Z",
     "start_time": "2022-05-26T10:44:09.812201Z"
    }
   },
   "outputs": [],
   "source": [
    "#Alternativ kann auch die interne Umrechnung von Numpy verwendet werden:\n",
    "np.sin(np.radians(60))"
   ]
  },
  {
   "cell_type": "markdown",
   "id": "152a49cc",
   "metadata": {},
   "source": [
    "***Eigene Aufgabe:***\n",
    "\n",
    "Rechne $\\sin(75^\\circ)$ aus"
   ]
  },
  {
   "cell_type": "code",
   "execution_count": null,
   "id": "c60fa2a2",
   "metadata": {},
   "outputs": [],
   "source": [
    "#Deine Lösung\n"
   ]
  },
  {
   "cell_type": "markdown",
   "id": "0e024801",
   "metadata": {},
   "source": [
    "Berechne den Tanges von $\\pi/12$"
   ]
  },
  {
   "cell_type": "code",
   "execution_count": null,
   "id": "ceba34a9",
   "metadata": {},
   "outputs": [],
   "source": [
    "#Deine Lösung\n"
   ]
  },
  {
   "cell_type": "markdown",
   "id": "attempted-private",
   "metadata": {},
   "source": [
    "### Formeln umstellen"
   ]
  },
  {
   "cell_type": "markdown",
   "id": "9f7efeac",
   "metadata": {},
   "source": [
    "Das Umstellen von Formeln und Lösen von gleichungen benötigt symbolisches Rechnen (Rechnen mit Variablen). Das kann die numerische Berechnung mit Numpy nicht leisten, dafür wird das Paket **Sympy** verwendet.\n",
    "\n",
    "Falls man symbolisch mit Funktionen rechnen möchte (beispielsweise zum Ableiten, Integrieren, Lösen, ...), so ist es notwendig hier die Funktionen aus Sympy zu verwenden. Beispielsweise `sy.sin(...)`"
   ]
  },
  {
   "cell_type": "code",
   "execution_count": null,
   "id": "scientific-relief",
   "metadata": {
    "ExecuteTime": {
     "end_time": "2022-05-26T10:49:12.249559Z",
     "start_time": "2022-05-26T10:49:11.236465Z"
    }
   },
   "outputs": [],
   "source": [
    "import sympy as sy"
   ]
  },
  {
   "cell_type": "code",
   "execution_count": null,
   "id": "romantic-pasta",
   "metadata": {
    "ExecuteTime": {
     "end_time": "2022-05-26T10:49:12.296491Z",
     "start_time": "2022-05-26T10:49:12.283491Z"
    }
   },
   "outputs": [],
   "source": [
    "# Definiere die Variablen / Symbole\n",
    "x, y, a, b = sy.symbols('x y a b')"
   ]
  },
  {
   "cell_type": "markdown",
   "id": "recreational-consultancy",
   "metadata": {},
   "source": [
    "Betrachte die Gleichung $ax^2+bx=y$:\n",
    "\n",
    "Dazu muss diese in die Form $0=...$ umgeschrieben werden."
   ]
  },
  {
   "cell_type": "code",
   "execution_count": null,
   "id": "coated-dealer",
   "metadata": {
    "ExecuteTime": {
     "end_time": "2022-05-26T10:49:18.308442Z",
     "start_time": "2022-05-26T10:49:18.175333Z"
    }
   },
   "outputs": [],
   "source": [
    "eq1=sy.Eq(a*x**2+b*x-y,0)"
   ]
  },
  {
   "cell_type": "code",
   "execution_count": null,
   "id": "related-exhibit",
   "metadata": {
    "ExecuteTime": {
     "end_time": "2022-05-26T10:49:20.839830Z",
     "start_time": "2022-05-26T10:49:20.489482Z"
    }
   },
   "outputs": [],
   "source": [
    "eq1"
   ]
  },
  {
   "cell_type": "markdown",
   "id": "baking-corrections",
   "metadata": {},
   "source": [
    "Löse die Gleichung nach $a$ auf"
   ]
  },
  {
   "cell_type": "code",
   "execution_count": null,
   "id": "infrared-rabbit",
   "metadata": {
    "ExecuteTime": {
     "end_time": "2022-05-26T10:49:23.430098Z",
     "start_time": "2022-05-26T10:49:23.346583Z"
    }
   },
   "outputs": [],
   "source": [
    "sol=sy.solve(eq1,a)\n",
    "sol"
   ]
  },
  {
   "cell_type": "markdown",
   "id": "stuck-borough",
   "metadata": {},
   "source": [
    "setze für $b$ die Zahl $5$ ein:"
   ]
  },
  {
   "cell_type": "code",
   "execution_count": null,
   "id": "oriented-surveillance",
   "metadata": {
    "ExecuteTime": {
     "end_time": "2022-05-26T10:49:26.439273Z",
     "start_time": "2022-05-26T10:49:26.424311Z"
    },
    "scrolled": true
   },
   "outputs": [],
   "source": [
    "eq1.subs(b,5)"
   ]
  },
  {
   "cell_type": "markdown",
   "id": "29d1c021",
   "metadata": {},
   "source": [
    "***Eigene Aufgabe:***\n",
    "\n",
    "Erstelle die Gleichung $5z^3 + 2z^2 -5=3$ und stelle nach $z$ um"
   ]
  },
  {
   "cell_type": "code",
   "execution_count": null,
   "id": "6b38afd1",
   "metadata": {},
   "outputs": [],
   "source": [
    "#Deine Lösung\n"
   ]
  },
  {
   "cell_type": "markdown",
   "id": "large-judgment",
   "metadata": {},
   "source": [
    "### Nullstellen von Fuktionen finden"
   ]
  },
  {
   "cell_type": "code",
   "execution_count": null,
   "id": "southwest-unknown",
   "metadata": {
    "ExecuteTime": {
     "end_time": "2022-05-26T10:49:47.123692Z",
     "start_time": "2022-05-26T10:49:47.103080Z"
    }
   },
   "outputs": [],
   "source": [
    "#notwendige Bibliotheken einbinden\n",
    "from sympy.solvers import solve\n",
    "from sympy import *\n",
    "init_printing() #aktiviert die schöne Ausgabe der Zahlen"
   ]
  },
  {
   "cell_type": "markdown",
   "id": "defined-title",
   "metadata": {},
   "source": [
    "Finde nun die Nullstellen der Funktion $x^2-1$"
   ]
  },
  {
   "cell_type": "code",
   "execution_count": null,
   "id": "still-income",
   "metadata": {
    "ExecuteTime": {
     "end_time": "2022-05-26T10:49:58.937823Z",
     "start_time": "2022-05-26T10:49:52.435666Z"
    }
   },
   "outputs": [],
   "source": [
    "x = Symbol('x') \n",
    "solve(x**2 - 1, x)"
   ]
  },
  {
   "cell_type": "markdown",
   "id": "dried-eligibility",
   "metadata": {},
   "source": [
    "Bestimme nun die Nullstelle der Funktion $e^x$"
   ]
  },
  {
   "cell_type": "code",
   "execution_count": null,
   "id": "affecting-klein",
   "metadata": {
    "ExecuteTime": {
     "end_time": "2022-05-26T10:50:06.958095Z",
     "start_time": "2022-05-26T10:50:04.824196Z"
    },
    "scrolled": true
   },
   "outputs": [],
   "source": [
    "x = Symbol('x')\n",
    "solve(exp(x), x)"
   ]
  },
  {
   "cell_type": "markdown",
   "id": "naval-taiwan",
   "metadata": {},
   "source": [
    "Bestimme nun die Nullstelle der Funktion $18\\cdot x^2-12$"
   ]
  },
  {
   "cell_type": "code",
   "execution_count": null,
   "id": "attended-demographic",
   "metadata": {},
   "outputs": [],
   "source": [
    "x = Symbol('x')\n",
    "solve(18*x**2-12, x)"
   ]
  },
  {
   "cell_type": "code",
   "execution_count": null,
   "id": "double-antarctica",
   "metadata": {},
   "outputs": [],
   "source": [
    "# stelle die erste (nullte) Lösung in gerundeter numerischer Form da:\n",
    "solve(18*x**2-12, x)[0].n()"
   ]
  },
  {
   "cell_type": "code",
   "execution_count": null,
   "id": "younger-profession",
   "metadata": {
    "ExecuteTime": {
     "end_time": "2022-05-26T10:50:52.066478Z",
     "start_time": "2022-05-26T10:50:50.210810Z"
    }
   },
   "outputs": [],
   "source": [
    "# stelle die erste (nullte) Lösung in gerundeter numerischer Form da:\n",
    "solve(18*x**2-12, x)[1].n()"
   ]
  },
  {
   "cell_type": "markdown",
   "id": "caring-wright",
   "metadata": {},
   "source": [
    "Bestimme nun die Nullstelle der Funktion $sin(x)$"
   ]
  },
  {
   "cell_type": "code",
   "execution_count": null,
   "id": "attractive-portsmouth",
   "metadata": {},
   "outputs": [],
   "source": [
    "x = Symbol('x')\n",
    "solve(sin(x), x)"
   ]
  },
  {
   "cell_type": "markdown",
   "id": "wireless-currency",
   "metadata": {},
   "source": [
    "***Eigene Aufgabe:***\n",
    "\n",
    "Berechne jetzt die Nullstellen von $y(x)=x^3-2x^2-27x+12$"
   ]
  },
  {
   "cell_type": "code",
   "execution_count": null,
   "id": "hazardous-contemporary",
   "metadata": {},
   "outputs": [],
   "source": [
    "#Hier die eigene Lösung\n"
   ]
  },
  {
   "cell_type": "markdown",
   "id": "returning-printing",
   "metadata": {},
   "source": [
    "### Gleichungen lösen"
   ]
  },
  {
   "cell_type": "markdown",
   "id": "accurate-taxation",
   "metadata": {},
   "source": [
    "Löse die Gleichung $a x^2+bx+c=0$"
   ]
  },
  {
   "cell_type": "code",
   "execution_count": null,
   "id": "academic-harris",
   "metadata": {},
   "outputs": [],
   "source": [
    "a, b, c, x = symbols(('a', 'b', 'c', 'x'))\n",
    "quadratic_equation = Eq(a*x**2+b*x+c, 0)\n",
    "solve(quadratic_equation)"
   ]
  },
  {
   "cell_type": "code",
   "execution_count": null,
   "id": "geographic-needle",
   "metadata": {
    "scrolled": true
   },
   "outputs": [],
   "source": [
    "solve(quadratic_equation, x) #nach x auflösen"
   ]
  },
  {
   "cell_type": "code",
   "execution_count": null,
   "id": "considered-attention",
   "metadata": {},
   "outputs": [],
   "source": [
    "roots=solve(quadratic_equation, x)\n",
    "roots[0]"
   ]
  },
  {
   "cell_type": "markdown",
   "id": "suffering-cholesterol",
   "metadata": {},
   "source": [
    "Löse ein Gleichungssystem:\n",
    "$$x+2y=0$$\n",
    "$$x\\cdot y=z_0$$\n"
   ]
  },
  {
   "cell_type": "code",
   "execution_count": null,
   "id": "published-thumbnail",
   "metadata": {},
   "outputs": [],
   "source": [
    "import sympy"
   ]
  },
  {
   "cell_type": "code",
   "execution_count": null,
   "id": "fleet-software",
   "metadata": {},
   "outputs": [],
   "source": [
    "x, y, z = symbols(('x','y','z'))\n",
    "eq1 = Eq(x+2*y, 0)\n",
    "eq2 = Eq(x*y, z)\n",
    "solve([eq1, eq2], [x, y])"
   ]
  },
  {
   "cell_type": "code",
   "execution_count": null,
   "id": "applicable-effectiveness",
   "metadata": {},
   "outputs": [],
   "source": [
    "solve([sin(x + y), cos(x - y)], [x, y])"
   ]
  },
  {
   "cell_type": "code",
   "execution_count": null,
   "id": "governmental-validity",
   "metadata": {},
   "outputs": [],
   "source": [
    "x,y = symbols('x,y')\n",
    "eq1 = Eq(x+y,5)\n",
    "eq2 = Eq(x**2+y**2,17)\n",
    "result = solve([eq1,eq2],(x,y))\n",
    "print(result)"
   ]
  },
  {
   "cell_type": "markdown",
   "id": "great-december",
   "metadata": {},
   "source": [
    "### Funktionen ableiten\n"
   ]
  },
  {
   "cell_type": "code",
   "execution_count": null,
   "id": "reverse-basket",
   "metadata": {},
   "outputs": [],
   "source": [
    "import sympy as sym"
   ]
  },
  {
   "cell_type": "code",
   "execution_count": null,
   "id": "planned-arctic",
   "metadata": {},
   "outputs": [],
   "source": [
    "x, y, a, b = sym.symbols('x y a b')"
   ]
  },
  {
   "cell_type": "markdown",
   "id": "5495dff2",
   "metadata": {},
   "source": [
    "Wir erstellen die uns bereits bekannte Funktion und leiten diese anschließend ab"
   ]
  },
  {
   "cell_type": "code",
   "execution_count": null,
   "id": "composite-administration",
   "metadata": {},
   "outputs": [],
   "source": [
    "y=a*x**2+b\n",
    "y"
   ]
  },
  {
   "cell_type": "code",
   "execution_count": null,
   "id": "265f5688",
   "metadata": {},
   "outputs": [],
   "source": [
    "sym.diff(y,x)"
   ]
  },
  {
   "cell_type": "markdown",
   "id": "49214b51",
   "metadata": {},
   "source": [
    "***Eigene Aufgabe:***\n",
    "\n",
    "Leite die Gleichung $2z^3 + 4z^2 -5=0$ nach x ab"
   ]
  },
  {
   "cell_type": "code",
   "execution_count": null,
   "id": "9fb475db",
   "metadata": {},
   "outputs": [],
   "source": [
    "#Deine Lösung\n"
   ]
  },
  {
   "cell_type": "code",
   "execution_count": null,
   "id": "559e0bd2",
   "metadata": {},
   "outputs": [],
   "source": [
    "y=1/sym.cos(x)"
   ]
  },
  {
   "cell_type": "code",
   "execution_count": null,
   "id": "7a512e8f",
   "metadata": {},
   "outputs": [],
   "source": [
    "sym.diff(y,x)"
   ]
  },
  {
   "cell_type": "markdown",
   "id": "outdoor-sacramento",
   "metadata": {},
   "source": [
    "### Funktionen integrieren"
   ]
  },
  {
   "cell_type": "code",
   "execution_count": null,
   "id": "tribal-daughter",
   "metadata": {},
   "outputs": [],
   "source": [
    "y"
   ]
  },
  {
   "cell_type": "code",
   "execution_count": null,
   "id": "local-danish",
   "metadata": {
    "scrolled": true
   },
   "outputs": [],
   "source": [
    "sym.integrate(y,x)"
   ]
  },
  {
   "cell_type": "markdown",
   "id": "ea26fda9",
   "metadata": {},
   "source": [
    "***Eigene Aufgabe:***\n",
    "\n",
    "Integriere die Gleichung $2z^3 + 4z^2 -5=0$ nach x"
   ]
  },
  {
   "cell_type": "code",
   "execution_count": null,
   "id": "aaddfed7",
   "metadata": {},
   "outputs": [],
   "source": [
    "#Deine Lösung\n"
   ]
  },
  {
   "cell_type": "markdown",
   "id": "ecological-fellow",
   "metadata": {},
   "source": [
    "### Visualisierung von Funktionen"
   ]
  },
  {
   "cell_type": "code",
   "execution_count": null,
   "id": "suited-looking",
   "metadata": {},
   "outputs": [],
   "source": [
    "y"
   ]
  },
  {
   "cell_type": "code",
   "execution_count": null,
   "id": "social-robert",
   "metadata": {},
   "outputs": [],
   "source": [
    "sym.plot(y,x)"
   ]
  },
  {
   "cell_type": "markdown",
   "id": "amateur-provincial",
   "metadata": {},
   "source": [
    "Um eine Funkion plotten zu können ist es notwendig, alle Variablen bis auf die Laufvariable durch Zahlenwerte zu ersetzen. Nutze dazu `.subs(VARIABLE, ZAHL)`"
   ]
  },
  {
   "cell_type": "code",
   "execution_count": null,
   "id": "continuing-bangladesh",
   "metadata": {},
   "outputs": [],
   "source": [
    "sym.plot(y.subs(a,2).subs(b,3))"
   ]
  },
  {
   "cell_type": "markdown",
   "id": "valid-chassis",
   "metadata": {},
   "source": [
    "## Linerae Algebra"
   ]
  },
  {
   "cell_type": "markdown",
   "id": "governmental-favor",
   "metadata": {},
   "source": [
    "### Vektorrechnung\n",
    "https://www.python-kurs.eu/matrix_arithmetik.php"
   ]
  },
  {
   "cell_type": "code",
   "execution_count": null,
   "id": "blocked-pointer",
   "metadata": {},
   "outputs": [],
   "source": [
    "import numpy as np"
   ]
  },
  {
   "cell_type": "code",
   "execution_count": null,
   "id": "stunning-thinking",
   "metadata": {},
   "outputs": [],
   "source": [
    "x = np.array([1,5,2])\n",
    "x"
   ]
  },
  {
   "cell_type": "code",
   "execution_count": null,
   "id": "domestic-measure",
   "metadata": {},
   "outputs": [],
   "source": [
    "y = np.array([7,4,1])"
   ]
  },
  {
   "cell_type": "code",
   "execution_count": null,
   "id": "significant-madison",
   "metadata": {},
   "outputs": [],
   "source": [
    "x+y"
   ]
  },
  {
   "cell_type": "code",
   "execution_count": null,
   "id": "abstract-hypothetical",
   "metadata": {},
   "outputs": [],
   "source": [
    "#Vektorprodukt\n",
    "x*y"
   ]
  },
  {
   "cell_type": "code",
   "execution_count": null,
   "id": "broadband-soundtrack",
   "metadata": {},
   "outputs": [],
   "source": [
    "x-y"
   ]
  },
  {
   "cell_type": "code",
   "execution_count": null,
   "id": "specific-lying",
   "metadata": {},
   "outputs": [],
   "source": [
    "x/y"
   ]
  },
  {
   "cell_type": "code",
   "execution_count": null,
   "id": "personal-stevens",
   "metadata": {},
   "outputs": [],
   "source": [
    "x%y"
   ]
  },
  {
   "cell_type": "code",
   "execution_count": null,
   "id": "worst-helicopter",
   "metadata": {},
   "outputs": [],
   "source": [
    "#Skalarprodukt\n",
    "x@y"
   ]
  },
  {
   "cell_type": "markdown",
   "id": "mounted-adventure",
   "metadata": {},
   "source": [
    "### Matrixrechnung"
   ]
  },
  {
   "cell_type": "code",
   "execution_count": null,
   "id": "immediate-flour",
   "metadata": {},
   "outputs": [],
   "source": [
    "A=np.matrix(((1,2),(3,4)))\n",
    "A"
   ]
  },
  {
   "cell_type": "code",
   "execution_count": null,
   "id": "derived-stranger",
   "metadata": {},
   "outputs": [],
   "source": [
    "B=np.matrix( ((1,2), (5, -1)) )"
   ]
  },
  {
   "cell_type": "code",
   "execution_count": null,
   "id": "extended-pennsylvania",
   "metadata": {},
   "outputs": [],
   "source": [
    "A*B"
   ]
  },
  {
   "cell_type": "markdown",
   "id": "valid-survivor",
   "metadata": {},
   "source": [
    "## 2. Stochastik\n",
    "Python ist ein sehr mächtiges Tool, um stochastische Kennwerte wie Mittelwerte, Standardabweichung, etc. zu berechnen.\n",
    "\n",
    "import numpy as np"
   ]
  },
  {
   "cell_type": "code",
   "execution_count": null,
   "id": "dangerous-purchase",
   "metadata": {},
   "outputs": [],
   "source": [
    "#Erzeugung der Testdaten\n",
    "mu, sigma = 7, 0.1 # mean and standard deviation\n",
    "s = np.random.normal(mu, sigma, 1000)"
   ]
  },
  {
   "cell_type": "code",
   "execution_count": null,
   "id": "offshore-norfolk",
   "metadata": {},
   "outputs": [],
   "source": [
    "s"
   ]
  },
  {
   "cell_type": "code",
   "execution_count": null,
   "id": "binding-start",
   "metadata": {},
   "outputs": [],
   "source": [
    "#Mittelwert\n",
    "np.mean(s)"
   ]
  },
  {
   "cell_type": "code",
   "execution_count": null,
   "id": "surgical-negotiation",
   "metadata": {},
   "outputs": [],
   "source": [
    "#Standardabweichung\n",
    "np.std(s)"
   ]
  },
  {
   "cell_type": "markdown",
   "id": "optimum-bunny",
   "metadata": {},
   "source": [
    "## 3. Visualisierung von Daten"
   ]
  },
  {
   "cell_type": "markdown",
   "id": "fc3cd282",
   "metadata": {},
   "source": [
    "Hilfestellung für das Finden desr richtigen Visualisierung: https://www.data-to-viz.com"
   ]
  },
  {
   "cell_type": "code",
   "execution_count": null,
   "id": "bacterial-dryer",
   "metadata": {},
   "outputs": [],
   "source": [
    "from matplotlib import pyplot as plt"
   ]
  },
  {
   "cell_type": "code",
   "execution_count": null,
   "id": "statewide-offset",
   "metadata": {},
   "outputs": [],
   "source": [
    "#Visualisierung der Statistischen Daten s\n",
    "plt.hist(s)"
   ]
  },
  {
   "cell_type": "markdown",
   "id": "least-dayton",
   "metadata": {},
   "source": [
    "Lege einen Dataframe mit den x-Werten $[1,2,3,4,5,6,7,8,9]$ und den y-Werten $[7,5,6,9,12,15,20,12,5]$ an und stelle diesen auf unterschiedliche Weisen dar."
   ]
  },
  {
   "cell_type": "code",
   "execution_count": null,
   "id": "future-bloom",
   "metadata": {},
   "outputs": [],
   "source": [
    "import pandas as pd"
   ]
  },
  {
   "cell_type": "code",
   "execution_count": null,
   "id": "applied-edinburgh",
   "metadata": {},
   "outputs": [],
   "source": [
    "df=pd.DataFrame({'x':[1,2,3,4,5,6,7,8,9],'y':[7,5,6,9,12,15,20,12,5]})\n",
    "df"
   ]
  },
  {
   "cell_type": "code",
   "execution_count": null,
   "id": "noble-locator",
   "metadata": {},
   "outputs": [],
   "source": [
    "#Scatterplot\n",
    "plt.scatter(df.x,df.y)"
   ]
  },
  {
   "cell_type": "code",
   "execution_count": null,
   "id": "alleged-grave",
   "metadata": {},
   "outputs": [],
   "source": [
    "#Beschrifdtung der Achsen\n",
    "plt.scatter(df.x,df.y)\n",
    "plt.xlabel('x-Achse')\n",
    "plt.ylabel('y-Achse')"
   ]
  },
  {
   "cell_type": "code",
   "execution_count": null,
   "id": "hired-going",
   "metadata": {},
   "outputs": [],
   "source": [
    "#Beschrifdtung der Achsen\n",
    "plt.scatter(df.x,df.y)\n",
    "plt.xlabel('x-Achse')\n",
    "plt.ylabel('y-Achse')\n",
    "plt.title('Titel der Abbildung')"
   ]
  },
  {
   "cell_type": "code",
   "execution_count": null,
   "id": "excessive-consideration",
   "metadata": {},
   "outputs": [],
   "source": [
    "# Stepplot\n",
    "plt.step(df.x,df.y)"
   ]
  },
  {
   "cell_type": "code",
   "execution_count": null,
   "id": "bacterial-anthony",
   "metadata": {},
   "outputs": [],
   "source": [
    "# Barplot\n",
    "plt.bar(df.x,df.y)"
   ]
  },
  {
   "cell_type": "code",
   "execution_count": null,
   "id": "buried-graduate",
   "metadata": {},
   "outputs": [],
   "source": [
    "# Pieplot\n",
    "plt.pie(df.y)"
   ]
  },
  {
   "cell_type": "code",
   "execution_count": null,
   "id": "regular-siemens",
   "metadata": {},
   "outputs": [],
   "source": [
    "# Linienplot\n",
    "plt.plot(df.x,df.y)"
   ]
  },
  {
   "cell_type": "code",
   "execution_count": null,
   "id": "correct-housing",
   "metadata": {},
   "outputs": [],
   "source": [
    "#Änderungen der Stile\n",
    "plt.plot(df.x,df.y,color='red')"
   ]
  },
  {
   "cell_type": "code",
   "execution_count": null,
   "id": "celtic-extension",
   "metadata": {},
   "outputs": [],
   "source": [
    "#Änderungen der Stile\n",
    "plt.plot(df.x,df.y,color='red',marker='x')"
   ]
  },
  {
   "cell_type": "code",
   "execution_count": null,
   "id": "confirmed-dragon",
   "metadata": {},
   "outputs": [],
   "source": [
    "#Änderungen der Stile\n",
    "plt.plot(df.x,df.y,color='red',marker='x',linestyle='--')"
   ]
  },
  {
   "cell_type": "markdown",
   "id": "presidential-sitting",
   "metadata": {},
   "source": []
  },
  {
   "cell_type": "markdown",
   "id": "0f3f56c4",
   "metadata": {},
   "source": [
    "# Anwendungsbeispiel Abituraufgabe"
   ]
  },
  {
   "cell_type": "markdown",
   "id": "f5964306",
   "metadata": {},
   "source": [
    "Im folgenden wird eine schöne Lösung für eine Aufgabe aus der Analysis aus dem Bayerischen Probeabitur (https://abiturma.de/mathe-abituraufgaben/bayern/probeabitur/analysis/b1) präsentiert.\n",
    "\n",
    "Eine ähnliche Belegaufgabe könnte hier gelöst werden und als Ausdruck abgegeben werden."
   ]
  },
  {
   "cell_type": "markdown",
   "id": "5d0b460b",
   "metadata": {},
   "source": [
    "In gewissen Wüstenregionen existieren Flüsse, die nur einige Wochen nach Beginn der Regenzeit Wasser führen. Die Durchflussgeschwindigkeit des Wassers wird für diesen Zeitraum beschrieben durch die Funktion\n",
    "\n",
    "\n",
    "$ f:t\\mapsto 1,8\\cdot e^{\\tfrac{-t}{10}}\\cdot\\left(1- e^{\\tfrac{-t}{10}}\\right).$"
   ]
  },
  {
   "cell_type": "markdown",
   "id": "eae3febb",
   "metadata": {},
   "source": [
    "Dabei ist $f(t)$ die Durchflussgeschwindigkeit in Millionen $\\mathrm{m}^3$ pro Tag zum Zeitpunkt $t$ und $t$ die Zeit in Tagen. Die Regenzeit beginnt zum Zeitpunkt $t=0$. "
   ]
  },
  {
   "cell_type": "markdown",
   "id": "bb59d2cc",
   "metadata": {},
   "source": [
    "### a) Bestimmen Sie die Extrem- und Wendepunkte des Graphen von $f$ und zeichnen Sie den Graphen in ein geeignetes Koordinatensystem."
   ]
  },
  {
   "cell_type": "code",
   "execution_count": null,
   "id": "e68c697e",
   "metadata": {},
   "outputs": [],
   "source": [
    "import sympy as sym"
   ]
  },
  {
   "cell_type": "code",
   "execution_count": null,
   "id": "a94dd2e7",
   "metadata": {},
   "outputs": [],
   "source": [
    "t = sym.Symbol('t')"
   ]
  },
  {
   "cell_type": "code",
   "execution_count": null,
   "id": "7a20dc3f",
   "metadata": {},
   "outputs": [],
   "source": [
    "f = 1.8 * sym.exp(-t/10) * (1-sym.exp(-t/10))"
   ]
  },
  {
   "cell_type": "code",
   "execution_count": null,
   "id": "716e1031",
   "metadata": {},
   "outputs": [],
   "source": [
    "f"
   ]
  },
  {
   "cell_type": "code",
   "execution_count": null,
   "id": "98ad0525",
   "metadata": {},
   "outputs": [],
   "source": [
    "sym.plotting.plot(f)"
   ]
  },
  {
   "cell_type": "code",
   "execution_count": null,
   "id": "6917097c",
   "metadata": {},
   "outputs": [],
   "source": [
    "#Nochmal schöner mit Titel und Achsenbeschriftungen\n",
    "sym.plotting.plot(f, title='Darstellung f(t)', xlabel='t in Tagen', ylabel='Durchflussgeschwindigkeit im Mio m^3', xlim=[-20,20])"
   ]
  },
  {
   "cell_type": "code",
   "execution_count": null,
   "id": "560aa3e3",
   "metadata": {},
   "outputs": [],
   "source": [
    "# Berechne die erste und zweite Ableitung\n",
    "df = sym.diff(f, t)\n",
    "df"
   ]
  },
  {
   "cell_type": "code",
   "execution_count": null,
   "id": "de6d6872",
   "metadata": {},
   "outputs": [],
   "source": [
    "ddf = sym.diff(df, t)\n",
    "ddf"
   ]
  },
  {
   "cell_type": "code",
   "execution_count": null,
   "id": "3237cb44",
   "metadata": {},
   "outputs": [],
   "source": [
    "# Finde die Nullstellen der ersten Ableitung als Kandidaten für Extremwerte\n",
    "sym.solve(df,t)"
   ]
  },
  {
   "cell_type": "code",
   "execution_count": null,
   "id": "9ab6fc28",
   "metadata": {},
   "outputs": [],
   "source": [
    "x1 = sym.solve(df,t)[0]\n",
    "x1"
   ]
  },
  {
   "cell_type": "code",
   "execution_count": null,
   "id": "dd102c07",
   "metadata": {},
   "outputs": [],
   "source": [
    "# Setze diesen Wert in die zweite Ableitung ein\n",
    "ddf.subs(t,x1)"
   ]
  },
  {
   "cell_type": "markdown",
   "id": "46b6a9d2",
   "metadata": {},
   "source": [
    "Dieser Wert ist kleiner Null, es handelt sich beim Kandidaten $x1$ also um ein Maximum."
   ]
  },
  {
   "cell_type": "code",
   "execution_count": null,
   "id": "4750896a",
   "metadata": {},
   "outputs": [],
   "source": [
    "# Setze den x-Wert ein, um die y-Komponente des Maximums zu erhalten\n",
    "y1 = f.subs(t,x1)\n",
    "y1"
   ]
  },
  {
   "cell_type": "markdown",
   "id": "f3cd6a1b",
   "metadata": {},
   "source": [
    "Das Maximum liegt also bei (x1,y1) = (6.931, 0.45)"
   ]
  },
  {
   "cell_type": "code",
   "execution_count": null,
   "id": "86a1dcf6",
   "metadata": {},
   "outputs": [],
   "source": [
    "# Setze die zweite Ableitung gleich Null zur Bestimmung der Wendepunkte\n",
    "x2 = sym.solve(ddf,t)\n",
    "x2"
   ]
  },
  {
   "cell_type": "code",
   "execution_count": null,
   "id": "564b688d",
   "metadata": {},
   "outputs": [],
   "source": [
    "# Berechne die dritte Ableitung und setzte den Kandidaten für den Wendepunkt ein\n",
    "dddf = sym.diff(ddf,t)\n",
    "dddf"
   ]
  },
  {
   "cell_type": "code",
   "execution_count": null,
   "id": "6b1531d0",
   "metadata": {},
   "outputs": [],
   "source": [
    "dddf.subs(t,x2[0])"
   ]
  },
  {
   "cell_type": "markdown",
   "id": "f2f0ee34",
   "metadata": {},
   "source": [
    "Dieser Wert ist ungleich Null, also liegt hier tatsächlich ein Wendepunkt vor."
   ]
  },
  {
   "cell_type": "code",
   "execution_count": null,
   "id": "2599ba3a",
   "metadata": {},
   "outputs": [],
   "source": [
    "y2 = f.subs(t,x2[0])\n",
    "y2"
   ]
  },
  {
   "cell_type": "code",
   "execution_count": null,
   "id": "cb083e59",
   "metadata": {},
   "outputs": [],
   "source": [
    "print(f'Die Wendestelle liegt bei ({x2[0]},{y2}).')"
   ]
  },
  {
   "cell_type": "code",
   "execution_count": null,
   "id": "ef664a7e",
   "metadata": {},
   "outputs": [],
   "source": [
    "#Nochmal schöner mit Titel und Achsenbeschriftungen, offensichtlich muss der Bereich erweitert werden: es interessieren erst Werte ab Null\n",
    "sym.plotting.plot(f, (t,0,20), title='Darstellung f(t)', xlabel='t in Tagen', ylabel='Durchflussgeschwindigkeit im Mio m^3')"
   ]
  },
  {
   "cell_type": "markdown",
   "id": "a683b814",
   "metadata": {},
   "source": [
    "Eine schönere Darstellung lässt sich mit dem Paket Matplotlib erreichen:\n"
   ]
  },
  {
   "cell_type": "code",
   "execution_count": null,
   "id": "5ac87e52",
   "metadata": {},
   "outputs": [],
   "source": [
    "import matplotlib.pyplot as plt\n",
    "import numpy as np"
   ]
  },
  {
   "cell_type": "code",
   "execution_count": null,
   "id": "0a8dc7a1",
   "metadata": {},
   "outputs": [],
   "source": [
    "f"
   ]
  },
  {
   "cell_type": "code",
   "execution_count": null,
   "id": "8611152f",
   "metadata": {},
   "outputs": [],
   "source": [
    "#Generate Points to plot\n",
    "x = np.linspace(0,20,500) #generiert 500 gleichverteilte Werte zwischen 0 und 20\n",
    "y = [f.subs(t,q) for q in x]"
   ]
  },
  {
   "cell_type": "code",
   "execution_count": null,
   "id": "07ba0fc2",
   "metadata": {},
   "outputs": [],
   "source": [
    "plt.plot(x,y)\n",
    "plt.scatter(x1,y1, label = 'Maximum')\n",
    "plt.scatter(x2,y2, label = 'Wendestelle')\n",
    "plt.legend()\n",
    "plt.xlabel('$t$ in Tagen')\n",
    "plt.ylabel('Durchflussgeschw. in $m^3$')"
   ]
  },
  {
   "cell_type": "markdown",
   "id": "ec74023c",
   "metadata": {},
   "source": [
    "### b) Bestimmen Sie den Verlauf des Graphen für $t \\rightarrow +\\infty$ und erläutern Sie den Verlauf des Graphen im Sachzusammenhang. "
   ]
  },
  {
   "cell_type": "code",
   "execution_count": null,
   "id": "8d1e6697",
   "metadata": {},
   "outputs": [],
   "source": [
    "f.subs(t,1000000).evalf()"
   ]
  },
  {
   "cell_type": "markdown",
   "id": "e83d2826",
   "metadata": {},
   "source": [
    "Sympy hat hier eine eigene Funktion zur Berechnung der Grenzwerte: "
   ]
  },
  {
   "cell_type": "code",
   "execution_count": null,
   "id": "8033d5d0",
   "metadata": {},
   "outputs": [],
   "source": [
    "sym.limit(f,t,'oo')"
   ]
  },
  {
   "cell_type": "code",
   "execution_count": null,
   "id": "ccc2ca1c",
   "metadata": {},
   "outputs": [],
   "source": [
    "sym.limit(f,t,'-oo')"
   ]
  },
  {
   "cell_type": "markdown",
   "id": "fe2a114b",
   "metadata": {},
   "source": [
    "### c) Durch die engste Stelle des Flusses können höchstens 0,5 Millionen Kubikmeter pro Tag fließen. Überprüfen Sie, ob der Fluss an dieser Stelle irgendwann nach Beginn der Regenzeit über die Ufer tritt. "
   ]
  },
  {
   "cell_type": "markdown",
   "id": "739f0639",
   "metadata": {},
   "source": [
    "Da das Maximum unter der höchsten zulässigen Durchflussmenge liegtund die Funktion links und rechts vom Maximum streng monton fällt, tritt der Fluss nie über die Ufer."
   ]
  },
  {
   "cell_type": "markdown",
   "id": "8690c7f6",
   "metadata": {},
   "source": [
    "### Berechnen Sie das Integral\n",
    "$\\int_4^{18}{f(t)}{dt}$ \n",
    "unter Verwendung einer Stammfunktion und erläutern Sie das Ergebnis im Sachzusammenhang. "
   ]
  },
  {
   "cell_type": "code",
   "execution_count": null,
   "id": "d50b6f84",
   "metadata": {},
   "outputs": [],
   "source": [
    "#Bestimmung der Stammfunktion\n",
    "F = sym.integrate(f,t)\n",
    "F"
   ]
  },
  {
   "cell_type": "code",
   "execution_count": null,
   "id": "53c76206",
   "metadata": {},
   "outputs": [],
   "source": [
    "# Bestimmung des Wertes des absoluten Integrals\n",
    "V = sym.integrate(f,(t,4,18))\n",
    "V"
   ]
  },
  {
   "cell_type": "code",
   "execution_count": null,
   "id": "2e7cfb49",
   "metadata": {},
   "outputs": [],
   "source": [
    "V.evalf()"
   ]
  },
  {
   "cell_type": "code",
   "execution_count": null,
   "id": "5142aadb",
   "metadata": {},
   "outputs": [],
   "source": [
    "print(f'Es ergibt sich eine im Zeitintervall zwischen dem 4. und dem 18. Tag durchgeflossene Wassermenge von {V.evalf():.3f} Mio m^3.')"
   ]
  },
  {
   "cell_type": "markdown",
   "id": "17d1100a",
   "metadata": {},
   "source": [
    "### f) Die Durchflussgeschwindigkeit soll nun für die ersten 7 Tage nach Beginn der Regenzeit durch eine quadratische Funktion genähert werden. Dazu werden der Punkt $A(0|0)$ und der Punkt $S(6|0,45)$ als Scheitelpunkt der Näherungsparabel verwendet."
   ]
  },
  {
   "cell_type": "markdown",
   "id": "8a379827",
   "metadata": {},
   "source": [
    "Bestimmen Sie die Gleichung der Näherungsfunktion."
   ]
  },
  {
   "cell_type": "code",
   "execution_count": null,
   "id": "2e571085",
   "metadata": {},
   "outputs": [],
   "source": [
    "a, b, c = sym.symbols('a b c')"
   ]
  },
  {
   "cell_type": "code",
   "execution_count": null,
   "id": "adc4b6a7",
   "metadata": {},
   "outputs": [],
   "source": [
    "g = a*t**2 + b*t + c\n",
    "g"
   ]
  },
  {
   "cell_type": "code",
   "execution_count": null,
   "id": "93845dfc",
   "metadata": {},
   "outputs": [],
   "source": [
    "dg = sym.diff(g,t)\n",
    "dg"
   ]
  },
  {
   "cell_type": "code",
   "execution_count": null,
   "id": "097ef2d7",
   "metadata": {},
   "outputs": [],
   "source": [
    "eq1 = sym.Eq(g.subs(t,0),0)\n",
    "eq2 = sym.Eq(g.subs(t,6),0.45)\n",
    "eq3 = sym.Eq(dg.subs(t,6),0)"
   ]
  },
  {
   "cell_type": "code",
   "execution_count": null,
   "id": "327572bc",
   "metadata": {},
   "outputs": [],
   "source": [
    "res = sym.solve([eq1, eq2, eq3], [a,b,c])\n",
    "res"
   ]
  },
  {
   "cell_type": "code",
   "execution_count": null,
   "id": "7373012f",
   "metadata": {},
   "outputs": [],
   "source": [
    "g.subs(res)"
   ]
  },
  {
   "cell_type": "markdown",
   "id": "6e3f913d",
   "metadata": {},
   "source": [
    "### f) Es gilt ohne Nachweis $\\int_0^7f(t)dt\\approx2,28.$ Beurteilen Sie hiermit die Güte der Näherungsfunktion. "
   ]
  },
  {
   "cell_type": "code",
   "execution_count": null,
   "id": "998543d3",
   "metadata": {},
   "outputs": [],
   "source": [
    "A1 = sym.integrate(f,(t,0,7))\n",
    "A1 = A1.evalf()"
   ]
  },
  {
   "cell_type": "code",
   "execution_count": null,
   "id": "d8b30961",
   "metadata": {},
   "outputs": [],
   "source": [
    "A2 = sym.integrate(g.subs(res),(t,0,7))\n",
    "A2"
   ]
  },
  {
   "cell_type": "code",
   "execution_count": null,
   "id": "30e218c6",
   "metadata": {},
   "outputs": [],
   "source": [
    "A1-A2"
   ]
  },
  {
   "cell_type": "code",
   "execution_count": null,
   "id": "a790cf9b",
   "metadata": {},
   "outputs": [],
   "source": [
    "(A1-A2)/A1"
   ]
  },
  {
   "cell_type": "markdown",
   "id": "c69e0d05",
   "metadata": {},
   "source": [
    "Die Abweichung liegt also in etwas bei 1,5%.\n"
   ]
  },
  {
   "cell_type": "markdown",
   "id": "399984f3",
   "metadata": {},
   "source": []
  }
 ],
 "metadata": {
  "kernelspec": {
   "display_name": "Python 3.10.5 64-bit",
   "language": "python",
   "name": "python3"
  },
  "language_info": {
   "codemirror_mode": {
    "name": "ipython",
    "version": 3
   },
   "file_extension": ".py",
   "mimetype": "text/x-python",
   "name": "python",
   "nbconvert_exporter": "python",
   "pygments_lexer": "ipython3",
   "version": "3.10.5"
  },
  "varInspector": {
   "cols": {
    "lenName": 16,
    "lenType": 16,
    "lenVar": 40
   },
   "kernels_config": {
    "python": {
     "delete_cmd_postfix": "",
     "delete_cmd_prefix": "del ",
     "library": "var_list.py",
     "varRefreshCmd": "print(var_dic_list())"
    },
    "r": {
     "delete_cmd_postfix": ") ",
     "delete_cmd_prefix": "rm(",
     "library": "var_list.r",
     "varRefreshCmd": "cat(var_dic_list()) "
    }
   },
   "types_to_exclude": [
    "module",
    "function",
    "builtin_function_or_method",
    "instance",
    "_Feature"
   ],
   "window_display": true
  },
  "vscode": {
   "interpreter": {
    "hash": "26de051ba29f2982a8de78e945f0abaf191376122a1563185a90213a26c5da77"
   }
  }
 },
 "nbformat": 4,
 "nbformat_minor": 5
}
