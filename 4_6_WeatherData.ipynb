{
 "cells": [
  {
   "cell_type": "markdown",
   "id": "31c37668",
   "metadata": {},
   "source": [
    "# Weather Data\n",
    "\n",
    "https://www.youtube.com/watch?v=4hYOkHijtNw\n",
    "\n",
    "dataset: https://drive.google.com/file/d/1JvD4Ss2yS3d9X36YkWqmqZXLamNWLSFJ/view\n",
    "\n",
    "commands: https://drive.google.com/file/d/1y5xWgslRARtCsIgMpasud4W0T1p3r5LR/view"
   ]
  },
  {
   "cell_type": "code",
   "execution_count": null,
   "id": "1b22ca99",
   "metadata": {
    "ExecuteTime": {
     "end_time": "2021-10-17T12:48:22.712741Z",
     "start_time": "2021-10-17T12:48:22.165123Z"
    }
   },
   "outputs": [],
   "source": [
    "# import pandas\n",
    "import pandas as pd"
   ]
  },
  {
   "cell_type": "markdown",
   "id": "a0f20e1d",
   "metadata": {},
   "source": [
    "Import Data from *data/WeatherData.csv*"
   ]
  },
  {
   "cell_type": "code",
   "execution_count": null,
   "id": "e256d38f",
   "metadata": {
    "ExecuteTime": {
     "end_time": "2021-10-17T12:49:06.189123Z",
     "start_time": "2021-10-17T12:49:06.111882Z"
    },
    "scrolled": true
   },
   "outputs": [],
   "source": [
    "#import data\n",
    "df = pd.read_csv('data/WeatherData.csv')\n",
    "df"
   ]
  },
  {
   "cell_type": "markdown",
   "id": "fb4d8fa3",
   "metadata": {},
   "source": [
    "**Find all the unique 'Wind Speed' values in the data.**"
   ]
  },
  {
   "cell_type": "code",
   "execution_count": null,
   "id": "04fcf933",
   "metadata": {},
   "outputs": [],
   "source": []
  },
  {
   "cell_type": "markdown",
   "id": "fbcff82d",
   "metadata": {},
   "source": [
    "**Find the number of times when the weather is exactly clear.**"
   ]
  },
  {
   "cell_type": "code",
   "execution_count": null,
   "id": "e9a5d078",
   "metadata": {
    "ExecuteTime": {
     "end_time": "2021-10-17T12:50:30.391361Z",
     "start_time": "2021-10-17T12:50:30.376363Z"
    }
   },
   "outputs": [],
   "source": [
    "# value_counts()\n"
   ]
  },
  {
   "cell_type": "code",
   "execution_count": null,
   "id": "3d2a461c",
   "metadata": {
    "ExecuteTime": {
     "end_time": "2021-10-17T12:50:35.279759Z",
     "start_time": "2021-10-17T12:50:35.263783Z"
    }
   },
   "outputs": [],
   "source": [
    "# Filtering\n",
    "\n"
   ]
  },
  {
   "cell_type": "code",
   "execution_count": null,
   "id": "9417708f",
   "metadata": {
    "ExecuteTime": {
     "end_time": "2021-10-17T12:50:40.654099Z",
     "start_time": "2021-10-17T12:50:40.648502Z"
    }
   },
   "outputs": [],
   "source": [
    "# groupby()\n"
   ]
  },
  {
   "cell_type": "code",
   "execution_count": null,
   "id": "cb0b8f19",
   "metadata": {},
   "outputs": [],
   "source": []
  },
  {
   "cell_type": "markdown",
   "id": "8761fa5c",
   "metadata": {},
   "source": [
    "**Find the number of times the wind speed was exavtly 4 kn/h.**"
   ]
  },
  {
   "cell_type": "code",
   "execution_count": null,
   "id": "7f6d8e6a",
   "metadata": {},
   "outputs": [],
   "source": []
  },
  {
   "cell_type": "markdown",
   "id": "1a7be044",
   "metadata": {},
   "source": [
    "**Find all the Null Values in the data.**"
   ]
  },
  {
   "cell_type": "code",
   "execution_count": null,
   "id": "ea7a979c",
   "metadata": {},
   "outputs": [],
   "source": []
  },
  {
   "cell_type": "markdown",
   "id": "c5fc1dda",
   "metadata": {},
   "source": [
    "**Rename the column name 'Wather' of the dataframe to 'Weather Condition'.**"
   ]
  },
  {
   "cell_type": "code",
   "execution_count": null,
   "id": "37c9a3ab",
   "metadata": {},
   "outputs": [],
   "source": []
  },
  {
   "cell_type": "markdown",
   "id": "d375b8fa",
   "metadata": {},
   "source": [
    "**What is the mean visability?**"
   ]
  },
  {
   "cell_type": "code",
   "execution_count": null,
   "id": "411f151f",
   "metadata": {},
   "outputs": [],
   "source": []
  },
  {
   "cell_type": "markdown",
   "id": "0a0853af",
   "metadata": {},
   "source": [
    "**What is the Standard Deviation of 'Pressure' in this data?**"
   ]
  },
  {
   "cell_type": "code",
   "execution_count": null,
   "id": "59d21727",
   "metadata": {},
   "outputs": [],
   "source": []
  },
  {
   "cell_type": "markdown",
   "id": "21115ef3",
   "metadata": {},
   "source": [
    "**What is the variance of 'Relative Huimidity' in this data?**"
   ]
  },
  {
   "cell_type": "code",
   "execution_count": null,
   "id": "acf0fa3b",
   "metadata": {},
   "outputs": [],
   "source": []
  },
  {
   "cell_type": "markdown",
   "id": "84dad0ce",
   "metadata": {},
   "source": [
    "**Fing all the instances when Snow was recorded.**"
   ]
  },
  {
   "cell_type": "code",
   "execution_count": null,
   "id": "d7a581be",
   "metadata": {},
   "outputs": [],
   "source": []
  },
  {
   "cell_type": "markdown",
   "id": "302be0fb",
   "metadata": {},
   "source": [
    "**Find all instances when 'Wind Speed is above 24' and 'Visibility is 25'.**"
   ]
  },
  {
   "cell_type": "markdown",
   "id": "276a86b8",
   "metadata": {},
   "source": [
    "**What is the Mean value of each column against each 'Weather Condition ?**"
   ]
  },
  {
   "cell_type": "markdown",
   "id": "bc8295a8",
   "metadata": {},
   "source": [
    "**What is the Minimum & Maximum value of each column against each 'Weather Condition ?**"
   ]
  },
  {
   "cell_type": "markdown",
   "id": "9e378cf9",
   "metadata": {},
   "source": [
    "**Show all the Records where Weather Condition is Fog.**"
   ]
  },
  {
   "cell_type": "markdown",
   "id": "20ed07c9",
   "metadata": {},
   "source": [
    "**Find all instances when 'Weather is Clear' or 'Visibility is above 40'.**"
   ]
  },
  {
   "cell_type": "markdown",
   "id": "45bdafa8",
   "metadata": {},
   "source": [
    "**Find all instances when :**\n",
    "\n",
    "A. 'Weather is Clear' and 'Relative Humidity is greater than 50'\n",
    "\n",
    "or\n",
    "\n",
    "B. 'Visibility is above 40'\n"
   ]
  },
  {
   "cell_type": "code",
   "execution_count": null,
   "id": "1488d401",
   "metadata": {},
   "outputs": [],
   "source": []
  }
 ],
 "metadata": {
  "kernelspec": {
   "display_name": "Python 3.10.5 64-bit",
   "language": "python",
   "name": "python3"
  },
  "language_info": {
   "codemirror_mode": {
    "name": "ipython",
    "version": 3
   },
   "file_extension": ".py",
   "mimetype": "text/x-python",
   "name": "python",
   "nbconvert_exporter": "python",
   "pygments_lexer": "ipython3",
   "version": "3.10.5"
  },
  "varInspector": {
   "cols": {
    "lenName": 16,
    "lenType": 16,
    "lenVar": 40
   },
   "kernels_config": {
    "python": {
     "delete_cmd_postfix": "",
     "delete_cmd_prefix": "del ",
     "library": "var_list.py",
     "varRefreshCmd": "print(var_dic_list())"
    },
    "r": {
     "delete_cmd_postfix": ") ",
     "delete_cmd_prefix": "rm(",
     "library": "var_list.r",
     "varRefreshCmd": "cat(var_dic_list()) "
    }
   },
   "types_to_exclude": [
    "module",
    "function",
    "builtin_function_or_method",
    "instance",
    "_Feature"
   ],
   "window_display": false
  },
  "vscode": {
   "interpreter": {
    "hash": "26de051ba29f2982a8de78e945f0abaf191376122a1563185a90213a26c5da77"
   }
  }
 },
 "nbformat": 4,
 "nbformat_minor": 5
}
