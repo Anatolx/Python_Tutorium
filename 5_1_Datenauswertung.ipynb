{
 "cells": [
  {
   "cell_type": "code",
   "execution_count": null,
   "id": "behavioral-grace",
   "metadata": {},
   "outputs": [],
   "source": [
    "from testfunktionen import *"
   ]
  },
  {
   "cell_type": "markdown",
   "id": "signal-patent",
   "metadata": {},
   "source": [
    "# Aufgabe 1: Physikprotokoll Pendelschwingung"
   ]
  },
  {
   "cell_type": "markdown",
   "id": "governmental-bedroom",
   "metadata": {},
   "source": [
    "https://www.kip.uni-heidelberg.de/user/hausmann/PrakPharm/11_einfuehrung.pdf\n",
    "\n",
    "- Messwerte in Dataframe schreiben\n",
    "- Minimum, Maximum, Mittelwert, Standardabweichung bestimmen\n",
    "- grafisch darstellen\n",
    "- Werte berechnen und mit den Messwerten vergleichen\n",
    "- Messwerte als .csv einlesen\n",
    "- (Kurve fitten)\n"
   ]
  },
  {
   "attachments": {
    "grafik.png": {
     "image/png": "[encoded data removed]"
    }
   },
   "cell_type": "markdown",
   "id": "familiar-occurrence",
   "metadata": {},
   "source": [
    "### Messwerte in Dataframe schreiben\n",
    "Folgende Werte wurden für die Periodendauer bei mehreren Schwingungsvorgängen gemessen:\n",
    "![grafik.png](attachment:grafik.png)\n",
    "Schreibe diese Werte in eine Liste."
   ]
  },
  {
   "cell_type": "code",
   "execution_count": null,
   "id": "piano-american",
   "metadata": {},
   "outputs": [],
   "source": [
    "periodendauer=[]\n"
   ]
  },
  {
   "cell_type": "markdown",
   "id": "contrary-sight",
   "metadata": {},
   "source": [
    "### Min, Max, Mittelwert und Standardabweichung berechnen\n",
    "Importiere dazu die Bibliothek NumPy:\n",
    "\n",
    "`import numpy as np`\n",
    "und berechne damit die gesuchten Werte.\n",
    "\n",
    "Mit den hinterlegten Testdunktionen kannst du überprüfen, ob die berechneten Werte korrekt sind.\n",
    "Trägst du statt dem Zahlenwert *'code'* in die Funktion ein, so wird der Code als Lösung angezeigt.\n",
    "\n",
    "*NumPy CheatSheet*: https://s3.amazonaws.com/assets.datacamp.com/blog_assets/Numpy_Python_Cheat_Sheet.pdf"
   ]
  },
  {
   "cell_type": "code",
   "execution_count": null,
   "id": "dedicated-ready",
   "metadata": {},
   "outputs": [],
   "source": [
    "# NumPy importieren\n"
   ]
  },
  {
   "cell_type": "code",
   "execution_count": null,
   "id": "external-radio",
   "metadata": {},
   "outputs": [],
   "source": [
    "# Minimum der Messwerte berechnen\n",
    "minimum = "
   ]
  },
  {
   "cell_type": "code",
   "execution_count": null,
   "id": "former-japan",
   "metadata": {},
   "outputs": [],
   "source": [
    "# berechneten Wert in die Testfunktion eintragen und überprüfen\n",
    "test_min(minimum)"
   ]
  },
  {
   "cell_type": "code",
   "execution_count": null,
   "id": "usual-software",
   "metadata": {},
   "outputs": [],
   "source": [
    "# Maximum der Messwerte berechnen\n"
   ]
  },
  {
   "cell_type": "code",
   "execution_count": null,
   "id": "vietnamese-third",
   "metadata": {},
   "outputs": [],
   "source": [
    "# berechneten Wert in die Testfunktion eintragen und überprüfen\n",
    "test_max()"
   ]
  },
  {
   "cell_type": "code",
   "execution_count": null,
   "id": "recreational-store",
   "metadata": {},
   "outputs": [],
   "source": [
    "# Mittelwert der Messwerte berechnen\n"
   ]
  },
  {
   "cell_type": "code",
   "execution_count": null,
   "id": "bizarre-community",
   "metadata": {},
   "outputs": [],
   "source": [
    "# berechneten Wert in die Testfunktion eintragen und überprüfen\n",
    "test_mean()"
   ]
  },
  {
   "cell_type": "markdown",
   "id": "friendly-evanescence",
   "metadata": {},
   "source": [
    "Befehl für die Standardabweichung? https://is.gd/pjwFO8"
   ]
  },
  {
   "cell_type": "code",
   "execution_count": null,
   "id": "changing-boost",
   "metadata": {},
   "outputs": [],
   "source": [
    "# Standardabweichung der Messwerte berechnen\n"
   ]
  },
  {
   "cell_type": "code",
   "execution_count": null,
   "id": "overall-break",
   "metadata": {},
   "outputs": [],
   "source": [
    "# berechneten Wert in die Testfunktion eintragen und überprüfen\n",
    "test_std()"
   ]
  },
  {
   "cell_type": "markdown",
   "id": "eight-maximum",
   "metadata": {},
   "source": [
    "### Grafische Darstellung\n",
    "Um die Verteilung von Messwerten grafisch darzustellen werden Boxplots (https://de.wikipedia.org/wiki/Box-Plot) verwendet.\n",
    "\n",
    "Importiere dazu *pyplot* aus *Matplotlib*:\n",
    "\n",
    "`from matplotlib import pyplot as plt`\n",
    "\n",
    "*Matplotlib CheatSheet:* https://s3.amazonaws.com/assets.datacamp.com/blog_assets/Python_Matplotlib_Cheat_Sheet.pdf\n",
    "\n",
    "https://towardsdatascience.com/matplotlib-cheat-sheet-f441c43971c4"
   ]
  },
  {
   "cell_type": "code",
   "execution_count": null,
   "id": "precise-scanning",
   "metadata": {},
   "outputs": [],
   "source": [
    "# pyplot importieren\n"
   ]
  },
  {
   "cell_type": "code",
   "execution_count": null,
   "id": "after-carbon",
   "metadata": {},
   "outputs": [],
   "source": [
    "fig1 = plt.figure()\n",
    "# Boxplot der Messwerte einfügen\n"
   ]
  },
  {
   "cell_type": "code",
   "execution_count": null,
   "id": "injured-donna",
   "metadata": {},
   "outputs": [],
   "source": [
    "# Zum Vergleich mit dem Soll-Ergebnis einfach diese Funktion mit dem Argument 'plot' ausführen, der Code wird mit dem Argument 'code' angezeigt.\n",
    "test_plot()"
   ]
  },
  {
   "cell_type": "markdown",
   "id": "threaded-consideration",
   "metadata": {},
   "source": [
    "### Werte berechnen\n",
    "\n",
    "Rechnerisch ergibt sich die Periodendauer $T$ aus folgender Gleichung:\n",
    "$$T=2\\pi\\sqrt{\\frac{m}{D}}$$\n",
    "Berechne für die Federkonstante $D=0,037$ für die Massen $m=0.1\\,\\mathrm{kg},\\ m=0.2\\,\\mathrm{kg},\\ m=0.5\\,\\mathrm{kg}, \\ m=1\\,\\mathrm{kg}$ die Periodendauern.\n",
    "\n",
    "Die Kreiszahl $\\pi$ kann aus Numpy verwendet werden: `np.pi`\n",
    "\n",
    "Die Wurzelfunktion wird aus NumPy verwendet: `np.sqrt(...)`"
   ]
  },
  {
   "cell_type": "code",
   "execution_count": null,
   "id": "essential-factory",
   "metadata": {},
   "outputs": [],
   "source": [
    "# Berechnungsbeispiel\n",
    "D=0.037\n",
    "m=0.1\n",
    "T_01=2*np.pi*np.sqrt(m/D)\n",
    "T_01"
   ]
  },
  {
   "cell_type": "code",
   "execution_count": null,
   "id": "isolated-wound",
   "metadata": {},
   "outputs": [],
   "source": [
    "# Hier die weiteren gesuchten Werte berechnen\n"
   ]
  },
  {
   "cell_type": "code",
   "execution_count": null,
   "id": "heated-consent",
   "metadata": {},
   "outputs": [],
   "source": [
    "# Effizienter lassen sich derartige Berechnungen folgendermaßen durchführen:\n",
    "D=0.037\n",
    "m=[0.1,0.2,0.5,1]\n",
    "T=[2*np.pi*np.sqrt(k/D) for k in m]\n",
    "T"
   ]
  },
  {
   "cell_type": "markdown",
   "id": "da983641",
   "metadata": {},
   "source": [
    "Mehr Infos dazu: https://www.w3schools.com/python/python_lists_comprehension.asp"
   ]
  },
  {
   "cell_type": "markdown",
   "id": "entitled-faculty",
   "metadata": {},
   "source": [
    "### Messdaten aus .csv-Datei einlesen\n",
    "Die Position des Gewichtes in Abhängigkeit von der Zeit wurde gemessen und in der .csv-Datei *Messergebnisse.csv* im Ordner *data* abgelegt.\n",
    "\n",
    "Um diese Daten einzulesen, verwenden wir die Bibliothek Pandas: `import pandas as pd`\n",
    "\n",
    "Verwende zum Einlesen der Daten den Befehl `pd.read_csv()` und zeige die eingelesenen Daten an.\n"
   ]
  },
  {
   "cell_type": "code",
   "execution_count": null,
   "id": "proof-personality",
   "metadata": {},
   "outputs": [],
   "source": [
    "# Pandas importieren\n"
   ]
  },
  {
   "cell_type": "code",
   "execution_count": null,
   "id": "aquatic-harris",
   "metadata": {},
   "outputs": [],
   "source": [
    "#Datei einlesen\n",
    "data = \n",
    "data"
   ]
  },
  {
   "cell_type": "code",
   "execution_count": null,
   "id": "major-mobility",
   "metadata": {},
   "outputs": [],
   "source": [
    "test_einlesen()"
   ]
  },
  {
   "cell_type": "markdown",
   "id": "literary-cancellation",
   "metadata": {},
   "source": [
    "Zum besseren Handling werden die Spaltenbezeichnungen überschrieben:\n",
    "https://is.gd/O6tmAr\n",
    "\n",
    "https://note.nkmk.me/en/python-pandas-dataframe-rename/"
   ]
  },
  {
   "cell_type": "markdown",
   "id": "biblical-study",
   "metadata": {},
   "source": [
    "Wir verwenden den Befehl `set_axis()`, da sonst die etwas länglichen Spaltenbezeichnungen kopiert werden müssten."
   ]
  },
  {
   "cell_type": "code",
   "execution_count": null,
   "id": "military-conditioning",
   "metadata": {},
   "outputs": [],
   "source": [
    "data.set_axis(['t[s]','x[m]','F[N]'], axis='columns')"
   ]
  },
  {
   "cell_type": "code",
   "execution_count": null,
   "id": "plain-knitting",
   "metadata": {},
   "outputs": [],
   "source": [
    "data"
   ]
  },
  {
   "cell_type": "markdown",
   "id": "patent-horse",
   "metadata": {},
   "source": [
    "Wir müssen *data* überschreiben:"
   ]
  },
  {
   "cell_type": "code",
   "execution_count": null,
   "id": "incorporate-column",
   "metadata": {},
   "outputs": [],
   "source": [
    "data=data.set_axis(['t[s]','x[m]','F[N]'], axis='columns')\n",
    "data"
   ]
  },
  {
   "cell_type": "markdown",
   "id": "effective-clinton",
   "metadata": {},
   "source": [
    "Jetzt visualisieren wir den Verlauf des Ortes $x$ mit der Zeit $t$:\n",
    "\n",
    "Dazu verwenden wir wieder Pyplot aus Matplotlib und stellen die Daten mittels `plt.plot()` grafisch."
   ]
  },
  {
   "cell_type": "code",
   "execution_count": null,
   "id": "romantic-hanging",
   "metadata": {},
   "outputs": [],
   "source": [
    "fig2 = plt.figure()\n"
   ]
  },
  {
   "cell_type": "code",
   "execution_count": null,
   "id": "speaking-discount",
   "metadata": {},
   "outputs": [],
   "source": [
    "test_plot2(data)"
   ]
  },
  {
   "cell_type": "markdown",
   "id": "overall-strike",
   "metadata": {},
   "source": [
    "Die Darstellung des Ortes in Metern ist nicht sehr übersichtlich - wir ändern die Anzeige in mm indem wir die Werte einfach im Plotbefehl mit 1000 multiplizieren."
   ]
  },
  {
   "cell_type": "code",
   "execution_count": null,
   "id": "hindu-heading",
   "metadata": {},
   "outputs": [],
   "source": [
    "fig3 = plt.figure()\n"
   ]
  },
  {
   "cell_type": "code",
   "execution_count": null,
   "id": "outside-arnold",
   "metadata": {},
   "outputs": [],
   "source": [
    "test_plot3(data)"
   ]
  },
  {
   "cell_type": "markdown",
   "id": "acceptable-taste",
   "metadata": {},
   "source": [
    "Bei grafischen Darstellungen sind die Achsenbeschriftungen immer sehr wichtig!\n",
    "\n",
    "Dazu verwenden wir `plt.xlabel()` und `plt.ylabel()`"
   ]
  },
  {
   "cell_type": "code",
   "execution_count": null,
   "id": "institutional-curtis",
   "metadata": {},
   "outputs": [],
   "source": [
    "fig4 = plt.figure()\n",
    "\n",
    "\n"
   ]
  },
  {
   "cell_type": "code",
   "execution_count": null,
   "id": "average-instruction",
   "metadata": {},
   "outputs": [],
   "source": [
    "test_plot4(data)"
   ]
  },
  {
   "cell_type": "markdown",
   "id": "bound-building",
   "metadata": {},
   "source": [
    "Jetzt betrachten wir nur die ersten 10 s und schränken dazu die x-Achse mittels `plt.xlim()` ein:"
   ]
  },
  {
   "cell_type": "code",
   "execution_count": null,
   "id": "binding-conservative",
   "metadata": {},
   "outputs": [],
   "source": [
    "fig5 = plt.figure()\n",
    "\n",
    "\n",
    "\n"
   ]
  },
  {
   "cell_type": "code",
   "execution_count": null,
   "id": "synthetic-syria",
   "metadata": {},
   "outputs": [],
   "source": [
    "test_plot5(data)"
   ]
  },
  {
   "cell_type": "markdown",
   "id": "charged-width",
   "metadata": {},
   "source": [
    "### Cosinusfunktion anfitten\n",
    "Um die Schwingungsparameter auszulesen kann eine Cosinusfunktion an die Messdaten gefittet werden.\n",
    "\n",
    "Siehe dazu: https://scipy-lectures.org/intro/scipy/auto_examples/plot_curve_fit.html"
   ]
  },
  {
   "cell_type": "code",
   "execution_count": null,
   "id": "fabulous-cheese",
   "metadata": {},
   "outputs": [],
   "source": [
    "# optimize aus scipy importieren\n"
   ]
  },
  {
   "cell_type": "code",
   "execution_count": null,
   "id": "innocent-arkansas",
   "metadata": {},
   "outputs": [],
   "source": [
    "# Cosinusfunktion a*cos(b*x) als test_func definieren und Parameter fitten\n",
    "#Wähle als Startwerte a=1 und b=10\n",
    "\n"
   ]
  },
  {
   "cell_type": "code",
   "execution_count": null,
   "id": "treated-granny",
   "metadata": {},
   "outputs": [],
   "source": [
    "test_fit(data)"
   ]
  },
  {
   "cell_type": "code",
   "execution_count": null,
   "id": "pacific-magnet",
   "metadata": {},
   "outputs": [],
   "source": [
    "# graphische Darstellung der Messwerte und der Fitfunktion\n",
    "fig6 = plt.figure()\n"
   ]
  },
  {
   "cell_type": "code",
   "execution_count": null,
   "id": "silent-kansas",
   "metadata": {},
   "outputs": [],
   "source": [
    "test_plot6(data, test_func, params)"
   ]
  },
  {
   "cell_type": "markdown",
   "id": "apparent-single",
   "metadata": {},
   "source": [
    "# Aufgabe 2: Federoszillator - Bestimmung der Federkonstanten\n",
    "Mit zwei unterschiedlichen Methoden soll die Federkonstante einer Feder bestimmt werden."
   ]
  },
  {
   "cell_type": "markdown",
   "id": "tamil-sculpture",
   "metadata": {},
   "source": [
    "## Methode 1: Längenänderung"
   ]
  },
  {
   "attachments": {
    "grafik.png": {
     "image/png": "[encoded data removed]"
    }
   },
   "cell_type": "markdown",
   "id": "contained-composition",
   "metadata": {},
   "source": [
    "Schreibe folgende Werte in Listen:\n",
    "![grafik.png](attachment:grafik.png)"
   ]
  },
  {
   "cell_type": "code",
   "execution_count": null,
   "id": "loose-champion",
   "metadata": {},
   "outputs": [],
   "source": [
    "masse = \n",
    "auslenkung = "
   ]
  },
  {
   "cell_type": "markdown",
   "id": "sought-forty",
   "metadata": {},
   "source": [
    "Plotte diese Punkte (x-Achse: Masse, y-Achse: Auslenkung), beschrifte die Achsen"
   ]
  },
  {
   "cell_type": "code",
   "execution_count": null,
   "id": "twenty-holmes",
   "metadata": {},
   "outputs": [],
   "source": [
    "# aus matplotlib pyplot importieren\n"
   ]
  },
  {
   "cell_type": "code",
   "execution_count": null,
   "id": "flying-enhancement",
   "metadata": {},
   "outputs": [],
   "source": [
    "# Plot erstellen\n"
   ]
  },
  {
   "cell_type": "code",
   "execution_count": null,
   "id": "supported-happening",
   "metadata": {},
   "outputs": [],
   "source": [
    "test2_plot1(masse,auslenkung)"
   ]
  },
  {
   "cell_type": "markdown",
   "id": "greek-interstate",
   "metadata": {},
   "source": [
    "Fitte eine Gerade an die Punkte und lies die Steigung aus (siehe dazu https://www.delftstack.com/de/howto/matplotlib/plot-numpy-linear-fit-matplotlib-python/)"
   ]
  },
  {
   "cell_type": "code",
   "execution_count": null,
   "id": "affiliated-proportion",
   "metadata": {},
   "outputs": [],
   "source": [
    "# Numpy importieren\n"
   ]
  },
  {
   "cell_type": "code",
   "execution_count": null,
   "id": "supreme-pendant",
   "metadata": {},
   "outputs": [],
   "source": [
    "# Lineraren Fit erstellen\n"
   ]
  },
  {
   "cell_type": "code",
   "execution_count": null,
   "id": "stopped-thomson",
   "metadata": {},
   "outputs": [],
   "source": [
    "# Datenpunkte und Fit plotten\n"
   ]
  },
  {
   "cell_type": "code",
   "execution_count": null,
   "id": "medical-despite",
   "metadata": {},
   "outputs": [],
   "source": [
    "# Parameter ausgeben\n"
   ]
  },
  {
   "cell_type": "code",
   "execution_count": null,
   "id": "threatened-ozone",
   "metadata": {},
   "outputs": [],
   "source": [
    "test2_fit(masse,auslenkung)"
   ]
  },
  {
   "cell_type": "markdown",
   "id": "distant-fleece",
   "metadata": {},
   "source": [
    "Es gilt der Zusammenhang \n",
    "$$F=k\\cdot \\Delta x$$ mit der Kraft $F$, der Federkonstanten $k$ und der Auslenkung $\\Delta x$.\n",
    "\n",
    "Der Anstieg $\\theta$ der Geraden ist $\\theta=\\frac{\\Delta x}{m}$. Mit $F=m*a$ gilt somit: \n",
    "\n",
    "$$k=\\frac{1}{\\theta}\\cdot g$$ mit der Erdbeschleunigung $g=9.81\\,\\mathrm{\\frac{m}{s^2}}$.\n",
    "\n",
    "Berechne die Federkonstante $k$."
   ]
  },
  {
   "cell_type": "code",
   "execution_count": null,
   "id": "latter-market",
   "metadata": {},
   "outputs": [],
   "source": [
    "# berechne k mit der Steigung der Geraden (greife dazu auf den ersten Eintrag aus den Fitparametern zu)\n"
   ]
  },
  {
   "cell_type": "code",
   "execution_count": null,
   "id": "ranking-cuisine",
   "metadata": {},
   "outputs": [],
   "source": [
    "test2_ber(linear_model)"
   ]
  },
  {
   "cell_type": "markdown",
   "id": "reduced-wallpaper",
   "metadata": {},
   "source": [
    "## Methode 2: Schwingungsdauer\n",
    "Ließ die Datei *Schwingungsdauer.csv* als Dataframe ein und stelle die Punkte in einem Scatterplot mit Achsenbeschriftung grafisch dar."
   ]
  },
  {
   "cell_type": "code",
   "execution_count": null,
   "id": "arranged-sweden",
   "metadata": {},
   "outputs": [],
   "source": [
    "# Pandas importieren\n"
   ]
  },
  {
   "cell_type": "code",
   "execution_count": null,
   "id": "processed-works",
   "metadata": {},
   "outputs": [],
   "source": [
    "# Einlesen und Anzeigen der Datei\n",
    "schwingungsdata = "
   ]
  },
  {
   "cell_type": "markdown",
   "id": "polar-russell",
   "metadata": {},
   "source": [
    "Falls das Schwierigkeiten macht, betrachte die Zusatzmöglichkeiten beim Einlesen mit `pd.read_csv?`, hier ist `sep=';'` der Zusatzbefehl, der die Trennung der einzelnen Spalten korrekt durchführt."
   ]
  },
  {
   "cell_type": "code",
   "execution_count": null,
   "id": "streaming-union",
   "metadata": {},
   "outputs": [],
   "source": [
    "schwingungsdata = "
   ]
  },
  {
   "cell_type": "code",
   "execution_count": null,
   "id": "continental-superior",
   "metadata": {},
   "outputs": [],
   "source": [
    "# Grafische Darstellung"
   ]
  },
  {
   "cell_type": "markdown",
   "id": "aquatic-transport",
   "metadata": {},
   "source": [
    "Bestimme Mittelwert $\\bar{T}$, Standardabweichung, Minimum und Maximum der Schwingungsdauer."
   ]
  },
  {
   "cell_type": "code",
   "execution_count": null,
   "id": "built-contrary",
   "metadata": {},
   "outputs": [],
   "source": []
  },
  {
   "cell_type": "code",
   "execution_count": null,
   "id": "legal-sudan",
   "metadata": {},
   "outputs": [],
   "source": []
  },
  {
   "cell_type": "code",
   "execution_count": null,
   "id": "frank-eligibility",
   "metadata": {},
   "outputs": [],
   "source": []
  },
  {
   "cell_type": "markdown",
   "id": "discrete-bosnia",
   "metadata": {},
   "source": [
    "Berechne für die angehängte Masse von $m=496\\,\\mathrm{g}$ die Federkonstante mit folgender Formel: \n",
    "$$k=\\left(\\frac{2\\cdot \\pi}{\\bar{T}}\\right)^2*m$$"
   ]
  },
  {
   "cell_type": "code",
   "execution_count": null,
   "id": "large-expert",
   "metadata": {},
   "outputs": [],
   "source": []
  }
 ],
 "metadata": {
  "kernelspec": {
   "display_name": "Python 3 (ipykernel)",
   "language": "python",
   "name": "python3"
  },
  "language_info": {
   "codemirror_mode": {
    "name": "ipython",
    "version": 3
   },
   "file_extension": ".py",
   "mimetype": "text/x-python",
   "name": "python",
   "nbconvert_exporter": "python",
   "pygments_lexer": "ipython3",
   "version": "3.8.11"
  },
  "varInspector": {
   "cols": {
    "lenName": 16,
    "lenType": 16,
    "lenVar": 40
   },
   "kernels_config": {
    "python": {
     "delete_cmd_postfix": "",
     "delete_cmd_prefix": "del ",
     "library": "var_list.py",
     "varRefreshCmd": "print(var_dic_list())"
    },
    "r": {
     "delete_cmd_postfix": ") ",
     "delete_cmd_prefix": "rm(",
     "library": "var_list.r",
     "varRefreshCmd": "cat(var_dic_list()) "
    }
   },
   "types_to_exclude": [
    "module",
    "function",
    "builtin_function_or_method",
    "instance",
    "_Feature"
   ],
   "window_display": true
  }
 },
 "nbformat": 4,
 "nbformat_minor": 5
}
