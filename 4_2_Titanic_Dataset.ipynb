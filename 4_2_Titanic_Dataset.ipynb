{
 "cells": [
  {
   "cell_type": "markdown",
   "id": "ceb83934",
   "metadata": {},
   "source": [
    "# Titanic-Dataset\n",
    "\n",
    "Es gibt eine sehr gute Datenlage zum Untergang der Titanik. Dieser Datensatz wird gerne als Lehrbeispiel für das Herausarbeiten von Zusammenhängen aus unübersichtlichen Daten verwendet.\n",
    "\n",
    "Gute Beispielauswertungen sind unter folgenden Links zu finden: \n",
    "- https://www.linkedin.com/pulse/what-i-learned-analyzing-famous-titanic-dateset-murilo-gustineli/\n",
    "- https://notebook.community/vikramsjn/Investigate-Titanic-Dataset/Analysis%20of%20Titanic%20Dataset\n",
    "- "
   ]
  },
  {
   "cell_type": "code",
   "execution_count": 1,
   "id": "be7617f0",
   "metadata": {
    "ExecuteTime": {
     "end_time": "2021-10-05T08:09:04.706581Z",
     "start_time": "2021-10-05T08:09:04.153649Z"
    }
   },
   "outputs": [],
   "source": [
    "import pandas as pd\n",
    "import matplotlib.pyplot as plt"
   ]
  },
  {
   "cell_type": "code",
   "execution_count": 2,
   "id": "427e7353",
   "metadata": {
    "ExecuteTime": {
     "end_time": "2021-10-05T08:09:04.752238Z",
     "start_time": "2021-10-05T08:09:04.724959Z"
    }
   },
   "outputs": [],
   "source": [
    "# Einlesen der Daten\n",
    "df=pd.read_csv('data/Titanic_Dataset.csv')"
   ]
  },
  {
   "cell_type": "markdown",
   "id": "8223aa54",
   "metadata": {},
   "source": [
    "### Überblick über die Daten verschaffen"
   ]
  },
  {
   "cell_type": "code",
   "execution_count": null,
   "id": "7245f6a9",
   "metadata": {},
   "outputs": [],
   "source": [
    "df.head()"
   ]
  },
  {
   "attachments": {
    "grafik.png": {
     "image/png": "[encoded data removed]"
    }
   },
   "cell_type": "markdown",
   "id": "c4f9db36",
   "metadata": {},
   "source": [
    "Info zu den einzelnen Spaltenbezeichnungen:\n",
    "![grafik.png](attachment:grafik.png)"
   ]
  },
  {
   "cell_type": "code",
   "execution_count": null,
   "id": "a376853d",
   "metadata": {},
   "outputs": [],
   "source": [
    "df.info()"
   ]
  },
  {
   "cell_type": "code",
   "execution_count": null,
   "id": "56f0ee2b",
   "metadata": {},
   "outputs": [],
   "source": [
    "df.describe()"
   ]
  },
  {
   "cell_type": "code",
   "execution_count": null,
   "id": "9f72f4ee",
   "metadata": {},
   "outputs": [],
   "source": [
    "pd.plotting.scatter_matrix(df,figsize=(15,15))"
   ]
  },
  {
   "cell_type": "code",
   "execution_count": null,
   "id": "6ac54e3b",
   "metadata": {},
   "outputs": [],
   "source": []
  },
  {
   "cell_type": "code",
   "execution_count": null,
   "id": "e4e72e1d",
   "metadata": {},
   "outputs": [],
   "source": []
  },
  {
   "cell_type": "markdown",
   "id": "cdaf2118",
   "metadata": {},
   "source": [
    "Ist der Kapitän mit seinem Schiff untergegangen?"
   ]
  },
  {
   "cell_type": "code",
   "execution_count": null,
   "id": "104d5751",
   "metadata": {},
   "outputs": [],
   "source": [
    "df[df['Name'].str.contains(\"Capt\")]"
   ]
  },
  {
   "cell_type": "markdown",
   "id": "3befcb53",
   "metadata": {},
   "source": [
    "Hat Miss. Vestrom überlebt?"
   ]
  },
  {
   "cell_type": "code",
   "execution_count": null,
   "id": "cc98052f",
   "metadata": {},
   "outputs": [],
   "source": [
    "# Hier Ihr Code"
   ]
  },
  {
   "cell_type": "markdown",
   "id": "bed92686",
   "metadata": {},
   "source": [
    "Welche Gruppen überlebten mit höherer Wahrscheinlichkeit?"
   ]
  },
  {
   "cell_type": "code",
   "execution_count": null,
   "id": "e4490f0f",
   "metadata": {},
   "outputs": [],
   "source": [
    "df.groupby(['Sex']).mean()"
   ]
  },
  {
   "cell_type": "code",
   "execution_count": null,
   "id": "b702fb52",
   "metadata": {},
   "outputs": [],
   "source": [
    "df.groupby(['Sex','Pclass']).mean()"
   ]
  },
  {
   "cell_type": "code",
   "execution_count": null,
   "id": "a4e6ad69",
   "metadata": {},
   "outputs": [],
   "source": [
    "# Wie groß ist die Wahrscheinlichkeit, dass Kinder unter 18 Jahren überlebten?\n"
   ]
  },
  {
   "cell_type": "code",
   "execution_count": null,
   "id": "addb51ed",
   "metadata": {},
   "outputs": [],
   "source": [
    "# Wie schaut es auf die Gechlechter aufgeteilt aus und welchen Einfluss haben die Klassen?\n",
    "df[df['Age']<18].groupby(['Sex','Pclass']).mean()"
   ]
  },
  {
   "cell_type": "markdown",
   "id": "98859274",
   "metadata": {},
   "source": [
    "Was ist das Durchschnittsalter aller Passagiere?"
   ]
  },
  {
   "cell_type": "code",
   "execution_count": null,
   "id": "14b6ac9b",
   "metadata": {},
   "outputs": [],
   "source": [
    "# Hier Ihr Code\n"
   ]
  },
  {
   "cell_type": "markdown",
   "id": "7e2865bd",
   "metadata": {},
   "source": [
    "Was ist das Durchschnittsalter der Passagiere getrennt nach dem Geschlecht?"
   ]
  },
  {
   "cell_type": "code",
   "execution_count": null,
   "id": "e6fbefa4",
   "metadata": {},
   "outputs": [],
   "source": [
    "# Hier Ihr Code\n"
   ]
  },
  {
   "cell_type": "markdown",
   "id": "fa3acdab",
   "metadata": {},
   "source": [
    "Auch durch grafische Auswertungen kann ein sehr guter Überblick erzeugt werden. Dazu gibt es "
   ]
  },
  {
   "cell_type": "code",
   "execution_count": null,
   "id": "19eca04a",
   "metadata": {},
   "outputs": [],
   "source": [
    "df.Parch.hist()\n",
    "plt.xlabel('Parch')\n",
    "plt.ylabel('Passengers')\n",
    "plt.title('Number of parents / children aboard')"
   ]
  },
  {
   "cell_type": "markdown",
   "id": "c8dd0eef",
   "metadata": {},
   "source": [
    "Erstellen Sie ein Histogramm zur Anzahl der Passagiere pro Klasse."
   ]
  },
  {
   "cell_type": "code",
   "execution_count": null,
   "id": "3c75a180",
   "metadata": {},
   "outputs": [],
   "source": [
    "# Hier Ihr Code\n"
   ]
  },
  {
   "cell_type": "markdown",
   "id": "fb7416c7",
   "metadata": {},
   "source": [
    "Etwas aufwändiger: Altersverteilung der Passagiere, die alleine / nicht alleine gereist sind:"
   ]
  },
  {
   "cell_type": "code",
   "execution_count": null,
   "id": "a11b1044",
   "metadata": {},
   "outputs": [],
   "source": [
    "df.info()"
   ]
  },
  {
   "cell_type": "code",
   "execution_count": null,
   "id": "77266ee3",
   "metadata": {},
   "outputs": [],
   "source": [
    "nicht_alleine = df[(df['SibSp']>0)&(df['Parch']>0)]\n",
    "nicht_alleine.head()"
   ]
  },
  {
   "cell_type": "code",
   "execution_count": null,
   "id": "adb04ae3",
   "metadata": {},
   "outputs": [],
   "source": [
    "alleine = df[(df['SibSp']==0)&(df['Parch']==0)]"
   ]
  },
  {
   "cell_type": "code",
   "execution_count": null,
   "id": "d33f7402",
   "metadata": {},
   "outputs": [],
   "source": [
    "plt.hist(nicht_alleine['Age'])"
   ]
  },
  {
   "cell_type": "code",
   "execution_count": null,
   "id": "5b0cffca",
   "metadata": {},
   "outputs": [],
   "source": [
    "plt.hist(alleine['Age'])"
   ]
  },
  {
   "cell_type": "code",
   "execution_count": null,
   "id": "a489759b",
   "metadata": {},
   "outputs": [],
   "source": [
    "#Lege die Graphen übereinander\n",
    "plt.hist(nicht_alleine['Age'])\n",
    "plt.hist(alleine['Age'])"
   ]
  },
  {
   "cell_type": "code",
   "execution_count": null,
   "id": "6d438abc",
   "metadata": {},
   "outputs": [],
   "source": [
    "#setze den orangen Graphen auf halb-durchsichtig\n",
    "plt.hist(nicht_alleine['Age'])\n",
    "plt.hist(alleine['Age'], alpha = 0.5)"
   ]
  },
  {
   "cell_type": "code",
   "execution_count": null,
   "id": "2caf862e",
   "metadata": {},
   "outputs": [],
   "source": [
    "#Füge eine Legende, Achsenbeschriftungen und einen Titel hinzu\n",
    "plt.hist(nicht_alleine['Age'], label = 'nicht alleine')\n",
    "plt.hist(alleine['Age'], alpha = 0.5, label = 'alleine')\n",
    "plt.legend()\n",
    "plt.title('Altersverteilungen alleine / nicht alleine')\n",
    "plt.xlabel('Alter')\n",
    "plt.ylabel('Anzahl Passagiere')"
   ]
  },
  {
   "cell_type": "code",
   "execution_count": null,
   "id": "1998ce37",
   "metadata": {},
   "outputs": [],
   "source": []
  }
 ],
 "metadata": {
  "kernelspec": {
   "display_name": "Python 3 (ipykernel)",
   "language": "python",
   "name": "python3"
  },
  "language_info": {
   "codemirror_mode": {
    "name": "ipython",
    "version": 3
   },
   "file_extension": ".py",
   "mimetype": "text/x-python",
   "name": "python",
   "nbconvert_exporter": "python",
   "pygments_lexer": "ipython3",
   "version": "3.8.11"
  },
  "varInspector": {
   "cols": {
    "lenName": 16,
    "lenType": 16,
    "lenVar": 40
   },
   "kernels_config": {
    "python": {
     "delete_cmd_postfix": "",
     "delete_cmd_prefix": "del ",
     "library": "var_list.py",
     "varRefreshCmd": "print(var_dic_list())"
    },
    "r": {
     "delete_cmd_postfix": ") ",
     "delete_cmd_prefix": "rm(",
     "library": "var_list.r",
     "varRefreshCmd": "cat(var_dic_list()) "
    }
   },
   "types_to_exclude": [
    "module",
    "function",
    "builtin_function_or_method",
    "instance",
    "_Feature"
   ],
   "window_display": true
  }
 },
 "nbformat": 4,
 "nbformat_minor": 5
}
