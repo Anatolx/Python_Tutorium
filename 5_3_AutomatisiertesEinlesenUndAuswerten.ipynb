{
 "cells": [
  {
   "cell_type": "markdown",
   "id": "a07bad21",
   "metadata": {},
   "source": [
    "Eine häufig wiederkehrende Aufgabe ist die Auswertung von Versuchsdaten. Oft benötigt man aus hunderten von automatisch erstellten Messdaten nur einzelne Werte oder Teile.\n",
    "\n",
    "Im Folgenden extrahieren wir aus 100 .csv-Dateien jeweils die maximale Temperatur, die minimale Temperatur und die Messdauer."
   ]
  },
  {
   "cell_type": "code",
   "execution_count": null,
   "id": "b586d0b1",
   "metadata": {},
   "outputs": [],
   "source": [
    "# Zunächst für eine Datei alle Schritte durchführen, dann zusammennehmen und für alle Dateien automatisieren"
   ]
  },
  {
   "cell_type": "code",
   "execution_count": null,
   "id": "f35633c6",
   "metadata": {},
   "outputs": [],
   "source": [
    "# Importiere pandas zum Einlesen und betrachten der Daten\n",
    "import pandas as pd"
   ]
  },
  {
   "cell_type": "code",
   "execution_count": null,
   "id": "1dcf0052",
   "metadata": {},
   "outputs": [],
   "source": [
    "path = 'data/Temperaturmessung/'"
   ]
  },
  {
   "cell_type": "code",
   "execution_count": null,
   "id": "c44e74d5",
   "metadata": {},
   "outputs": [],
   "source": [
    "df = pd.read_csv(str(path+'V1.csv'))\n",
    "df"
   ]
  },
  {
   "cell_type": "code",
   "execution_count": null,
   "id": "b6cf7173",
   "metadata": {},
   "outputs": [],
   "source": [
    "#Messdauer entspricht dem letzten Eintrag der Zeitspalte\n",
    "Messdauer = df['time in ms'].iloc[-1]\n",
    "Messdauer"
   ]
  },
  {
   "cell_type": "code",
   "execution_count": null,
   "id": "4fa9ac7c",
   "metadata": {},
   "outputs": [],
   "source": [
    "#oder dem Maximum der Zeit\n",
    "Messdauer = df['time in ms'].max()\n",
    "Messdauer"
   ]
  },
  {
   "cell_type": "code",
   "execution_count": null,
   "id": "4f281316",
   "metadata": {},
   "outputs": [],
   "source": [
    "#maximale Temperatur\n",
    "Tmax = df['Temp in C'].max()\n",
    "Tmax"
   ]
  },
  {
   "cell_type": "code",
   "execution_count": null,
   "id": "0b2a6436",
   "metadata": {},
   "outputs": [],
   "source": [
    "#minimale Temperatur\n",
    "Tmin = df['Temp in C'].min()\n",
    "Tmin"
   ]
  },
  {
   "cell_type": "code",
   "execution_count": null,
   "id": "fb48676a",
   "metadata": {
    "scrolled": true
   },
   "outputs": [],
   "source": [
    "#Plotte die Verteilung der Temperatur\n",
    "import matplotlib.pyplot as plt\n",
    "plt.boxplot(df['Temp in C'])"
   ]
  },
  {
   "cell_type": "markdown",
   "id": "c68fad9d",
   "metadata": {},
   "source": [
    "### Jetzt Automatisierung\n",
    "Dazu werden die einzelnen Befehle zusammenkopiert und in eine Funktion oder eine Schleife gepackt."
   ]
  },
  {
   "cell_type": "code",
   "execution_count": null,
   "id": "ac6ad874",
   "metadata": {},
   "outputs": [],
   "source": [
    "#Lege Ergebnis-DataFrame an\n",
    "df_res = pd.DataFrame()"
   ]
  },
  {
   "cell_type": "code",
   "execution_count": null,
   "id": "8703aa9d",
   "metadata": {},
   "outputs": [],
   "source": [
    "#Als Schleife\n",
    "for num in range(1,101):\n",
    "    # Daten einlesen\n",
    "    df = pd.read_csv(str(path+'V'+str(num)+'.csv'))\n",
    "    # Messdauer auslesen\n",
    "    Messdauer = df['time in ms'].iloc[-1]\n",
    "    # Tmin bestimmen\n",
    "    Tmin  = df['Temp in C'].min()\n",
    "    # Tmax bestimmen\n",
    "    Tmax = df['Temp in C'].max()\n",
    "    # Ergebnisdictionary\n",
    "    res = {'Messdauer': Messdauer,\n",
    "          'Tmin': Tmin,\n",
    "          'Tmax': Tmax}\n",
    "    # Ergebnisse jeden Versuchs zu Gesamtdictionary hinzufügen\n",
    "    df_res = df_res.append(res, ignore_index = True)"
   ]
  },
  {
   "cell_type": "code",
   "execution_count": null,
   "id": "81f95429",
   "metadata": {},
   "outputs": [],
   "source": [
    "df_res"
   ]
  },
  {
   "cell_type": "code",
   "execution_count": null,
   "id": "b06873ad",
   "metadata": {},
   "outputs": [],
   "source": [
    "# grafische Darstellung\n",
    "plt.scatter(df_res.index, df_res['Messdauer'])\n",
    "plt.xlabel('Messung')\n",
    "plt.ylabel('Messdauer in ms')"
   ]
  },
  {
   "cell_type": "code",
   "execution_count": null,
   "id": "9b279f05",
   "metadata": {},
   "outputs": [],
   "source": [
    "# grafische Darstellung\n",
    "plt.scatter(df_res.index, df_res['Tmax'])\n",
    "plt.xlabel('Messung')\n",
    "plt.ylabel('Tmax in C')"
   ]
  },
  {
   "cell_type": "code",
   "execution_count": null,
   "id": "692d0444",
   "metadata": {},
   "outputs": [],
   "source": [
    "# grafische Darstellung\n",
    "plt.scatter(df_res.index, df_res['Tmin'])\n",
    "plt.xlabel('Messung')\n",
    "plt.ylabel('Tmin in C')"
   ]
  },
  {
   "cell_type": "code",
   "execution_count": null,
   "id": "a8c82f87",
   "metadata": {},
   "outputs": [],
   "source": []
  },
  {
   "cell_type": "code",
   "execution_count": null,
   "id": "273ccfec",
   "metadata": {},
   "outputs": [],
   "source": []
  },
  {
   "cell_type": "code",
   "execution_count": null,
   "id": "522449eb",
   "metadata": {},
   "outputs": [],
   "source": [
    "#Lege Ergebnis-DataFrame an\n",
    "df_res = pd.DataFrame()"
   ]
  },
  {
   "cell_type": "code",
   "execution_count": null,
   "id": "3ab5125e",
   "metadata": {},
   "outputs": [],
   "source": [
    "#Als Funktion\n",
    "def Funktionsauswertung(dateipfad):\n",
    "    # Daten einlesen\n",
    "    df = pd.read_csv(str(dateipfad))\n",
    "    # Messdauer auslesen\n",
    "    Messdauer = df['time in ms'].iloc[-1]\n",
    "    # Tmin bestimmen\n",
    "    Tmin  = df['Temp in C'].min()\n",
    "    # Tmax bestimmen\n",
    "    Tmax = df['Temp in C'].max()\n",
    "    # Ergebnisdictionary\n",
    "    res = {'Messdauer': Messdauer,\n",
    "          'Tmin': Tmin,\n",
    "          'Tmax': Tmax}\n",
    "    return res"
   ]
  },
  {
   "cell_type": "code",
   "execution_count": null,
   "id": "f2652116",
   "metadata": {},
   "outputs": [],
   "source": [
    "#Als Schleife\n",
    "for num in range(1,101):\n",
    "    # Pfade erzeugen\n",
    "    dateipfad = str(path+'V'+str(num)+'.csv')\n",
    "    # Auswertung\n",
    "    res = Funktionsauswertung(dateipfad)\n",
    "    # Ergebnisse jeden Versuchs zu Gesamtdictionary hinzufügen\n",
    "    df_res = df_res.append(res, ignore_index = True)"
   ]
  },
  {
   "cell_type": "code",
   "execution_count": null,
   "id": "c789c594",
   "metadata": {},
   "outputs": [],
   "source": [
    "df_res"
   ]
  },
  {
   "cell_type": "code",
   "execution_count": null,
   "id": "e2ebfa8e",
   "metadata": {},
   "outputs": [],
   "source": []
  },
  {
   "cell_type": "code",
   "execution_count": null,
   "id": "36618105",
   "metadata": {},
   "outputs": [],
   "source": []
  },
  {
   "cell_type": "code",
   "execution_count": null,
   "id": "74ba975c",
   "metadata": {},
   "outputs": [],
   "source": []
  },
  {
   "cell_type": "code",
   "execution_count": null,
   "id": "be979c9a",
   "metadata": {},
   "outputs": [],
   "source": []
  },
  {
   "cell_type": "code",
   "execution_count": null,
   "id": "b0d23964",
   "metadata": {},
   "outputs": [],
   "source": []
  },
  {
   "cell_type": "markdown",
   "id": "319a6b1d",
   "metadata": {},
   "source": [
    "Die Dateien wurden zufällig mit dem hier abgebildeten Code erstellt."
   ]
  },
  {
   "cell_type": "code",
   "execution_count": null,
   "id": "def3a260",
   "metadata": {},
   "outputs": [],
   "source": [
    "import numpy as np\n",
    "import pandas as pd"
   ]
  },
  {
   "cell_type": "code",
   "execution_count": null,
   "id": "50fdecf3",
   "metadata": {},
   "outputs": [],
   "source": [
    "path = r'C:\\Users\\Lorenz\\Documents\\GitHub\\E-Coaching\\vorkurs-2021\\data\\Temperaturmessung'"
   ]
  },
  {
   "cell_type": "code",
   "execution_count": null,
   "id": "fcc295ef",
   "metadata": {},
   "outputs": [],
   "source": [
    "for Versuchsnummer in range(1,101):\n",
    "\n",
    "    Messdauer = np.random.random()*50\n",
    "\n",
    "    time = np.arange(0,Messdauer, 0.001)\n",
    "\n",
    "    Temperatur = np.random.rand(len(time))*100\n",
    "\n",
    "    data = {'time in ms':time, 'Temp in C': Temperatur}\n",
    "\n",
    "    df=pd.DataFrame(data)\n",
    "\n",
    "    df.to_csv(str(path+'\\\\V'+str(Versuchsnummer)+'.csv'), index = False)"
   ]
  },
  {
   "cell_type": "code",
   "execution_count": null,
   "id": "a5d60f28",
   "metadata": {},
   "outputs": [],
   "source": []
  }
 ],
 "metadata": {
  "kernelspec": {
   "display_name": "Python 3 (ipykernel)",
   "language": "python",
   "name": "python3"
  },
  "language_info": {
   "codemirror_mode": {
    "name": "ipython",
    "version": 3
   },
   "file_extension": ".py",
   "mimetype": "text/x-python",
   "name": "python",
   "nbconvert_exporter": "python",
   "pygments_lexer": "ipython3",
   "version": "3.8.11"
  },
  "varInspector": {
   "cols": {
    "lenName": 16,
    "lenType": 16,
    "lenVar": 40
   },
   "kernels_config": {
    "python": {
     "delete_cmd_postfix": "",
     "delete_cmd_prefix": "del ",
     "library": "var_list.py",
     "varRefreshCmd": "print(var_dic_list())"
    },
    "r": {
     "delete_cmd_postfix": ") ",
     "delete_cmd_prefix": "rm(",
     "library": "var_list.r",
     "varRefreshCmd": "cat(var_dic_list()) "
    }
   },
   "types_to_exclude": [
    "module",
    "function",
    "builtin_function_or_method",
    "instance",
    "_Feature"
   ],
   "window_display": true
  }
 },
 "nbformat": 4,
 "nbformat_minor": 5
}
