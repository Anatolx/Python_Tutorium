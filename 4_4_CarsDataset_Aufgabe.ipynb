{
 "cells": [
  {
   "cell_type": "markdown",
   "id": "d97ce8f8",
   "metadata": {},
   "source": [
    "# Cars Dataset"
   ]
  },
  {
   "cell_type": "markdown",
   "id": "9f7c31d5",
   "metadata": {},
   "source": [
    "Import pandas"
   ]
  },
  {
   "cell_type": "code",
   "execution_count": 1,
   "id": "766d67f3",
   "metadata": {
    "ExecuteTime": {
     "end_time": "2021-10-14T18:41:11.872245Z",
     "start_time": "2021-10-14T18:41:11.287297Z"
    }
   },
   "outputs": [],
   "source": []
  },
  {
   "cell_type": "markdown",
   "id": "71213bad",
   "metadata": {},
   "source": [
    "Read *CarsData.csv* from *data*"
   ]
  },
  {
   "cell_type": "code",
   "execution_count": 25,
   "id": "5abd3b01",
   "metadata": {
    "ExecuteTime": {
     "end_time": "2021-10-14T18:49:44.658211Z",
     "start_time": "2021-10-14T18:49:44.633272Z"
    }
   },
   "outputs": [],
   "source": []
  },
  {
   "cell_type": "markdown",
   "id": "9b901bf0",
   "metadata": {},
   "source": [
    "Find all Null Values in the dataset. If ther is any null value in a column, then fill it with the mean of that column. If there are only null values in a row, drop the row."
   ]
  },
  {
   "cell_type": "code",
   "execution_count": null,
   "id": "c2c9320a",
   "metadata": {
    "ExecuteTime": {
     "end_time": "2021-10-14T18:49:45.609596Z",
     "start_time": "2021-10-14T18:49:45.585135Z"
    }
   },
   "outputs": [],
   "source": []
  },
  {
   "cell_type": "markdown",
   "id": "a5b51509",
   "metadata": {},
   "source": [
    "Check what the different types of Make are there in our dataset. And, what is the count (occurence) of each Make in the data?"
   ]
  },
  {
   "cell_type": "code",
   "execution_count": null,
   "id": "3fb4f3be",
   "metadata": {
    "ExecuteTime": {
     "end_time": "2021-10-14T18:51:43.607474Z",
     "start_time": "2021-10-14T18:51:43.592883Z"
    }
   },
   "outputs": [],
   "source": []
  },
  {
   "cell_type": "markdown",
   "id": "6e8de5f4",
   "metadata": {},
   "source": [
    "Show all records where Origin is Asia or Europe."
   ]
  },
  {
   "cell_type": "code",
   "execution_count": null,
   "id": "38e57488",
   "metadata": {
    "ExecuteTime": {
     "end_time": "2021-10-14T18:53:29.301968Z",
     "start_time": "2021-10-14T18:53:29.265065Z"
    }
   },
   "outputs": [],
   "source": []
  },
  {
   "cell_type": "markdown",
   "id": "79932eb0",
   "metadata": {},
   "source": [
    "Remove all records (rows) where Weight is above 4000."
   ]
  },
  {
   "cell_type": "code",
   "execution_count": null,
   "id": "b7e76e44",
   "metadata": {
    "ExecuteTime": {
     "end_time": "2021-10-14T18:56:19.972160Z",
     "start_time": "2021-10-14T18:56:19.922277Z"
    }
   },
   "outputs": [],
   "source": []
  },
  {
   "cell_type": "markdown",
   "id": "8a90548c",
   "metadata": {},
   "source": [
    "Increase the values of 'MPG_City' column by 3"
   ]
  },
  {
   "cell_type": "code",
   "execution_count": null,
   "id": "f474bad4",
   "metadata": {
    "ExecuteTime": {
     "end_time": "2021-10-14T18:57:43.756872Z",
     "start_time": "2021-10-14T18:57:43.717344Z"
    }
   },
   "outputs": [],
   "source": []
  },
  {
   "cell_type": "code",
   "execution_count": null,
   "id": "a81dd59e",
   "metadata": {
    "ExecuteTime": {
     "end_time": "2021-10-14T18:58:41.205464Z",
     "start_time": "2021-10-14T18:58:41.196487Z"
    }
   },
   "outputs": [],
   "source": []
  },
  {
   "cell_type": "code",
   "execution_count": null,
   "id": "ef91f804",
   "metadata": {},
   "outputs": [],
   "source": []
  }
 ],
 "metadata": {
  "kernelspec": {
   "display_name": "Python 3.10.5 64-bit",
   "language": "python",
   "name": "python3"
  },
  "language_info": {
   "codemirror_mode": {
    "name": "ipython",
    "version": 3
   },
   "file_extension": ".py",
   "mimetype": "text/x-python",
   "name": "python",
   "nbconvert_exporter": "python",
   "pygments_lexer": "ipython3",
   "version": "3.10.5"
  },
  "varInspector": {
   "cols": {
    "lenName": 16,
    "lenType": 16,
    "lenVar": 40
   },
   "kernels_config": {
    "python": {
     "delete_cmd_postfix": "",
     "delete_cmd_prefix": "del ",
     "library": "var_list.py",
     "varRefreshCmd": "print(var_dic_list())"
    },
    "r": {
     "delete_cmd_postfix": ") ",
     "delete_cmd_prefix": "rm(",
     "library": "var_list.r",
     "varRefreshCmd": "cat(var_dic_list()) "
    }
   },
   "types_to_exclude": [
    "module",
    "function",
    "builtin_function_or_method",
    "instance",
    "_Feature"
   ],
   "window_display": false
  },
  "vscode": {
   "interpreter": {
    "hash": "26de051ba29f2982a8de78e945f0abaf191376122a1563185a90213a26c5da77"
   }
  }
 },
 "nbformat": 4,
 "nbformat_minor": 5
}
