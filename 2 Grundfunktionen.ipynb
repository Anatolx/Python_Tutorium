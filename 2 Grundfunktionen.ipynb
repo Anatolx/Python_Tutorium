{
 "cells": [
  {
   "cell_type": "markdown",
   "id": "liable-canberra",
   "metadata": {
    "slideshow": {
     "slide_type": "slide"
    }
   },
   "source": [
    "# Grundfunktionen\n",
    "\n",
    "In diesem Abschnitt besprechen wir Grundlagen zur Nutzung von Jupyter Notebooks und JupyterHub und lernen wir die Grundfunktionen und -tools in Python kennen.\n",
    "\n",
    "\n",
    "https://github.com/vinta/awesome-python\n",
    "\n",
    "https://www.pythoncheatsheet.org/"
   ]
  },
  {
   "cell_type": "markdown",
   "id": "extreme-museum",
   "metadata": {
    "heading_collapsed": true,
    "slideshow": {
     "slide_type": "slide"
    }
   },
   "source": [
    "# 1. Jupyter Notebooks\n",
    "\n",
    "***Tips and Tricks***: https://towardsdatascience.com/optimizing-jupyter-notebook-tips-tricks-and-nbextensions-26d75d502663"
   ]
  },
  {
   "cell_type": "markdown",
   "id": "spanish-verification",
   "metadata": {
    "hidden": true,
    "slideshow": {
     "slide_type": "subslide"
    }
   },
   "source": [
    "Ein Jupyter Notebook ist eine interaktive Programmierumgebung, in der ausführbarer Code, schön formatierbarer Text, Gleichungen und Abbildungen in einem interaktiven Dokument zusammengefasst sind.\n",
    "\n",
    "Der Name *Jupyter* leitet sich von den drei primär unterstützen Programmiersprachen *Julia, Python* und *R* ab."
   ]
  },
  {
   "cell_type": "markdown",
   "id": "9b0cd5ac",
   "metadata": {
    "hidden": true,
    "slideshow": {
     "slide_type": "subslide"
    }
   },
   "source": [
    "Ein Jupyter Notebook ist in einer Zellenstruktur aufgebaut. Für jede Zelle kann der Typ ausgewählt werden: \n",
    "- Code\n",
    "- Mardown\n",
    "- Raw NBConvert"
   ]
  },
  {
   "cell_type": "markdown",
   "id": "rocky-summary",
   "metadata": {
    "hidden": true,
    "slideshow": {
     "slide_type": "subslide"
    }
   },
   "source": [
    "Diese Auswahl erfolgt entweder per Maus oder per Tastatur."
   ]
  },
  {
   "attachments": {
    "grafik.png": {
     "image/png": "[encoded data removed]"
    }
   },
   "cell_type": "markdown",
   "id": "painted-innocent",
   "metadata": {
    "hidden": true
   },
   "source": [
    "## Mouse navigation\n",
    "\n",
    "All navigation and actions in the Notebook are available using the mouse through the menubar and toolbar, which are both above the main Notebook area:\n",
    "\n",
    "![grafik.png](attachment:grafik.png)"
   ]
  },
  {
   "cell_type": "markdown",
   "id": "effective-victory",
   "metadata": {
    "hidden": true
   },
   "source": [
    "### Cell Clicking\n",
    "\n",
    "The first idea of mouse based navigation is that **cells can be selected by clicking on them.** The currently selected cell gets a grey or green border depending on whether the notebook is in edit or command mode. If you click inside a cell's editor area, you will enter edit mode. If you click on the prompt or output area of a cell you will enter command mode."
   ]
  },
  {
   "cell_type": "markdown",
   "id": "varying-bridges",
   "metadata": {
    "hidden": true
   },
   "source": [
    "### Current Selection\n",
    "\n",
    "The second idea of mouse based navigation is that **cell actions usually apply to the currently selected cell**. Thus if you want to run the code in a cell, you would select it and click the \"Play\" button in the toolbar or the \"Cell:Run\" menu item. Similarly, to copy a cell you would select it and click the \"Copy\" button in the toolbar or the \"Edit:Copy\" menu item. With this simple pattern, you should be able to do most everything you need with the mouse."
   ]
  },
  {
   "cell_type": "markdown",
   "id": "happy-former",
   "metadata": {
    "hidden": true
   },
   "source": [
    "### Markdown Rendering\n",
    "\n",
    "Markdown and heading cells have one other state that can be modified with the mouse. These cells can either be rendered or unrendered. When they are rendered, you will see a nice formatted representation of the cell's contents. When they are unrendered, you will see the raw text source of the cell. To render the selected cell with the mouse, click the \"Play\" button in the toolbar or the \"Cell:Run\" menu item. To unrender the selected cell, double click on the cell."
   ]
  },
  {
   "cell_type": "markdown",
   "id": "musical-reunion",
   "metadata": {
    "hidden": true
   },
   "source": [
    "## Keyboard Navigation\n",
    "\n",
    "The modal user interface of the IPython Notebook has been optimized for efficient keyboard usage. This is made possible by having two different sets of keyboard shortcuts: one set that is active in edit mode and another in command mode."
   ]
  },
  {
   "cell_type": "markdown",
   "id": "civic-particle",
   "metadata": {
    "hidden": true
   },
   "source": [
    "The most important keyboard shortcuts are `enter`, which enters edit mode, and `esc`, which enters command mode.\n",
    "\n",
    "In edit mode, most of the keyboard is dedicated to typing into the cell's editor. Thus, in edit mode there are relatively few shortcuts:"
   ]
  },
  {
   "cell_type": "markdown",
   "id": "modern-rating",
   "metadata": {
    "hidden": true
   },
   "source": [
    "## Keyboard Navigation\n",
    "\n",
    "In command mode, the entire keyboard is available for shortcuts.\n",
    "\n",
    "Here the rough order in which the IPython Developers recommend learning the command mode shortcuts:\n",
    "\n",
    "1. Basic navigation: `enter`, `shift-enter`, `up/k`, `down/j`\n",
    "2. Saving the notebook: `s`\n",
    "2. Cell types: `y`, `m`, `1-6`, `t`\n",
    "3. Cell creation and movement: `a`, `b`, `ctrl+k`, `ctrl+j`\n",
    "4. Cell editing: `x`, `c`, `v`, `d`, `z`, `shift+=`\n",
    "5. Kernel operations: `i`, `0`"
   ]
  },
  {
   "cell_type": "markdown",
   "id": "worldwide-thriller",
   "metadata": {
    "hidden": true
   },
   "source": [
    "### Markdown\n",
    "\n",
    "Markdown ist eine vereinfachte Auszeichungssprache, die mit wenig Aufwand ordentlich formatierte Texte erzeugt.\n",
    "\n",
    "Für nähere Infos und konkrete Befehle siehe folgendes Cheatsheet:\n",
    "https://github.com/adam-p/markdown-here/wiki/Markdown-Cheatsheet"
   ]
  },
  {
   "cell_type": "markdown",
   "id": "related-university",
   "metadata": {
    "heading_collapsed": true
   },
   "source": [
    "# 2. Grundfunktionen in Python"
   ]
  },
  {
   "cell_type": "markdown",
   "id": "metric-smooth",
   "metadata": {
    "heading_collapsed": true,
    "hidden": true
   },
   "source": [
    "## 2.0 Codezellen\n",
    "In den Code-Zellen können Python-Befehle geschrieben werden - durch die Tastenkombination `Shift`+`Enter` Wird der Code dieser Zelle ausgeführt.\n",
    "\n",
    "Als erstes lassen wir 'Hello World' ausgeben - traditionell die erste Tätigkeit in einer neuen Programmiersprache."
   ]
  },
  {
   "cell_type": "code",
   "execution_count": null,
   "id": "united-rubber",
   "metadata": {
    "ExecuteTime": {
     "end_time": "2021-10-05T11:20:17.132256Z",
     "start_time": "2021-10-05T11:20:17.114999Z"
    },
    "hidden": true
   },
   "outputs": [],
   "source": [
    "print('Hello World')"
   ]
  },
  {
   "cell_type": "markdown",
   "id": "sudden-scott",
   "metadata": {
    "hidden": true
   },
   "source": [
    "Erzeuge eine neue Codezelle unter dieser hier, verwende den `print`-Befehl, um einen eigenen Satz auszugeben und führe die Zelle aus."
   ]
  },
  {
   "cell_type": "markdown",
   "id": "acute-forwarding",
   "metadata": {
    "hidden": true
   },
   "source": [
    "Erstelle unter dieser Zelle eine neue Markdownzelle und test die unterschiedlichen Textstile aus: *Kursiv*, **Fett**, ***Fett und Kursiv***"
   ]
  },
  {
   "cell_type": "code",
   "execution_count": null,
   "id": "9ac85517",
   "metadata": {
    "hidden": true
   },
   "outputs": [],
   "source": []
  },
  {
   "cell_type": "markdown",
   "id": "9c665f94",
   "metadata": {
    "hidden": true
   },
   "source": [
    "### Hilfe zu Befehlen\n",
    "kann mit folgenden Eingaben erhalten werden:\n",
    "\n",
    "`BEFEHL?`\n",
    "\n",
    "`help(BEFEHL)`\n"
   ]
  },
  {
   "cell_type": "code",
   "execution_count": null,
   "id": "5a7f1a7e",
   "metadata": {
    "hidden": true
   },
   "outputs": [],
   "source": [
    "print?"
   ]
  },
  {
   "cell_type": "code",
   "execution_count": null,
   "id": "22aae6ab",
   "metadata": {
    "hidden": true
   },
   "outputs": [],
   "source": [
    "help(print)"
   ]
  },
  {
   "cell_type": "markdown",
   "id": "existing-garden",
   "metadata": {
    "hidden": true
   },
   "source": [
    "## 2.1 Händisches Eintragen von Daten, Datentypen"
   ]
  },
  {
   "cell_type": "markdown",
   "id": "municipal-premium",
   "metadata": {
    "heading_collapsed": true,
    "hidden": true
   },
   "source": [
    "### Variablen\n",
    "- Variables are named locations used to store all sorts of objects\n",
    "    - Can store number, strings, lists, dictionaries, Booleans, etc.\n",
    "- Create them by variable_name value\n",
    "- The name of the variable can be whatever you want\n",
    "    - However, can’t start name with number or symbol\n",
    "    - Also can’t be name of something already in Python, like a function"
   ]
  },
  {
   "cell_type": "markdown",
   "id": "abstract-liquid",
   "metadata": {
    "heading_collapsed": true,
    "hidden": true
   },
   "source": [
    "### Arbeiten mit Variablen\n",
    "Zunächst setzen wir die Variable *A* auf 5.\n",
    "\n",
    "`A=5`"
   ]
  },
  {
   "cell_type": "code",
   "execution_count": null,
   "id": "statistical-funds",
   "metadata": {
    "hidden": true
   },
   "outputs": [],
   "source": [
    "A = 5"
   ]
  },
  {
   "cell_type": "markdown",
   "id": "reliable-angola",
   "metadata": {
    "hidden": true
   },
   "source": [
    "Um den Wert von *A* anzeigen zu lassen können wir entweder `print(A)` schreiben - einfach und schneller ist es jedoch, einfach nur `A` in eine Zelle zu tippen und diese auszuführen."
   ]
  },
  {
   "cell_type": "code",
   "execution_count": null,
   "id": "armed-buffalo",
   "metadata": {
    "hidden": true
   },
   "outputs": [],
   "source": [
    "print(A)"
   ]
  },
  {
   "cell_type": "code",
   "execution_count": null,
   "id": "proprietary-broadcast",
   "metadata": {
    "hidden": true
   },
   "outputs": [],
   "source": [
    "A"
   ]
  },
  {
   "cell_type": "markdown",
   "id": "played-relaxation",
   "metadata": {
    "hidden": true
   },
   "source": [
    "Python ist zum Glück nicht sehr kompliziert bei der Zuweisung von Daten - es müssen keine Typen angegeben werden."
   ]
  },
  {
   "cell_type": "code",
   "execution_count": null,
   "id": "religious-harvest",
   "metadata": {
    "hidden": true
   },
   "outputs": [],
   "source": [
    "B = 0.5\n",
    "B"
   ]
  },
  {
   "cell_type": "code",
   "execution_count": null,
   "id": "later-precipitation",
   "metadata": {
    "hidden": true
   },
   "outputs": [],
   "source": [
    "S = 'Das hier ist ein sogenannter string, also eine Aneinanderreihung von Buchstaben'\n",
    "S"
   ]
  },
  {
   "cell_type": "markdown",
   "id": "packed-network",
   "metadata": {
    "hidden": true
   },
   "source": [
    "Im Folgenden kann die Variable mit dem zugewiesenen Wert verwendet werden:"
   ]
  },
  {
   "cell_type": "code",
   "execution_count": null,
   "id": "fancy-siemens",
   "metadata": {
    "hidden": true
   },
   "outputs": [],
   "source": [
    "A + B"
   ]
  },
  {
   "cell_type": "markdown",
   "id": "confirmed-treaty",
   "metadata": {
    "hidden": true
   },
   "source": [
    "**Vorsicht!** Die Variablen können neu belegt werden. Es ist immer der Wert gespeichert, der in der zuletzt ausgeführten Zelle zugewiesen wurde."
   ]
  },
  {
   "cell_type": "code",
   "execution_count": null,
   "id": "german-sheriff",
   "metadata": {
    "hidden": true
   },
   "outputs": [],
   "source": [
    "A"
   ]
  },
  {
   "cell_type": "code",
   "execution_count": null,
   "id": "another-alignment",
   "metadata": {
    "hidden": true
   },
   "outputs": [],
   "source": [
    "A=12"
   ]
  },
  {
   "cell_type": "code",
   "execution_count": null,
   "id": "engaging-grade",
   "metadata": {
    "hidden": true
   },
   "outputs": [],
   "source": [
    "A+B"
   ]
  },
  {
   "cell_type": "code",
   "execution_count": null,
   "id": "1ec6ef7d",
   "metadata": {
    "hidden": true
   },
   "outputs": [],
   "source": [
    "# Beispiele\n",
    "Age = 29\n",
    "Coffee = True\n",
    "Fear = \"dolphins\""
   ]
  },
  {
   "cell_type": "markdown",
   "id": "cd753b2e",
   "metadata": {
    "hidden": true,
    "slideshow": {
     "slide_type": "slide"
    }
   },
   "source": [
    "### Aufgabe\n",
    "In a new cell : create 3 variables\n",
    "- Age: your age in years\n",
    "- Coffee: whether you’ve had coffee today or not (True/False)\n",
    "- Fear: string of the animal you are most afraid of (enclose in quotes)"
   ]
  },
  {
   "cell_type": "code",
   "execution_count": null,
   "id": "ae0df479",
   "metadata": {
    "hidden": true
   },
   "outputs": [],
   "source": [
    "# Aufgabe hier bearbeiten\n"
   ]
  },
  {
   "cell_type": "markdown",
   "id": "c4d7c916",
   "metadata": {},
   "source": [
    "Bei der Benennung von Variablen müssen einige einfache Regeln beachtet werden:\n",
    "- Sie müssen entweder mit einem Buchstaben oder mit einem Unterstrich anfangen. Daran kann sich eine beliebige Abfolge von Buchstaben, Zahlen oder Unterstrichen anschließen.\n",
    "- Die Buchstaben können Groß- oder Kleinbuchstaben sein. Groß- und Kleinschreibung wird unterschieden; Ax ist also nicht dasselbe wie aX.\n",
    "- Die Zahlen können beliebige Ziffern von 0 bis 9 einschließlich sein.\n",
    "- Der Name darf nicht mit einer Zahl anfangen\n",
    "  \n",
    "Es dürfen keine anderen Zeichen als Buchstaben, Zahlen und der Unterstrich benutzt\n",
    "werden. Leerzeichen, Interpunktionszeichen und anderes sind in Variablennamen\n",
    "nicht zulässig:\n",
    "\n",
    "`~  ! @ # $ % ^ & * ( ) ; – : \" ' < > , . ? / { } [ ] + = /`\n",
    "\n"
   ]
  },
  {
   "cell_type": "markdown",
   "id": "collect-dialogue",
   "metadata": {
    "heading_collapsed": true,
    "hidden": true
   },
   "source": [
    "### Wahr / Falsch (Booleans)"
   ]
  },
  {
   "cell_type": "markdown",
   "id": "dfa5ace3",
   "metadata": {},
   "source": [
    "In Python gibt es eine spezielle Art Variablen für Wahr (`True`) und Falsch (`False`).\n",
    "\n",
    "Diese werden beispielsweise bei Vergleichen ausgegeben:"
   ]
  },
  {
   "cell_type": "code",
   "execution_count": null,
   "id": "2d9dfc5a",
   "metadata": {},
   "outputs": [],
   "source": [
    "35 < 12"
   ]
  },
  {
   "cell_type": "code",
   "execution_count": null,
   "id": "375d67b3",
   "metadata": {},
   "outputs": [],
   "source": [
    "7 >= 2"
   ]
  },
  {
   "cell_type": "code",
   "execution_count": null,
   "id": "217164d8",
   "metadata": {},
   "outputs": [],
   "source": [
    "'felix' == 'felix'"
   ]
  },
  {
   "cell_type": "code",
   "execution_count": null,
   "id": "c0673886",
   "metadata": {},
   "outputs": [],
   "source": [
    "age = 30\n",
    "is_over_age = age >= 18\n",
    "print(is_over_age)"
   ]
  },
  {
   "cell_type": "markdown",
   "id": "87c260e8",
   "metadata": {
    "heading_collapsed": true,
    "hidden": true
   },
   "source": [
    "### Listen\n",
    "Mehrere Werte können am einfachsten in einer Liste gespichert werden, diese ist ähnlich zu betrachten wie ein Vektor und kann verschiedene Datentypen enthalten."
   ]
  },
  {
   "cell_type": "markdown",
   "id": "promotional-minnesota",
   "metadata": {
    "hidden": true
   },
   "source": [
    "- Lists are groups of objects stored in a variable\n",
    "- Create them by *List = [object1, object2, ..., objectN]*\n",
    "- Can store the same objects or different ones\n",
    "- can also store other variabes\n",
    "- can access specific parts of the list by index\n",
    "    - *List[0]* is the first object, *List[1]* the second, etc.\n",
    "    - *List[-1]* is the last object"
   ]
  },
  {
   "cell_type": "code",
   "execution_count": null,
   "id": "permanent-accent",
   "metadata": {
    "ExecuteTime": {
     "end_time": "2021-10-04T07:01:40.728588Z",
     "start_time": "2021-10-04T07:01:40.693677Z"
    },
    "hidden": true
   },
   "outputs": [],
   "source": [
    "a = [1,2,3,5,12,-8,9.6,'test']\n",
    "a"
   ]
  },
  {
   "cell_type": "markdown",
   "id": "9d9f1094",
   "metadata": {},
   "source": [
    "*Wie man sieht, können unterschiedliche Datentypen in einer Liste auftreten, in 'schönem Code' wird das aber vermieden: in jeder Liste sollten nur gleiche Datentypen, z.B. nur Zahlen oder nur Strings vorkommen.*"
   ]
  },
  {
   "cell_type": "markdown",
   "id": "designing-beaver",
   "metadata": {
    "hidden": true
   },
   "source": [
    "Auf einzelne Elemente einer Liste kann man folgendermaßen zugreifen:"
   ]
  },
  {
   "cell_type": "code",
   "execution_count": null,
   "id": "pacific-distribution",
   "metadata": {
    "hidden": true
   },
   "outputs": [],
   "source": [
    "a[3]"
   ]
  },
  {
   "cell_type": "markdown",
   "id": "looking-globe",
   "metadata": {
    "hidden": true
   },
   "source": [
    "Wichtig: Die Einträge werden beginnend bei 0 gezählt - `a[0]` gibt also den ersten Eintrag zurück."
   ]
  },
  {
   "cell_type": "code",
   "execution_count": null,
   "id": "sixth-bedroom",
   "metadata": {
    "hidden": true
   },
   "outputs": [],
   "source": [
    "a[0]"
   ]
  },
  {
   "cell_type": "markdown",
   "id": "fe335523",
   "metadata": {
    "hidden": true
   },
   "source": [
    "Es kann auch von hinten gezählt werden: `a[-1]` gibt den letzten Eintrag zurück, `a[-2]` den vorletzten, etc."
   ]
  },
  {
   "cell_type": "code",
   "execution_count": null,
   "id": "0bfdfa11",
   "metadata": {
    "ExecuteTime": {
     "end_time": "2021-10-04T07:01:43.655089Z",
     "start_time": "2021-10-04T07:01:43.645953Z"
    },
    "hidden": true
   },
   "outputs": [],
   "source": [
    "a[-1]"
   ]
  },
  {
   "cell_type": "code",
   "execution_count": null,
   "id": "2e2f2d0c",
   "metadata": {
    "ExecuteTime": {
     "end_time": "2021-10-04T07:01:49.088778Z",
     "start_time": "2021-10-04T07:01:49.070781Z"
    },
    "hidden": true
   },
   "outputs": [],
   "source": [
    "a[-2]"
   ]
  },
  {
   "cell_type": "markdown",
   "id": "5fafd8b0",
   "metadata": {
    "hidden": true
   },
   "source": [
    "### Aufgabe\n",
    "erstelle folgende Listen:\n",
    "- *FavNum*: your 5 favorite numbers\n",
    "- *BreakList*: strings of items you had for breakfast\n",
    "- *Attributes*: your Age, Coffee and Fear variables (verwende Variablen, die im Zwischenspeicher liegen)"
   ]
  },
  {
   "cell_type": "code",
   "execution_count": null,
   "id": "3487f5e6",
   "metadata": {
    "hidden": true
   },
   "outputs": [],
   "source": [
    "# Aufgabe hier bearbeiten\n"
   ]
  },
  {
   "cell_type": "markdown",
   "id": "national-dependence",
   "metadata": {
    "hidden": true
   },
   "source": [
    "Um ein weiteres Element an eine Liste anzuhängenm nutzt man den `append()`-Befehl: \n",
    "\n",
    "**Listenname.append(NeuesElement)**"
   ]
  },
  {
   "cell_type": "code",
   "execution_count": null,
   "id": "offensive-drama",
   "metadata": {
    "hidden": true
   },
   "outputs": [],
   "source": [
    "a.append('Neues Element')"
   ]
  },
  {
   "cell_type": "code",
   "execution_count": null,
   "id": "alternative-dispute",
   "metadata": {
    "hidden": true
   },
   "outputs": [],
   "source": [
    "a"
   ]
  },
  {
   "cell_type": "code",
   "execution_count": null,
   "id": "adolescent-cycle",
   "metadata": {
    "hidden": true
   },
   "outputs": [],
   "source": [
    "a.append(123)"
   ]
  },
  {
   "cell_type": "code",
   "execution_count": null,
   "id": "pregnant-gathering",
   "metadata": {
    "hidden": true
   },
   "outputs": [],
   "source": [
    "a"
   ]
  },
  {
   "cell_type": "markdown",
   "id": "ac25a3ff",
   "metadata": {
    "hidden": true
   },
   "source": [
    "Füge der Liste *a* das Element *HTWK* hinzu."
   ]
  },
  {
   "cell_type": "code",
   "execution_count": null,
   "id": "0d6ac67b",
   "metadata": {
    "hidden": true
   },
   "outputs": [],
   "source": [
    "#Bearbeitung der Aufgabe\n"
   ]
  },
  {
   "cell_type": "markdown",
   "id": "stretch-shoulder",
   "metadata": {
    "hidden": true
   },
   "source": [
    "Die länge einer Liste kann mit dem `len()`-Befehl abgefragt werden:"
   ]
  },
  {
   "cell_type": "code",
   "execution_count": null,
   "id": "biblical-victoria",
   "metadata": {
    "hidden": true
   },
   "outputs": [],
   "source": [
    "len(a)"
   ]
  },
  {
   "cell_type": "markdown",
   "id": "26231569",
   "metadata": {
    "hidden": true
   },
   "source": [
    "Finde heraus, wie ein Element aus der Liste gelöscht werden kann und lösche *'Neues Element'*."
   ]
  },
  {
   "cell_type": "code",
   "execution_count": null,
   "id": "62c7cf39",
   "metadata": {
    "hidden": true,
    "slideshow": {
     "slide_type": "subslide"
    }
   },
   "outputs": [],
   "source": [
    "# Bearbeitung der Aufgabe\n",
    "\n"
   ]
  },
  {
   "cell_type": "markdown",
   "id": "contained-lucas",
   "metadata": {
    "heading_collapsed": true,
    "hidden": true
   },
   "source": [
    "### Dictionary\n"
   ]
  },
  {
   "cell_type": "markdown",
   "id": "05a9c7b0",
   "metadata": {
    "heading_collapsed": true,
    "hidden": true
   },
   "source": [
    "### Dictionary\n",
    "Ein Dictionary ist zunächst eine Art Wörterbuch, in dem einem Schlüssel ein Objekt zugewiesen wird:\n",
    "`'Schlüssel':'Wert'`\n",
    "\n",
    "Als Objekte kommen verwendet man häufig Listen und kann dann eine tabellenartige Datenstruktur realisieren.\n",
    "\n",
    "Weitere Infos zu dictionaries: https://www.python-kurs.eu/dictionaries.php\n",
    "\n",
    "Es gibt dann eine Spaltenbezeichnung und die Einträge in dieser Spalte in folgedem Format:"
   ]
  },
  {
   "cell_type": "markdown",
   "id": "floating-explanation",
   "metadata": {
    "hidden": true
   },
   "source": [
    "- A dictionary is a collection which is unordered, changeable and indexed\n",
    "- They written with curly brackets, and they have keys and values\n",
    "- Create them by: dictName = { key1: value1, key2: value2,...}\n",
    "- The keys must be unique, but the values can be the same\n",
    "    - Keys can be strings or numbers\n",
    "    - Values can be strings, numbers, lists, or even dictionaries\n",
    "- You can access items in a dictionary by referring to its key name in the format: *dictName[key1]*\n",
    "- You can add items to a dictionary using this format: *dictName[key3] = value3*"
   ]
  },
  {
   "cell_type": "code",
   "execution_count": null,
   "id": "1a3c60b2",
   "metadata": {
    "ExecuteTime": {
     "end_time": "2021-10-05T12:40:31.393557Z",
     "start_time": "2021-10-05T12:40:31.378779Z"
    },
    "hidden": true
   },
   "outputs": [],
   "source": [
    "d={'Spaltenbezeichnung1':[1,2,3,4,5,6,7],'Spaltenbzeichnung2':['a1','a2','a3','a4','b1','b2','b3']}"
   ]
  },
  {
   "cell_type": "code",
   "execution_count": null,
   "id": "b591d782",
   "metadata": {
    "ExecuteTime": {
     "end_time": "2021-10-05T12:40:31.597079Z",
     "start_time": "2021-10-05T12:40:31.576132Z"
    },
    "hidden": true
   },
   "outputs": [],
   "source": [
    "d"
   ]
  },
  {
   "cell_type": "markdown",
   "id": "841dc4ce",
   "metadata": {},
   "source": [
    "Auf die Einträge kann folgendermaßen zugegriffen werden: "
   ]
  },
  {
   "cell_type": "code",
   "execution_count": null,
   "id": "a4d8dbd1",
   "metadata": {},
   "outputs": [],
   "source": [
    "d['Spaltenbzeichnung2']\n",
    "print(d.get('Spaltenbzeichnung2'))"
   ]
  },
  {
   "cell_type": "markdown",
   "id": "d44e6c8b",
   "metadata": {},
   "source": [
    "weiteres Beispiel: Das Alter verschiedener Freunde wird in einem Dictionry abgelegt"
   ]
  },
  {
   "cell_type": "code",
   "execution_count": null,
   "id": "6142e95e",
   "metadata": {},
   "outputs": [],
   "source": [
    "friend_ages = {'Felix': 27, 'Kevin': 24, 'Ronnie': 32}"
   ]
  },
  {
   "cell_type": "code",
   "execution_count": null,
   "id": "5cf01655",
   "metadata": {},
   "outputs": [],
   "source": [
    "#Ist nun das Alter von Ronnie gesucht, kann dieses leicht ausgegeben werden:\n",
    "friend_ages['Ronnie']"
   ]
  },
  {
   "cell_type": "code",
   "execution_count": null,
   "id": "1ad6051e",
   "metadata": {},
   "outputs": [],
   "source": [
    "# Füge das Alter von Anne hinzu:\n",
    "friend_ages['Anne'] = 25"
   ]
  },
  {
   "cell_type": "code",
   "execution_count": null,
   "id": "1e1cd0e8",
   "metadata": {},
   "outputs": [],
   "source": [
    "friend_ages"
   ]
  },
  {
   "cell_type": "markdown",
   "id": "brief-ontario",
   "metadata": {
    "hidden": true
   },
   "source": [
    "### Aufgabe\n",
    "- Create a dictionary called myDictionary : Add the keys of “Name”, “Age”, “Job”, FavColor ”, and CoffeeCups ” with your specific values\n",
    "- Access your favorite color ( FavColor )\n",
    "- Add the item “Dinosaurs” with the value of True or False, depending on if you like dinosaurs or not, then print the dictionary"
   ]
  },
  {
   "cell_type": "code",
   "execution_count": null,
   "id": "manufactured-texas",
   "metadata": {
    "ExecuteTime": {
     "end_time": "2021-10-05T12:40:31.970414Z",
     "start_time": "2021-10-05T12:40:31.956288Z"
    },
    "hidden": true
   },
   "outputs": [],
   "source": [
    "# Bearbeitung der Aufgabe\n"
   ]
  },
  {
   "cell_type": "markdown",
   "id": "4d8d3807",
   "metadata": {},
   "source": []
  },
  {
   "cell_type": "markdown",
   "id": "112cd842",
   "metadata": {},
   "source": [
    "# Schleifen und Anweisungen\n",
    "https://www.openbookproject.net/books/bpp4awd/ch04.html\n",
    "\n",
    "In Python werden Schleifen mit Doppelpunkt und Einrückungen definiert."
   ]
  },
  {
   "cell_type": "markdown",
   "id": "3dfd7729",
   "metadata": {},
   "source": [
    "## For-Schleife (Definite Loops)"
   ]
  },
  {
   "cell_type": "markdown",
   "id": "898c734d",
   "metadata": {},
   "source": [
    "Die for-Schleife ist eines der wichtigsten Werkzeuge der Programmierung. \n",
    "\n",
    "Sie ermöglichen ein Loopen über die Elemente einer Liste.\n",
    "\n",
    "Hier folgt eine kurze Vorstellung."
   ]
  },
  {
   "cell_type": "code",
   "execution_count": null,
   "id": "003082d0",
   "metadata": {},
   "outputs": [],
   "source": [
    "for number in [5, 4, 3, 2, 1]:\n",
    "    print(number)\n",
    "print('Start!')"
   ]
  },
  {
   "cell_type": "code",
   "execution_count": null,
   "id": "0f9de9ac",
   "metadata": {},
   "outputs": [],
   "source": [
    "for number in [1,2,3,4,5]:\n",
    "    x = number ** 2\n",
    "    print(x)"
   ]
  },
  {
   "cell_type": "code",
   "execution_count": null,
   "id": "5e53415c",
   "metadata": {},
   "outputs": [],
   "source": [
    "for Studienfach in ['Bauingenieurwesen', 'Physik', 'Maschinenbau', 'Lehramt', 'Englisch', 'Verpackungstechnik']:\n",
    "    print('Ich könnte an der HTWK ' + Studienfach + ' studieren')"
   ]
  },
  {
   "cell_type": "markdown",
   "id": "870e0101",
   "metadata": {},
   "source": [
    "Geben Sie mit einer for-Schleife alle geraden Zahlen bis 20 aus."
   ]
  },
  {
   "cell_type": "code",
   "execution_count": null,
   "id": "ca699ab0",
   "metadata": {},
   "outputs": [],
   "source": [
    "# Hier Ihr Code"
   ]
  },
  {
   "attachments": {
    "grafik.png": {
     "image/png": "[encoded data removed]"
    }
   },
   "cell_type": "markdown",
   "id": "6e3f1a09",
   "metadata": {},
   "source": [
    "## If-Anweisungen\n",
    "If-Anweisungen prüfen eine Bedingung ab und führen je nachdem ob diese erfüllt ist den eingerückten Code aus.\n",
    "\n",
    "![grafik.png](attachment:grafik.png)"
   ]
  },
  {
   "cell_type": "code",
   "execution_count": null,
   "id": "59ab8b61",
   "metadata": {},
   "outputs": [],
   "source": [
    "x=5"
   ]
  },
  {
   "cell_type": "code",
   "execution_count": null,
   "id": "96839942",
   "metadata": {},
   "outputs": [],
   "source": [
    "if x == 3: \n",
    "    # Zum Vergleichen wird hier das doppelte = Zeichen (==) verwendet - bei nur\n",
    "    # einem = wird eine Variable neu derfiniert, hier würde eine Fehlermeldung\n",
    "    #ausgespuckt werden.\n",
    "    print('x = 3')\n",
    "    \n",
    "    "
   ]
  },
  {
   "attachments": {
    "grafik.png": {
     "image/png": "[encoded data removed]"
    }
   },
   "cell_type": "markdown",
   "id": "e0ce300d",
   "metadata": {},
   "source": [
    "Mit `else:` können Anweisungen ausgeführt werden, falls die Bedingung nicht erfüllt ist. \n",
    "\n",
    "![grafik.png](attachment:grafik.png)"
   ]
  },
  {
   "cell_type": "code",
   "execution_count": null,
   "id": "d62b89ab",
   "metadata": {},
   "outputs": [],
   "source": [
    "if x == 3:\n",
    "    print('x = 3')\n",
    "else: \n",
    "    print('x ist nicht gleich 3')"
   ]
  },
  {
   "attachments": {
    "grafik.png": {
     "image/png": "[encoded data removed]"
    }
   },
   "cell_type": "markdown",
   "id": "ccb9b0d9",
   "metadata": {},
   "source": [
    "`elif` ermöglicht verkettete Abfragen:\n",
    "![grafik.png](attachment:grafik.png)"
   ]
  },
  {
   "cell_type": "code",
   "execution_count": null,
   "id": "7b4853aa",
   "metadata": {},
   "outputs": [],
   "source": [
    "if x == 3:\n",
    "    print('x = 3')\n",
    "elif x==5: \n",
    "    print('x = 5')\n",
    "elif x==7:\n",
    "    print('x = 7')\n",
    "else: \n",
    "    print('x ist weder 3 noch 5 noch 7')"
   ]
  },
  {
   "cell_type": "markdown",
   "id": "a8d75c71",
   "metadata": {},
   "source": [
    "Prüfen Sie mit einer if-Anweisung auf gerade Zahlen bis 10. Falls eine gerade Zahl vorliegt, soll auch ein entsprechender Text ausgegeben werden."
   ]
  },
  {
   "cell_type": "code",
   "execution_count": null,
   "id": "0ecd3dad",
   "metadata": {},
   "outputs": [],
   "source": [
    "# Hier Ihr Code"
   ]
  },
  {
   "cell_type": "markdown",
   "id": "329d05ec",
   "metadata": {},
   "source": [
    "Hier weitere Beispiele, bei denen eine Eingabe über eine if-Anweisung geprüft wird."
   ]
  },
  {
   "cell_type": "code",
   "execution_count": null,
   "id": "1b5fc461",
   "metadata": {
    "code_folding": []
   },
   "outputs": [],
   "source": [
    "line = input('Hier Eingabe: ')\n",
    "if line == 'Hallo':\n",
    "    print('Moin moin!')"
   ]
  },
  {
   "cell_type": "code",
   "execution_count": null,
   "id": "ba06e1fc",
   "metadata": {},
   "outputs": [],
   "source": [
    "line = input('Hier Eingabe: ')\n",
    "if line == 'Hallo':\n",
    "    print('Moin moin!')\n",
    "else:\n",
    "    print('Computer sagt nein')"
   ]
  },
  {
   "cell_type": "code",
   "execution_count": null,
   "id": "5217cfe7",
   "metadata": {},
   "outputs": [],
   "source": [
    "line = input('Hier Eingabe: ')\n",
    "if line == 'Hallo':\n",
    "    print('Moin moin!')\n",
    "elif line == 'Ein Bier bitte':\n",
    "    print('Dr. Hops ist gleich neben dem Nieperbau')\n",
    "else:\n",
    "    print('Computer sagt nein')"
   ]
  },
  {
   "cell_type": "code",
   "execution_count": null,
   "id": "580449e8",
   "metadata": {},
   "outputs": [],
   "source": [
    "number1 = float(input('Hier 1. Zahl eingeben: '))\n",
    "number2 = float(input('Hier 2. Zahl eingeben: '))\n",
    "if number1>number2:\n",
    "    print('1. Zahl ist größer')\n",
    "elif number1 == number2:\n",
    "    print('Beide Zahlen sind gleich groß')\n",
    "else:\n",
    "    print('2. Zahl ist größer')"
   ]
  },
  {
   "cell_type": "markdown",
   "id": "bdcdd391",
   "metadata": {},
   "source": [
    "Wichtig ist auch die Abfrage, ob sich ein Element in einer Liste befindet:\n",
    "\n",
    "Das wir mit `in` erreicht."
   ]
  },
  {
   "cell_type": "code",
   "execution_count": null,
   "id": "519de559",
   "metadata": {},
   "outputs": [],
   "source": [
    "family = ['Mutter', 'Vater', 'Schwester']\n",
    "friends = ['Adam', 'Anne', 'Felix', 'Max']"
   ]
  },
  {
   "cell_type": "code",
   "execution_count": null,
   "id": "ed27efa3",
   "metadata": {},
   "outputs": [],
   "source": [
    "name = 'Vater'"
   ]
  },
  {
   "cell_type": "code",
   "execution_count": null,
   "id": "04db5107",
   "metadata": {},
   "outputs": [],
   "source": [
    "if name in family:\n",
    "    print ('Hallo Familienmitglied')\n",
    "elif name in friends:\n",
    "    print('Hallo Freund')\n",
    "else: \n",
    "    print('Wer bist du?')"
   ]
  },
  {
   "cell_type": "markdown",
   "id": "dfe3eb80",
   "metadata": {},
   "source": [
    "Erstellen Sie eine input-Zeile, in der nach dem Alter gefragt wird. Eine if-Anweisung soll anschließend prüfen, ob die Person wählen darf. "
   ]
  },
  {
   "cell_type": "code",
   "execution_count": null,
   "id": "d7cf0524",
   "metadata": {},
   "outputs": [],
   "source": []
  },
  {
   "cell_type": "markdown",
   "id": "a15d7b8c",
   "metadata": {},
   "source": [
    "## While-Schleife (Indefinite Loop)\n",
    "Die while-Schleife wird durchgeführt, solange der Ausdruck wahr (True) ist. Wenn ein break-Ausdruck durchgeführt wird oder der Ausdruck in der while-Schleife falsch (False) wird, wird die Schleife abgebrochen. Die ersten zwei Beispiele führen aufgrund des True-Ausdrucks in der while-Schleife eine Endlosschleife aus. Unterbrochen werden kann das nur durch die break-Anweisung."
   ]
  },
  {
   "cell_type": "code",
   "execution_count": null,
   "id": "96934a45",
   "metadata": {},
   "outputs": [],
   "source": [
    "while True:\n",
    "    line = input('Wollen Sie ein Soja-Steak?\\nHier Eingabe: ')\n",
    "    if line == 'Nein':\n",
    "        print('Ich verstehe nicht')\n",
    "        continue\n",
    "    elif line == 'Ja':\n",
    "        break\n",
    "    print('\"' + line + '\"' + ' ist nicht bekannt')\n",
    "print('Sehr gerne!')"
   ]
  },
  {
   "cell_type": "code",
   "execution_count": null,
   "id": "2be10931",
   "metadata": {},
   "outputs": [],
   "source": [
    "while True:\n",
    "    line = input('Wollen Sie ein Ticket für RB Leipzig?\\nHier Eingabe: ')\n",
    "    if line == 'Ja':\n",
    "        print('Gehen Sie lieber zum Roten Stern Leipzig oder BSG Chemie')\n",
    "        continue\n",
    "    elif line == 'Lieber eins für den Roten Stern Leipzig':\n",
    "        break\n",
    "    elif line == 'Lieber eins für BSG Chemie':\n",
    "        break\n",
    "    print('\"' + line + '\"' + ' ist nicht bekannt')\n",
    "print('Sehr gerne!')"
   ]
  },
  {
   "cell_type": "markdown",
   "id": "d19d6c7a",
   "metadata": {},
   "source": [
    "Dieses Beispiel macht das gleiche, wie das erste Beispiel der for-Schleife. Nur hier wird die while-Schleife für das Runterzählen des Countdowns genutzt. Die Schleife wird beendet, sobald \"number\" gleich 0 und der Ausdruck der Schleife somit falsch (False) ist."
   ]
  },
  {
   "cell_type": "code",
   "execution_count": null,
   "id": "f9c8b0c3",
   "metadata": {},
   "outputs": [],
   "source": [
    "number = 5\n",
    "while number > 0:\n",
    "    print(number)\n",
    "    number = number-1\n",
    "print('Start!')"
   ]
  },
  {
   "cell_type": "markdown",
   "id": "7601f5da",
   "metadata": {},
   "source": [
    "Nutzen Sie eine while-Schleife um die Eingabe (input-Funktion) einer Zahl zu erzwingen. Hierbei soll die while-Schleife so lange laufen, bis tatsächlich eine Zahl eingegeben wurde. Nutzen Sie hierfür die isnumeric-Funktion."
   ]
  },
  {
   "cell_type": "code",
   "execution_count": null,
   "id": "1bda6d36",
   "metadata": {},
   "outputs": [],
   "source": [
    "# Vollziehen Sie hier die Funktionsweise von isnumeric() nach.\n",
    "number = input('Geben Sie eine Zahl ein: ')\n",
    "number.isnumeric()"
   ]
  },
  {
   "cell_type": "code",
   "execution_count": null,
   "id": "ef048e68",
   "metadata": {},
   "outputs": [],
   "source": [
    "# Hier Ihr Code"
   ]
  }
 ],
 "metadata": {
  "celltoolbar": "Slideshow",
  "kernelspec": {
   "display_name": "Python 3 (ipykernel)",
   "language": "python",
   "name": "python3"
  },
  "language_info": {
   "codemirror_mode": {
    "name": "ipython",
    "version": 3
   },
   "file_extension": ".py",
   "mimetype": "text/x-python",
   "name": "python",
   "nbconvert_exporter": "python",
   "pygments_lexer": "ipython3",
   "version": "3.9.13"
  },
  "varInspector": {
   "cols": {
    "lenName": 16,
    "lenType": 16,
    "lenVar": 40
   },
   "kernels_config": {
    "python": {
     "delete_cmd_postfix": "",
     "delete_cmd_prefix": "del ",
     "library": "var_list.py",
     "varRefreshCmd": "print(var_dic_list())"
    },
    "r": {
     "delete_cmd_postfix": ") ",
     "delete_cmd_prefix": "rm(",
     "library": "var_list.r",
     "varRefreshCmd": "cat(var_dic_list()) "
    }
   },
   "position": {
    "height": "277.4px",
    "left": "1541.6px",
    "right": "20px",
    "top": "88px",
    "width": "350px"
   },
   "types_to_exclude": [
    "module",
    "function",
    "builtin_function_or_method",
    "instance",
    "_Feature"
   ],
   "window_display": true
  },
  "vscode": {
   "interpreter": {
    "hash": "b8ba948fa08a5c6dfff423b8dd49f2d23c3d7ab639d230d74f782c11175b2ae1"
   }
  }
 },
 "nbformat": 4,
 "nbformat_minor": 5
}
