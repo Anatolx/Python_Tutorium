{
 "cells": [
  {
   "cell_type": "markdown",
   "id": "gothic-bennett",
   "metadata": {},
   "source": [
    "https://www.youtube.com/watch?v=Bg9r_yLk7VY"
   ]
  },
  {
   "cell_type": "markdown",
   "id": "mature-transfer",
   "metadata": {},
   "source": [
    "# Build A Python App that tracks Amazon Prices"
   ]
  },
  {
   "cell_type": "code",
   "execution_count": null,
   "id": "designing-devices",
   "metadata": {},
   "outputs": [],
   "source": [
    "#pip install requests bs4"
   ]
  },
  {
   "cell_type": "code",
   "execution_count": null,
   "id": "future-location",
   "metadata": {},
   "outputs": [],
   "source": [
    "import requests\n",
    "from bs4 import BeautifulSoup\n",
    "import  re "
   ]
  },
  {
   "cell_type": "code",
   "execution_count": null,
   "id": "living-shelf",
   "metadata": {},
   "outputs": [],
   "source": [
    "URL = 'https://www.amazon.de/Ooni-Outdoor-Oven-Germany-Only/dp/B07TD4VKSZ/ref=sr_1_4?__mk_de_DE=%C3%85M%C3%85%C5%BD%C3%95%C3%91&dchild=1&keywords=ooni&qid=1621870392&sr=8-4'"
   ]
  },
  {
   "cell_type": "code",
   "execution_count": null,
   "id": "worldwide-genealogy",
   "metadata": {},
   "outputs": [],
   "source": [
    "headers = {\"User-Agent\": \"Mozilla/5.0 (Windows NT 10.0; Win64; x64; rv:88.0) Gecko/20100101 Firefox/88.0\"}"
   ]
  },
  {
   "cell_type": "code",
   "execution_count": null,
   "id": "possible-command",
   "metadata": {},
   "outputs": [],
   "source": [
    "page = requests.get(URL, headers=headers)"
   ]
  },
  {
   "cell_type": "code",
   "execution_count": null,
   "id": "loved-calculation",
   "metadata": {},
   "outputs": [],
   "source": [
    "soup=BeautifulSoup(page.content, 'html.parser')"
   ]
  },
  {
   "cell_type": "code",
   "execution_count": null,
   "id": "checked-pharmacology",
   "metadata": {},
   "outputs": [],
   "source": [
    "title = soup.find(id=\"productTitle\").get_text().strip()"
   ]
  },
  {
   "cell_type": "code",
   "execution_count": null,
   "id": "signed-encoding",
   "metadata": {},
   "outputs": [],
   "source": [
    "print(title)"
   ]
  },
  {
   "cell_type": "code",
   "execution_count": null,
   "id": "verified-anchor",
   "metadata": {},
   "outputs": [],
   "source": [
    "price=soup.find(id='priceblock_ourprice').get_text()"
   ]
  },
  {
   "cell_type": "code",
   "execution_count": null,
   "id": "economic-papua",
   "metadata": {},
   "outputs": [],
   "source": [
    "price"
   ]
  },
  {
   "cell_type": "code",
   "execution_count": null,
   "id": "interior-classification",
   "metadata": {},
   "outputs": [],
   "source": [
    "converted_price=float(price.split(',')[0]+'.'+price.split(',')[1][0:2])\n",
    "converted_price"
   ]
  },
  {
   "cell_type": "code",
   "execution_count": null,
   "id": "secret-priest",
   "metadata": {},
   "outputs": [],
   "source": [
    "#def send_mail():\n",
    "    "
   ]
  },
  {
   "cell_type": "code",
   "execution_count": null,
   "id": "overhead-variation",
   "metadata": {},
   "outputs": [],
   "source": [
    "print('Der Preis für '+ title +' liegt heute bei '+str(converted_price)+' €!')\n",
    "if converted_price < 300:\n",
    "    print('Preis ist niedrig!')\n",
    "    #send_mail()"
   ]
  },
  {
   "cell_type": "markdown",
   "id": "behavioral-graham",
   "metadata": {},
   "source": [
    "# Jetzt als Funktion:"
   ]
  },
  {
   "cell_type": "code",
   "execution_count": null,
   "id": "loose-cinema",
   "metadata": {},
   "outputs": [],
   "source": [
    "import requests\n",
    "from bs4 import BeautifulSoup\n",
    "import  re "
   ]
  },
  {
   "cell_type": "code",
   "execution_count": null,
   "id": "affected-january",
   "metadata": {},
   "outputs": [],
   "source": [
    "def Preischecker_Ooni():\n",
    "    URL = 'https://www.amazon.de/Ooni-Outdoor-Oven-Germany-Only/dp/B07TD4VKSZ/ref=sr_1_4?__mk_de_DE=%C3%85M%C3%85%C5%BD%C3%95%C3%91&dchild=1&keywords=ooni&qid=1621870392&sr=8-4'\n",
    "    headers = {\"User-Agent\": \"Mozilla/5.0 (Windows NT 10.0; Win64; x64; rv:88.0) Gecko/20100101 Firefox/88.0\"}\n",
    "    page = requests.get(URL, headers=headers)\n",
    "\n",
    "    soup=BeautifulSoup(page.content, 'html.parser')\n",
    "\n",
    "    title = soup.find(id=\"productTitle\").get_text().strip()\n",
    "\n",
    "    #print(title)\n",
    "\n",
    "    price=soup.find(id='priceblock_ourprice').get_text()\n",
    "\n",
    "    price\n",
    "\n",
    "    converted_price=float(price.split(',')[0]+'.'+price.split(',')[1][0:2])\n",
    "    converted_price\n",
    "\n",
    "    #def send_mail():\n",
    "\n",
    "\n",
    "    print('Der Preis für '+ title +' liegt heute bei '+str(converted_price)+' €!')\n",
    "    if converted_price < 300:\n",
    "        print('Preis ist niedrig!')\n",
    "        #send_mail()"
   ]
  },
  {
   "cell_type": "code",
   "execution_count": null,
   "id": "insured-corps",
   "metadata": {},
   "outputs": [],
   "source": [
    "Preischecker_Ooni()"
   ]
  },
  {
   "cell_type": "code",
   "execution_count": null,
   "id": "finite-guarantee",
   "metadata": {},
   "outputs": [],
   "source": [
    "import time"
   ]
  },
  {
   "cell_type": "code",
   "execution_count": null,
   "id": "marine-fortune",
   "metadata": {},
   "outputs": [],
   "source": [
    "#Jede Stunde einmal checken!\n",
    "while(True):\n",
    "    Preischecker_Ooni()\n",
    "    time.sleep(60*60)"
   ]
  },
  {
   "cell_type": "code",
   "execution_count": null,
   "id": "upper-vienna",
   "metadata": {},
   "outputs": [],
   "source": []
  }
 ],
 "metadata": {
  "kernelspec": {
   "display_name": "Python 3 (ipykernel)",
   "language": "python",
   "name": "python3"
  },
  "language_info": {
   "codemirror_mode": {
    "name": "ipython",
    "version": 3
   },
   "file_extension": ".py",
   "mimetype": "text/x-python",
   "name": "python",
   "nbconvert_exporter": "python",
   "pygments_lexer": "ipython3",
   "version": "3.8.11"
  }
 },
 "nbformat": 4,
 "nbformat_minor": 5
}
