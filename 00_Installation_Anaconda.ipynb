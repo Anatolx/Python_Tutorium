{
 "cells": [
  {
   "cell_type": "markdown",
   "metadata": {},
   "source": [
    "# Installation von Anaconda und Python\n",
    "\n",
    "# Anaconda:\n",
    "\n",
    "- Plattform zur Installation von virtuellen Python Umgebungen und Software auf Windows, Mac und Linux\n",
    "    - Unterschiedliche Projekte/Arbeiten benötigen verschiedene Pakete und Programme\n",
    "    - einfache Verwaltungen von diesen Pakete und Programme und keine Versionsprobleme\n",
    "\n",
    "### Installation:\n",
    "\n",
    "[Installation - Anaconda documentation](https://docs.anaconda.com/anaconda/install/index.html)\n",
    "\n",
    "Windows: [https://docs.anaconda.com/anaconda/install/windows/](https://docs.anaconda.com/anaconda/install/windows/)\n",
    "\n",
    "Mac: [https://docs.anaconda.com/anaconda/install/mac-os/](https://docs.anaconda.com/anaconda/install/mac-os/)\n",
    "\n",
    "Linux: [https://docs.anaconda.com/anaconda/install/linux/](https://docs.anaconda.com/anaconda/install/linux/) \n",
    "\n",
    "Install Anaconda to a directory path that does not contain spaces or unicode characters.\n",
    "\n",
    "Sehr gute Videoanleitung:\n",
    "\n",
    "[https://www.youtube.com/watch?v=C4OPn58BLaU](https://www.youtube.com/watch?v=C4OPn58BLaU)\n",
    "\n",
    "### Benutzung:\n",
    "\n",
    "2 verschiedene Arten von Benutzung: \n",
    "\n",
    "1. Anaconda Prompt (Commandozeile) \n",
    "2. Anaconda Navigator\n",
    "\n",
    "[Getting started with conda - conda 4.10.3.post38+0b1312ce documentation](https://conda.io/projects/conda/en/latest/user-guide/getting-started.html)\n",
    "\n",
    "wichtige Funktionen:\n",
    "\n",
    "[](https://docs.conda.io/projects/conda/en/4.6.0/_downloads/52a95608c49671267e40c689e0bc00ca/conda-cheatsheet.pdf)\n",
    "\n",
    "- Virtuelle Umgebung erstellen: `conda create --name UMGEBUNG python=3.5`\n",
    "- Umgebungen anzeigen: `conda env list`\n",
    "- Umgebung aktivieren: `conda activate UMGEBUNG`\n",
    "- Package installieren: `conda install PACKAGENAME`\n",
    "- Package installieren von PyPl (pip): `pip install PACKAGENAME`\n",
    "- Jupyter Lab starten: `jupyter lab`\n",
    "- Jupyter Notebook starten: `jupyter notebook`\n",
    "\n",
    "### Normaler Ablauf:\n",
    "\n",
    "EINMAL:\n",
    "\n",
    "1. Virtuelle Umgebung erstellen\n",
    "2. Umgebung aktivieren\n",
    "3. benötigte Software und Packages installieren\n",
    "\n",
    "JEDES MAL:\n",
    "\n",
    "1. Anaconda Prompt über Programme starten\n",
    "2. Umgebung aktivieren\n",
    "3. Programme starten\n",
    "4. ggf. weitere Packages installieren"
   ]
  },
  {
   "cell_type": "code",
   "execution_count": null,
   "metadata": {},
   "outputs": [],
   "source": []
  }
 ],
 "metadata": {
  "kernelspec": {
   "display_name": "Python 3",
   "language": "python",
   "name": "python3"
  },
  "language_info": {
   "codemirror_mode": {
    "name": "ipython",
    "version": 3
   },
   "file_extension": ".py",
   "mimetype": "text/x-python",
   "name": "python",
   "nbconvert_exporter": "python",
   "pygments_lexer": "ipython3",
   "version": "3.7.3"
  }
 },
 "nbformat": 4,
 "nbformat_minor": 4
}
