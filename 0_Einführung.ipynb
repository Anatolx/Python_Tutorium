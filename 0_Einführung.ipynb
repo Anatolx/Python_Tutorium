{
 "cells": [
  {
   "cell_type": "markdown",
   "id": "formed-pocket",
   "metadata": {
    "slideshow": {
     "slide_type": "slide"
    }
   },
   "source": [
    "# Willkommen zum Vorkurs *'Python und Jupyter Notebooks für Ingenieure'*!\n",
    "Wir freuen uns, euch einen Einblick in die Verwendung von Python im Rahmen des Studiums zu geben und einen ersten Eistieg zu schaffen. Besonders wichtig ist es uns, euch zu zeigen wie man eigenständig Lösungen für etwaige neue Aufgabenstellungen und Probleme findet."
   ]
  },
  {
   "cell_type": "markdown",
   "id": "84629ec8",
   "metadata": {},
   "source": [
    "# Ziel dieses Kurses\n",
    "\n",
    "*Python* als Tool:\n",
    "- Berechnungen\n",
    "- Auswertung und Visualisierung von Daten\n",
    "- Visualisierung und Verständnis von Mathematik\n",
    "\n",
    "Ausblick: Automatisierungsaufgaben, Datasicence, KI, ..."
   ]
  },
  {
   "cell_type": "markdown",
   "id": "ca64f10d",
   "metadata": {},
   "source": [
    "\n",
    "### 1 Python\n",
    "\n",
    "- Was ist Python?\n",
    "- Warum Python?\n",
    "- Eigene / fremde Anwendungsbeispiele\n",
    "- Vorteile gegenüber Excel\n",
    "\n",
    "### 2 Grundfunktionen (kleine Übungen, vorgestellt als Grundlagensammlung)\n",
    "\n",
    "- Bedienung Jupyter Hub\n",
    "- Bedienung Jupyter Notebooks\n",
    "- Variablen\n",
    "- Einfache Berechnungen\n",
    "- Datentypen\n",
    "    - Listen\n",
    "    - dictionaries\n",
    "    - dataframes\n",
    "- Schleifen und Konditionen\n",
    "- Funktionen"
   ]
  },
  {
   "cell_type": "markdown",
   "id": "e001c3dc",
   "metadata": {},
   "source": [
    "## Python als Tool in der Mathematik\n",
    "\n",
    "### 3_1 Grafikfähiger Taschenrechner \n",
    "- Überblick und Grundlagen zur Nutzung von Python für mathematische Anwendungen\n",
    "\n",
    "### 3_2 Mathematik-Vorkurs\n",
    "- Lösen der aus dem Vorkurs bekannten Mathematikaufgaben mit Python\n",
    "\n"
   ]
  },
  {
   "cell_type": "markdown",
   "id": "b201e83c",
   "metadata": {},
   "source": [
    "## Datascience\n",
    "### 4_1 Data Filtering (Grundlagen)\n",
    "- Einführung in das Filtern von Daten\n",
    "- Aufgabe zur Extraktion von Informationen und Zusammenhängen aus einem Datensatz\n",
    "\n",
    "### 4_2 Titanic-Dataset\n",
    "- Aufgabe am Titanic-Dataset\n",
    "\n",
    "### 4_3 World Happiness Report\n",
    "- World Happiness-Report mit einigen Beispielen\n",
    "\n",
    "### 4_4 Weitere interessante Datensätze zur eigenen Beschäftigung"
   ]
  },
  {
   "cell_type": "markdown",
   "id": "c5b6402c",
   "metadata": {},
   "source": [
    "## Python als Tool zur Auswertung von Messdaten\n",
    "### 5_1 Datenauswertung\n",
    "- physikalische Daten auswerten\n",
    "\n",
    "### 5_2 Aufzug Auswertung\n",
    "- Auswertung von Messdaten aus einer Aufzugfahrt\n",
    "\n",
    "### 5_3 Automatisches Einlesen und Auswerten\n",
    "\n"
   ]
  },
  {
   "cell_type": "markdown",
   "id": "5585f15a",
   "metadata": {},
   "source": [
    "## Sonstiges / Ausblick\n",
    "\n",
    "### 6_3 Webscraper\n",
    "### 6_4 Motion_Detector\n"
   ]
  }
 ],
 "metadata": {
  "celltoolbar": "Slideshow",
  "kernelspec": {
   "display_name": "Python 3 (ipykernel)",
   "language": "python",
   "name": "python3"
  },
  "language_info": {
   "codemirror_mode": {
    "name": "ipython",
    "version": 3
   },
   "file_extension": ".py",
   "mimetype": "text/x-python",
   "name": "python",
   "nbconvert_exporter": "python",
   "pygments_lexer": "ipython3",
   "version": "3.9.13"
  },
  "varInspector": {
   "cols": {
    "lenName": 16,
    "lenType": 16,
    "lenVar": 40
   },
   "kernels_config": {
    "python": {
     "delete_cmd_postfix": "",
     "delete_cmd_prefix": "del ",
     "library": "var_list.py",
     "varRefreshCmd": "print(var_dic_list())"
    },
    "r": {
     "delete_cmd_postfix": ") ",
     "delete_cmd_prefix": "rm(",
     "library": "var_list.r",
     "varRefreshCmd": "cat(var_dic_list()) "
    }
   },
   "types_to_exclude": [
    "module",
    "function",
    "builtin_function_or_method",
    "instance",
    "_Feature"
   ],
   "window_display": true
  }
 },
 "nbformat": 4,
 "nbformat_minor": 5
}
